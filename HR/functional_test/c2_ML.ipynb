{
 "cells": [
  {
   "cell_type": "code",
   "execution_count": 1,
   "metadata": {},
   "outputs": [],
   "source": [
    "from __future__ import print_function, division\n",
    "from sympy import *\n",
    "import ast\n",
    "import numpy as np\n",
    "import matplotlib.pyplot as plt\n",
    "#from brokenaxes import brokenaxes\n",
    "#from numba import jit"
   ]
  },
  {
   "cell_type": "code",
   "execution_count": 2,
   "metadata": {},
   "outputs": [],
   "source": [
    "from matplotlib import rc\n",
    "rc('font',**{'family':'sans-serif','sans-serif':['Helvetica']})\n",
    "rc('text', usetex=True)"
   ]
  },
  {
   "cell_type": "code",
   "execution_count": 3,
   "metadata": {},
   "outputs": [],
   "source": [
    "name = \"free_energy_def.dat\"\n",
    "tmp = open(name, \"r\")\n",
    "tmp=tmp.read()\n",
    "exec(tmp)"
   ]
  },
  {
   "cell_type": "code",
   "execution_count": 4,
   "metadata": {},
   "outputs": [
    {
     "data": {
      "text/plain": [
       "'def fed_eqn():\\n     return sa2L3*(sa1L10*sn1 + sa1L11*sn2 + sa1L9*sn0)*(sa1L12*sn0 + sa1L13*sn1 + sa1L14*sn2) + sa2L4*(sa1L15*sn0 + sa1L16*sn1 + sa1L17*sn2)*(sa1L18*sn0 + sa1L19*sn1 + sa1L20*sn2) + sa2L5*(sa1L21*sn0 + sa1L22*sn1 + sa1L23*sn2)*(sa1L24*sn0 + sa1L25*sn1 + sa1L26*sn2) + sa2L6*(sa1L27*sn0 + sa1L28*sn1 + sa1L29*sn2)/(sa1L30*sn0 + sa1L31*sn1 + sa1L32*sn2 + 1) + (sa2L21*(sa1L0*sn0 + sa1L1*sn1 + sa1L2*sn2) + sa2L22*(exp(sa1L3*sn0 + sa1L4*sn1 + sa1L5*sn2) - 1) + sa2L23*log(sa1L6*sn0 + sa1L7*sn1 + sa1L8*sn2 + 1) + sa2L24*(sa1L10*sn1 + sa1L11*sn2 + sa1L9*sn0)*(sa1L12*sn0 + sa1L13*sn1 + sa1L14*sn2) + sa2L25*(sa1L15*sn0 + sa1L16*sn1 + sa1L17*sn2)*(sa1L18*sn0 + sa1L19*sn1 + sa1L20*sn2) + sa2L26*(sa1L21*sn0 + sa1L22*sn1 + sa1L23*sn2)*(sa1L24*sn0 + sa1L25*sn1 + sa1L26*sn2) + sa2L27*(sa1L27*sn0 + sa1L28*sn1 + sa1L29*sn2)/(sa1L30*sn0 + sa1L31*sn1 + sa1L32*sn2 + 1))*(sa2L28*(sa1L0*sn0 + sa1L1*sn1 + sa1L2*sn2) + sa2L29*(exp(sa1L3*sn0 + sa1L4*sn1 + sa1L5*sn2) - 1) + sa2L30*log(sa1L6*sn0 + sa1L7*sn1 + sa1L8*sn2 + 1) + sa2L31*(sa1L10*sn1 + sa1L11*sn2 + sa1L9*sn0)*(sa1L12*sn0 + sa1L13*sn1 + sa1L14*sn2) + sa2L32*(sa1L15*sn0 + sa1L16*sn1 + sa1L17*sn2)*(sa1L18*sn0 + sa1L19*sn1 + sa1L20*sn2) + sa2L33*(sa1L21*sn0 + sa1L22*sn1 + sa1L23*sn2)*(sa1L24*sn0 + sa1L25*sn1 + sa1L26*sn2) + sa2L34*(sa1L27*sn0 + sa1L28*sn1 + sa1L29*sn2)/(sa1L30*sn0 + sa1L31*sn1 + sa1L32*sn2 + 1)) + (sa2L35*(sa1L0*sn0 + sa1L1*sn1 + sa1L2*sn2) + sa2L36*(exp(sa1L3*sn0 + sa1L4*sn1 + sa1L5*sn2) - 1) + sa2L37*log(sa1L6*sn0 + sa1L7*sn1 + sa1L8*sn2 + 1) + sa2L38*(sa1L10*sn1 + sa1L11*sn2 + sa1L9*sn0)*(sa1L12*sn0 + sa1L13*sn1 + sa1L14*sn2) + sa2L39*(sa1L15*sn0 + sa1L16*sn1 + sa1L17*sn2)*(sa1L18*sn0 + sa1L19*sn1 + sa1L20*sn2) + sa2L40*(sa1L21*sn0 + sa1L22*sn1 + sa1L23*sn2)*(sa1L24*sn0 + sa1L25*sn1 + sa1L26*sn2) + sa2L41*(sa1L27*sn0 + sa1L28*sn1 + sa1L29*sn2)/(sa1L30*sn0 + sa1L31*sn1 + sa1L32*sn2 + 1))*(sa2L42*(sa1L0*sn0 + sa1L1*sn1 + sa1L2*sn2) + sa2L43*(exp(sa1L3*sn0 + sa1L4*sn1 + sa1L5*sn2) - 1) + sa2L44*log(sa1L6*sn0 + sa1L7*sn1 + sa1L8*sn2 + 1) + sa2L45*(sa1L10*sn1 + sa1L11*sn2 + sa1L9*sn0)*(sa1L12*sn0 + sa1L13*sn1 + sa1L14*sn2) + sa2L46*(sa1L15*sn0 + sa1L16*sn1 + sa1L17*sn2)*(sa1L18*sn0 + sa1L19*sn1 + sa1L20*sn2) + sa2L47*(sa1L21*sn0 + sa1L22*sn1 + sa1L23*sn2)*(sa1L24*sn0 + sa1L25*sn1 + sa1L26*sn2) + sa2L48*(sa1L27*sn0 + sa1L28*sn1 + sa1L29*sn2)/(sa1L30*sn0 + sa1L31*sn1 + sa1L32*sn2 + 1)) + (sa2L49*(sa1L0*sn0 + sa1L1*sn1 + sa1L2*sn2) + sa2L50*(exp(sa1L3*sn0 + sa1L4*sn1 + sa1L5*sn2) - 1) + sa2L51*log(sa1L6*sn0 + sa1L7*sn1 + sa1L8*sn2 + 1) + sa2L52*(sa1L10*sn1 + sa1L11*sn2 + sa1L9*sn0)*(sa1L12*sn0 + sa1L13*sn1 + sa1L14*sn2) + sa2L53*(sa1L15*sn0 + sa1L16*sn1 + sa1L17*sn2)*(sa1L18*sn0 + sa1L19*sn1 + sa1L20*sn2) + sa2L54*(sa1L21*sn0 + sa1L22*sn1 + sa1L23*sn2)*(sa1L24*sn0 + sa1L25*sn1 + sa1L26*sn2) + sa2L55*(sa1L27*sn0 + sa1L28*sn1 + sa1L29*sn2)/(sa1L30*sn0 + sa1L31*sn1 + sa1L32*sn2 + 1))*(sa2L56*(sa1L0*sn0 + sa1L1*sn1 + sa1L2*sn2) + sa2L57*(exp(sa1L3*sn0 + sa1L4*sn1 + sa1L5*sn2) - 1) + sa2L58*log(sa1L6*sn0 + sa1L7*sn1 + sa1L8*sn2 + 1) + sa2L59*(sa1L10*sn1 + sa1L11*sn2 + sa1L9*sn0)*(sa1L12*sn0 + sa1L13*sn1 + sa1L14*sn2) + sa2L60*(sa1L15*sn0 + sa1L16*sn1 + sa1L17*sn2)*(sa1L18*sn0 + sa1L19*sn1 + sa1L20*sn2) + sa2L61*(sa1L21*sn0 + sa1L22*sn1 + sa1L23*sn2)*(sa1L24*sn0 + sa1L25*sn1 + sa1L26*sn2) + sa2L62*(sa1L27*sn0 + sa1L28*sn1 + sa1L29*sn2)/(sa1L30*sn0 + sa1L31*sn1 + sa1L32*sn2 + 1)) + (sa2L63*(sa1L0*sn0 + sa1L1*sn1 + sa1L2*sn2) + sa2L64*(exp(sa1L3*sn0 + sa1L4*sn1 + sa1L5*sn2) - 1) + sa2L65*log(sa1L6*sn0 + sa1L7*sn1 + sa1L8*sn2 + 1) + sa2L66*(sa1L10*sn1 + sa1L11*sn2 + sa1L9*sn0)*(sa1L12*sn0 + sa1L13*sn1 + sa1L14*sn2) + sa2L67*(sa1L15*sn0 + sa1L16*sn1 + sa1L17*sn2)*(sa1L18*sn0 + sa1L19*sn1 + sa1L20*sn2) + sa2L68*(sa1L21*sn0 + sa1L22*sn1 + sa1L23*sn2)*(sa1L24*sn0 + sa1L25*sn1 + sa1L26*sn2) + sa2L69*(sa1L27*sn0 + sa1L28*sn1 + sa1L29*sn2)/(sa1L30*sn0 + sa1L31*sn1 + sa1L32*sn2 + 1))/(sa2L70*(sa1L0*sn0 + sa1L1*sn1 + sa1L2*sn2) + sa2L71*(exp(sa1L3*sn0 + sa1L4*sn1 + sa1L5*sn2) - 1) + sa2L72*log(sa1L6*sn0 + sa1L7*sn1 + sa1L8*sn2 + 1) + sa2L73*(sa1L10*sn1 + sa1L11*sn2 + sa1L9*sn0)*(sa1L12*sn0 + sa1L13*sn1 + sa1L14*sn2) + sa2L74*(sa1L15*sn0 + sa1L16*sn1 + sa1L17*sn2)*(sa1L18*sn0 + sa1L19*sn1 + sa1L20*sn2) + sa2L75*(sa1L21*sn0 + sa1L22*sn1 + sa1L23*sn2)*(sa1L24*sn0 + sa1L25*sn1 + sa1L26*sn2) + sa2L76*(sa1L27*sn0 + sa1L28*sn1 + sa1L29*sn2)/(sa1L30*sn0 + sa1L31*sn1 + sa1L32*sn2 + 1) + 1) + exp(sa2L10*(sa1L10*sn1 + sa1L11*sn2 + sa1L9*sn0)*(sa1L12*sn0 + sa1L13*sn1 + sa1L14*sn2) + sa2L11*(sa1L15*sn0 + sa1L16*sn1 + sa1L17*sn2)*(sa1L18*sn0 + sa1L19*sn1 + sa1L20*sn2) + sa2L12*(sa1L21*sn0 + sa1L22*sn1 + sa1L23*sn2)*(sa1L24*sn0 + sa1L25*sn1 + sa1L26*sn2) + sa2L13*(sa1L27*sn0 + sa1L28*sn1 + sa1L29*sn2)/(sa1L30*sn0 + sa1L31*sn1 + sa1L32*sn2 + 1)) + log(sa2L17*(sa1L10*sn1 + sa1L11*sn2 + sa1L9*sn0)*(sa1L12*sn0 + sa1L13*sn1 + sa1L14*sn2) + sa2L18*(sa1L15*sn0 + sa1L16*sn1 + sa1L17*sn2)*(sa1L18*sn0 + sa1L19*sn1 + sa1L20*sn2) + sa2L19*(sa1L21*sn0 + sa1L22*sn1 + sa1L23*sn2)*(sa1L24*sn0 + sa1L25*sn1 + sa1L26*sn2) + sa2L20*(sa1L27*sn0 + sa1L28*sn1 + sa1L29*sn2)/(sa1L30*sn0 + sa1L31*sn1 + sa1L32*sn2 + 1) + 1) - 1\\n'"
      ]
     },
     "execution_count": 4,
     "metadata": {},
     "output_type": "execute_result"
    }
   ],
   "source": [
    "tmp"
   ]
  },
  {
   "cell_type": "code",
   "execution_count": 5,
   "metadata": {},
   "outputs": [],
   "source": [
    "name = \"assign_symbols_final.dat\"\n",
    "tmp = open(name, \"r\")\n",
    "tmp=tmp.read()\n",
    "exec(tmp)"
   ]
  },
  {
   "cell_type": "code",
   "execution_count": 6,
   "metadata": {},
   "outputs": [],
   "source": [
    "w_array = np.loadtxt(\"w_array.dat\")"
   ]
  },
  {
   "cell_type": "code",
   "execution_count": 7,
   "metadata": {},
   "outputs": [
    {
     "data": {
      "text/plain": [
       "257"
      ]
     },
     "execution_count": 7,
     "metadata": {},
     "output_type": "execute_result"
    }
   ],
   "source": [
    "len(w_array[0])"
   ]
  },
  {
   "cell_type": "code",
   "execution_count": 8,
   "metadata": {},
   "outputs": [
    {
     "name": "stdout",
     "output_type": "stream",
     "text": [
      "0 257 3 0.05\n"
     ]
    }
   ],
   "source": [
    "name = \"ML_parameter.dat\" #load n_conv, con_dim,kill (killsmall)\n",
    "tmp = open(name, \"r\")\n",
    "tmp=tmp.read()\n",
    "exec(tmp)\n",
    "kill=float(kill)\n",
    "print(n_parameter,conv_dim,n_conv,kill)"
   ]
  },
  {
   "cell_type": "code",
   "execution_count": 9,
   "metadata": {},
   "outputs": [
    {
     "name": "stdout",
     "output_type": "stream",
     "text": [
      "1024 32.0 0.03125\n"
     ]
    }
   ],
   "source": [
    "data_file = '../HR_data/'\n",
    "f=np.loadtxt(data_file+\"parameter.dat\")\n",
    "L = float(f[0])\n",
    "N = int(f[1])\n",
    "dx = (L/N)\n",
    "print(N,L,dx)"
   ]
  },
  {
   "cell_type": "code",
   "execution_count": 10,
   "metadata": {},
   "outputs": [],
   "source": [
    "#for i in range (len(w_array)):\n",
    "#    w_array[i][0:int(2//dx)]=0\n",
    "#    w_array[i][conv_dim-int(2//dx):conv_dim]=0\n",
    "    "
   ]
  },
  {
   "cell_type": "code",
   "execution_count": 11,
   "metadata": {},
   "outputs": [],
   "source": [
    "name = \"all_parameter_2.dat\"\n",
    "tmp = open(name, \"r\")\n",
    "tmp=tmp.read()\n",
    "#print(tmp)\n",
    "tmp=tmp.replace(\"/varible:0\",\":\")\n",
    "tmp=tmp.replace(\"/const_1:0\",\":\")\n",
    "\n",
    "for i in range(100):\n",
    "    tmp=tmp.replace(\"_\"+str(i),\"\")\n",
    "tmp=tmp.replace(\"[[\",\"\")\n",
    "tmp=tmp.replace(\"]]\",\"\")\n",
    "tmp=tmp.replace(\"\\n\",\",\")\n",
    "tmp=tmp.replace(\":\",\"\\\":\")\n",
    "tmp=tmp.replace(\",\",\",\\\"\")\n",
    "tmp=\"{\\\"\"+tmp+\"}\"\n",
    "tmp=tmp.replace(\",\\\"}\",\"}\")\n",
    "#print(tmp)\n",
    "dict_all=ast.literal_eval(tmp)"
   ]
  },
  {
   "cell_type": "code",
   "execution_count": 12,
   "metadata": {},
   "outputs": [
    {
     "name": "stdout",
     "output_type": "stream",
     "text": [
      "101 72\n"
     ]
    }
   ],
   "source": [
    "kill_small=0\n",
    "for i in list(dict_all.keys()):\n",
    "    if(np.abs(dict_all[i])<kill and i[0]==\"a\"):\n",
    "        dict_all[i]=0\n",
    "        kill_small+=1\n",
    "print(len(dict_all.keys()),kill_small)"
   ]
  },
  {
   "cell_type": "code",
   "execution_count": 13,
   "metadata": {},
   "outputs": [],
   "source": [
    "input_symbols = fed_eqn().subs(dict_all).free_symbols"
   ]
  },
  {
   "cell_type": "code",
   "execution_count": 14,
   "metadata": {},
   "outputs": [],
   "source": [
    "input_str = \"[\"\n",
    "for i in range(n_parameter):\n",
    "    input_str+=\"seps\"+str(i)+\",\"\n",
    "for i in range(n_conv):\n",
    "    input_str+=\"sn\"+str(i)+\",\"\n",
    "input_str += \"]\"\n",
    "tmp = \"input_str=\"+input_str\n",
    "exec(tmp)"
   ]
  },
  {
   "cell_type": "code",
   "execution_count": 15,
   "metadata": {},
   "outputs": [
    {
     "data": {
      "text/plain": [
       "[[n0, n1, n2]]"
      ]
     },
     "execution_count": 15,
     "metadata": {},
     "output_type": "execute_result"
    }
   ],
   "source": [
    "[input_str]"
   ]
  },
  {
   "cell_type": "code",
   "execution_count": 16,
   "metadata": {},
   "outputs": [],
   "source": [
    "fd = lambdify(input_str,fed_eqn().subs(dict_all))"
   ]
  },
  {
   "cell_type": "code",
   "execution_count": 17,
   "metadata": {},
   "outputs": [
    {
     "data": {
      "text/plain": [
       "<function _lambdifygenerated(n0, n1, n2)>"
      ]
     },
     "execution_count": 17,
     "metadata": {},
     "output_type": "execute_result"
    }
   ],
   "source": [
    "fd"
   ]
  },
  {
   "cell_type": "code",
   "execution_count": 18,
   "metadata": {},
   "outputs": [],
   "source": [
    "#simplify(diff(fed_eqn().subs(dict_all),sn0)-diff(fed_eqn(),sn0).subs(dict_all))"
   ]
  },
  {
   "cell_type": "code",
   "execution_count": 19,
   "metadata": {},
   "outputs": [
    {
     "name": "stdout",
     "output_type": "stream",
     "text": [
      "fd_n0 =lambdify(input_str,diff(fed_eqn(),sn0).subs(dict_all))\n",
      "fd_n1 =lambdify(input_str,diff(fed_eqn(),sn1).subs(dict_all))\n",
      "fd_n2 =lambdify(input_str,diff(fed_eqn(),sn2).subs(dict_all))\n"
     ]
    }
   ],
   "source": [
    "for i in range(n_conv):\n",
    "    eqn_str = \"fd_n\"+str(i)+\" =lambdify(input_str,diff(fed_eqn(),sn\"+str(i)+\").subs(dict_all))\"\n",
    "    print(eqn_str)\n",
    "    exec(eqn_str)"
   ]
  },
  {
   "cell_type": "markdown",
   "metadata": {},
   "source": [
    "# $C_2=-\\frac{\\delta^2 F}{\\delta \\rho(x_1)\\delta \\rho(x_2)}$\n",
    " homogenous $C_2\\rightarrow-\\sum_{ij}\\frac{\\partial^2 f}{\\partial n_i \\partial n_j}\\omega_i\\ast\\omega_j$"
   ]
  },
  {
   "cell_type": "code",
   "execution_count": 20,
   "metadata": {},
   "outputs": [],
   "source": [
    "def cal_c2_FMT(x,rho0):\n",
    "    c2 = np.zeros(x.shape[0])\n",
    "    for i in range(Lw):\n",
    "        r=np.abs(x[i])\n",
    "        eta = rho0\n",
    "        if(r<1):\n",
    "            c2[i]=-1/(1-eta)-eta/((1-eta)**2)*(1-r)\n",
    "        else:\n",
    "            c2[i]=0\n",
    "    return c2\n",
    "    "
   ]
  },
  {
   "cell_type": "code",
   "execution_count": 21,
   "metadata": {},
   "outputs": [],
   "source": [
    "def wconvw (rho,w):\n",
    "    Lw=conv_dim\n",
    "    LLw = int((conv_dim-1)/2)\n",
    "    rho_pad=np.copy(rho)\n",
    "    rho_pad=np.pad(rho_pad,(LLw,LLw),mode='constant',constant_values=0)\n",
    "    n = np.correlate(rho_pad,w)\n",
    "    return n*dx"
   ]
  },
  {
   "cell_type": "code",
   "execution_count": 22,
   "metadata": {},
   "outputs": [
    {
     "data": {
      "text/plain": [
       "<function _lambdifygenerated(n0, n1, n2)>"
      ]
     },
     "execution_count": 22,
     "metadata": {},
     "output_type": "execute_result"
    }
   ],
   "source": [
    "fd"
   ]
  },
  {
   "cell_type": "code",
   "execution_count": 23,
   "metadata": {},
   "outputs": [],
   "source": [
    "def cal_c2_ML(rho0):\n",
    "    srho0=symbols('rho') \n",
    "    sub_str = \"({\"\n",
    "    for i in range (n_conv):\n",
    "        sub_str+=\"\\\"n\"+str(i)+\"\\\":np.sum(w_array[\"+str(i)+\"])*dx*srho0\"\n",
    "        if(i!=n_conv-1):\n",
    "            sub_str+=\",\"\n",
    "    sub_str += \"})\"\n",
    "    fd=fed_eqn().subs(dict_all)\n",
    "    c2 = np.zeros(conv_dim)\n",
    "    for i in range (n_conv):\n",
    "        for j in range (n_conv):\n",
    "            print(i,j,n_conv)\n",
    "            temp=wconvw(w_array[i],w_array[j])\n",
    "            str_temp= \"diff(diff(fd,sn\"+str(i)+\"),sn\"+str(j)+\").subs\"+sub_str\n",
    "            tmp=eval(str_temp)\n",
    "            tmp=float(tmp.subs({\"rho\":rho0}))\n",
    "            #print(type(tmp),tmp)\n",
    "            #print(tmp.subs({\"rho\":rho0}))\n",
    "            #print(tmp,type(Float(tmp)),type(temp))\n",
    "            c2-=tmp*temp\n",
    "    return c2"
   ]
  },
  {
   "cell_type": "code",
   "execution_count": 24,
   "metadata": {},
   "outputs": [
    {
     "name": "stdout",
     "output_type": "stream",
     "text": [
      "0 0 3\n",
      "0 1 3\n",
      "0 2 3\n",
      "1 0 3\n",
      "1 1 3\n",
      "1 2 3\n",
      "2 0 3\n",
      "2 1 3\n",
      "2 2 3\n"
     ]
    }
   ],
   "source": [
    "c2=cal_c2_ML(0.5)"
   ]
  },
  {
   "cell_type": "code",
   "execution_count": 25,
   "metadata": {},
   "outputs": [
    {
     "name": "stdout",
     "output_type": "stream",
     "text": [
      "0 0 3\n",
      "0 1 3\n",
      "0 2 3\n",
      "1 0 3\n",
      "1 1 3\n",
      "1 2 3\n",
      "2 0 3\n",
      "2 1 3\n",
      "2 2 3\n"
     ]
    },
    {
     "data": {
      "text/plain": [
       "Text(0.5, 1.0, '$\\\\rho=0.5$')"
      ]
     },
     "execution_count": 25,
     "metadata": {},
     "output_type": "execute_result"
    },
    {
     "name": "stderr",
     "output_type": "stream",
     "text": [
      "/home/sam/anaconda3/lib/python3.6/site-packages/matplotlib/font_manager.py:1241: UserWarning: findfont: Font family ['sans-serif'] not found. Falling back to DejaVu Sans.\n",
      "  (prop.get_family(), self.defaultFamily[fontext]))\n",
      "/home/sam/anaconda3/lib/python3.6/site-packages/matplotlib/font_manager.py:1241: UserWarning: findfont: Font family ['sans-serif'] not found. Falling back to DejaVu Sans.\n",
      "  (prop.get_family(), self.defaultFamily[fontext]))\n",
      "/home/sam/anaconda3/lib/python3.6/site-packages/matplotlib/font_manager.py:1241: UserWarning: findfont: Font family ['sans-serif'] not found. Falling back to DejaVu Sans.\n",
      "  (prop.get_family(), self.defaultFamily[fontext]))\n"
     ]
    },
    {
     "data": {
      "image/png": "[encoded data removed]",
      "text/plain": [
       "<Figure size 432x288 with 1 Axes>"
      ]
     },
     "metadata": {
      "needs_background": "light"
     },
     "output_type": "display_data"
    }
   ],
   "source": [
    "Lw=conv_dim\n",
    "LLw = int((conv_dim-1)/2)\n",
    "rho0=0.5\n",
    "x = np.linspace(-LLw,LLw,Lw)*dx\n",
    "plt.plot(x,cal_c2_FMT(x,rho0),\"k-\",label=\"FMT\")\n",
    "plt.plot(x,cal_c2_ML(rho0),\"k--\",label=\"ML\")\n",
    "plt.legend(fontsize=20)\n",
    "\n",
    "plt.ylabel(r\"$C_2(x)$\",fontsize=25)\n",
    "plt.xlabel(r\"$x(\\sigma)$\",fontsize=25)\n",
    "plt.title(r\"$\\rho=\"+str(rho0)+\"$\",fontsize=25)"
   ]
  },
  {
   "cell_type": "code",
   "execution_count": 32,
   "metadata": {},
   "outputs": [
    {
     "name": "stdout",
     "output_type": "stream",
     "text": [
      "0 0 3\n",
      "0 1 3\n",
      "0 2 3\n",
      "1 0 3\n",
      "1 1 3\n",
      "1 2 3\n",
      "2 0 3\n",
      "2 1 3\n",
      "2 2 3\n",
      "0 0 3\n",
      "0 1 3\n",
      "0 2 3\n",
      "1 0 3\n",
      "1 1 3\n",
      "1 2 3\n",
      "2 0 3\n",
      "2 1 3\n",
      "2 2 3\n"
     ]
    },
    {
     "data": {
      "image/png": "[encoded data removed]",
      "text/plain": [
       "<Figure size 432x288 with 1 Axes>"
      ]
     },
     "metadata": {
      "needs_background": "light"
     },
     "output_type": "display_data"
    }
   ],
   "source": [
    "Lw=conv_dim\n",
    "LLw = int((conv_dim-1)/2)\n",
    "\n",
    "x = np.linspace(-LLw,LLw,Lw)*dx\n",
    "plt.plot(x,cal_c2_FMT(x,0.45),\"k-\",lw=3,label=r\"FMT,\\,$\\rho_0=0.45$\")\n",
    "plt.plot(x,cal_c2_ML(0.45),\"k--\",lw=3,label=\"ML\")\n",
    "plt.plot(x,cal_c2_FMT(x,0.75),\"b-\",lw=3,label=r\"FMT,\\,$\\rho_0=0.75$\")\n",
    "plt.plot(x,cal_c2_ML(0.75),\"b--\",lw=3,label=\"ML\")\n",
    "plt.legend(fontsize=12,loc=\"best\")\n",
    "\n",
    "plt.ylabel(r\"$C_2(x)$\",fontsize=25)\n",
    "plt.xlabel(r\"$x(\\sigma)$\",fontsize=25)\n",
    "plt.xticks(fontsize=15)\n",
    "plt.yticks(fontsize=15)\n",
    "#plt.title(r\"$\\rho=\"+str(rho0)+\"$\",fontsize=25)\n",
    "plt.xlim([0,2.7])    \n",
    "plt.savefig(\"c2_hr.eps\",format=\"eps\",bbox_inches='tight')"
   ]
  },
  {
   "cell_type": "code",
   "execution_count": 27,
   "metadata": {},
   "outputs": [
    {
     "name": "stdout",
     "output_type": "stream",
     "text": [
      "0 0 3\n",
      "0 1 3\n",
      "0 2 3\n",
      "1 0 3\n",
      "1 1 3\n",
      "1 2 3\n",
      "2 0 3\n",
      "2 1 3\n",
      "2 2 3\n"
     ]
    }
   ],
   "source": [
    "np.savetxt(\"ML_HR_rho0_0.70.dat\",np.stack((x,cal_c2_ML(0.7))))"
   ]
  },
  {
   "cell_type": "code",
   "execution_count": 31,
   "metadata": {},
   "outputs": [
    {
     "name": "stdout",
     "output_type": "stream",
     "text": [
      "0 0 3\n",
      "0 1 3\n",
      "0 2 3\n",
      "1 0 3\n",
      "1 1 3\n",
      "1 2 3\n",
      "2 0 3\n",
      "2 1 3\n",
      "2 2 3\n",
      "0 0 3\n",
      "0 1 3\n",
      "0 2 3\n",
      "1 0 3\n",
      "1 1 3\n",
      "1 2 3\n",
      "2 0 3\n",
      "2 1 3\n",
      "2 2 3\n",
      "0 0 3\n",
      "0 1 3\n",
      "0 2 3\n",
      "1 0 3\n",
      "1 1 3\n",
      "1 2 3\n",
      "2 0 3\n",
      "2 1 3\n",
      "2 2 3\n",
      "0 0 3\n",
      "0 1 3\n",
      "0 2 3\n",
      "1 0 3\n",
      "1 1 3\n",
      "1 2 3\n",
      "2 0 3\n",
      "2 1 3\n",
      "2 2 3\n",
      "0 0 3\n",
      "0 1 3\n",
      "0 2 3\n",
      "1 0 3\n",
      "1 1 3\n",
      "1 2 3\n",
      "2 0 3\n",
      "2 1 3\n",
      "2 2 3\n",
      "0 0 3\n",
      "0 1 3\n",
      "0 2 3\n",
      "1 0 3\n",
      "1 1 3\n",
      "1 2 3\n",
      "2 0 3\n",
      "2 1 3\n",
      "2 2 3\n",
      "0 0 3\n",
      "0 1 3\n",
      "0 2 3\n",
      "1 0 3\n",
      "1 1 3\n",
      "1 2 3\n",
      "2 0 3\n",
      "2 1 3\n",
      "2 2 3\n",
      "0 0 3\n",
      "0 1 3\n",
      "0 2 3\n",
      "1 0 3\n",
      "1 1 3\n",
      "1 2 3\n",
      "2 0 3\n",
      "2 1 3\n",
      "2 2 3\n"
     ]
    },
    {
     "data": {
      "text/plain": [
       "(0, 2)"
      ]
     },
     "execution_count": 31,
     "metadata": {},
     "output_type": "execute_result"
    },
    {
     "data": {
      "image/png": "[encoded data removed]",
      "text/plain": [
       "<Figure size 432x288 with 1 Axes>"
      ]
     },
     "metadata": {
      "needs_background": "light"
     },
     "output_type": "display_data"
    }
   ],
   "source": [
    "Lw=conv_dim\n",
    "LLw = int((conv_dim-1)/2)\n",
    "for i in range(1,9):\n",
    "    rho0=i*0.1\n",
    "    x = np.linspace(-LLw,LLw,Lw)*dx\n",
    "    plt.plot(x,cal_c2_FMT(x,rho0),lw=3)\n",
    "    plt.plot(x,cal_c2_ML(rho0),lw=3)\n",
    "plt.xlim([0,2.7])    \n"
   ]
  },
  {
   "cell_type": "code",
   "execution_count": null,
   "metadata": {},
   "outputs": [],
   "source": []
  }
 ],
 "metadata": {
  "kernelspec": {
   "display_name": "Python 3",
   "language": "python",
   "name": "python3"
  },
  "language_info": {
   "codemirror_mode": {
    "name": "ipython",
    "version": 3
   },
   "file_extension": ".py",
   "mimetype": "text/x-python",
   "name": "python",
   "nbconvert_exporter": "python",
   "pygments_lexer": "ipython3",
   "version": "3.6.8"
  }
 },
 "nbformat": 4,
 "nbformat_minor": 2
}
