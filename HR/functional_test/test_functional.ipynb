{
 "cells": [
  {
   "cell_type": "code",
   "execution_count": 1,
   "metadata": {},
   "outputs": [],
   "source": [
    "from __future__ import print_function, division\n",
    "from sympy import *\n",
    "import ast\n",
    "import numpy as np\n",
    "import matplotlib.pyplot as plt\n",
    "#from brokenaxes import brokenaxes\n",
    "#from numba import jit"
   ]
  },
  {
   "cell_type": "markdown",
   "metadata": {},
   "source": [
    "### load parameters"
   ]
  },
  {
   "cell_type": "code",
   "execution_count": 2,
   "metadata": {},
   "outputs": [],
   "source": [
    "from matplotlib import rc\n",
    "rc('font',**{'family':'sans-serif','sans-serif':['Helvetica']})\n",
    "rc('text', usetex=True)"
   ]
  },
  {
   "cell_type": "code",
   "execution_count": 3,
   "metadata": {},
   "outputs": [],
   "source": [
    "name = \"free_energy_def.dat\"\n",
    "tmp = open(name, \"r\")\n",
    "tmp=tmp.read()\n",
    "exec(tmp)"
   ]
  },
  {
   "cell_type": "code",
   "execution_count": 4,
   "metadata": {},
   "outputs": [],
   "source": [
    "name = \"assign_symbols_final.dat\"\n",
    "tmp = open(name, \"r\")\n",
    "tmp=tmp.read()\n",
    "exec(tmp)"
   ]
  },
  {
   "cell_type": "code",
   "execution_count": 5,
   "metadata": {},
   "outputs": [],
   "source": [
    "w_array = np.loadtxt(\"w_array.dat\")"
   ]
  },
  {
   "cell_type": "code",
   "execution_count": 6,
   "metadata": {},
   "outputs": [
    {
     "data": {
      "text/plain": [
       "257"
      ]
     },
     "execution_count": 6,
     "metadata": {},
     "output_type": "execute_result"
    }
   ],
   "source": [
    "len(w_array[0])"
   ]
  },
  {
   "cell_type": "code",
   "execution_count": 7,
   "metadata": {},
   "outputs": [
    {
     "name": "stdout",
     "output_type": "stream",
     "text": [
      "0 257 3 0.05\n"
     ]
    }
   ],
   "source": [
    "name = \"ML_parameter.dat\" #load n_conv, con_dim,kill (killsmall)\n",
    "tmp = open(name, \"r\")\n",
    "tmp=tmp.read()\n",
    "exec(tmp)\n",
    "kill=float(kill)\n",
    "print(n_parameter,conv_dim,n_conv,kill)"
   ]
  },
  {
   "cell_type": "code",
   "execution_count": 8,
   "metadata": {},
   "outputs": [
    {
     "name": "stdout",
     "output_type": "stream",
     "text": [
      "1024 32.0 0.03125\n"
     ]
    }
   ],
   "source": [
    "data_file = '../HR_data/'\n",
    "f=np.loadtxt(data_file+\"parameter.dat\")\n",
    "L = float(f[0])\n",
    "N = int(f[1])\n",
    "dx = (L/N)\n",
    "print(N,L,dx)"
   ]
  },
  {
   "cell_type": "code",
   "execution_count": 9,
   "metadata": {},
   "outputs": [],
   "source": [
    "#for i in range (len(w_array)):\n",
    "#    w_array[i][0:int(2//dx)]=0\n",
    "#    w_array[i][conv_dim-int(2//dx):conv_dim]=0\n",
    "    "
   ]
  },
  {
   "cell_type": "code",
   "execution_count": 10,
   "metadata": {},
   "outputs": [
    {
     "name": "stderr",
     "output_type": "stream",
     "text": [
      "/home/sam/anaconda3/lib/python3.6/site-packages/matplotlib/font_manager.py:1241: UserWarning: findfont: Font family ['sans-serif'] not found. Falling back to DejaVu Sans.\n",
      "  (prop.get_family(), self.defaultFamily[fontext]))\n"
     ]
    },
    {
     "data": {
      "image/png": "[encoded data removed]",
      "text/plain": [
       "<Figure size 432x288 with 1 Axes>"
      ]
     },
     "metadata": {},
     "output_type": "display_data"
    }
   ],
   "source": [
    "x=np.linspace(-conv_dim*dx/2,conv_dim*dx/2,conv_dim)\n",
    "for i in range (n_conv):\n",
    "    plt.plot(x,w_array[i],linewidth=3,label=r\"$\\omega_{\"+str(i)+\"}$\")\n",
    "plt.legend(fontsize=20)\n",
    "plt.xlabel(r\"$x/\\sigma$\",fontsize=25)\n",
    "plt.ylabel(r\"$\\omega$\",fontsize=25)\n",
    "plt.xticks(fontsize=15)\n",
    "plt.yticks(np.linspace(-4,2,4),fontsize=15)\n",
    "#plt.xlim([-4,4])\n",
    "#plt.ylim([np.min(w_array)-0.05,0.8])\n",
    "#plt.text(-6.5,1,r\"$(a)$\",fontsize=25)\n",
    "plt.savefig(\"whr.eps\",format=\"eps\",bbox_inches='tight')"
   ]
  },
  {
   "cell_type": "code",
   "execution_count": 11,
   "metadata": {},
   "outputs": [
    {
     "data": {
      "text/plain": [
       "<function __main__.fed_eqn>"
      ]
     },
     "execution_count": 11,
     "metadata": {},
     "output_type": "execute_result"
    }
   ],
   "source": [
    "fed_eqn"
   ]
  },
  {
   "cell_type": "code",
   "execution_count": 12,
   "metadata": {},
   "outputs": [
    {
     "data": {
      "text/plain": [
       "a2L3*(a1L10*n1 + a1L11*n2 + a1L9*n0)*(a1L12*n0 + a1L13*n1 + a1L14*n2) + a2L4*(a1L15*n0 + a1L16*n1 + a1L17*n2)*(a1L18*n0 + a1L19*n1 + a1L20*n2) + a2L5*(a1L21*n0 + a1L22*n1 + a1L23*n2)*(a1L24*n0 + a1L25*n1 + a1L26*n2) + a2L6*(a1L27*n0 + a1L28*n1 + a1L29*n2)/(a1L30*n0 + a1L31*n1 + a1L32*n2 + 1) + (a2L21*(a1L0*n0 + a1L1*n1 + a1L2*n2) + a2L22*(exp(a1L3*n0 + a1L4*n1 + a1L5*n2) - 1) + a2L23*log(a1L6*n0 + a1L7*n1 + a1L8*n2 + 1) + a2L24*(a1L10*n1 + a1L11*n2 + a1L9*n0)*(a1L12*n0 + a1L13*n1 + a1L14*n2) + a2L25*(a1L15*n0 + a1L16*n1 + a1L17*n2)*(a1L18*n0 + a1L19*n1 + a1L20*n2) + a2L26*(a1L21*n0 + a1L22*n1 + a1L23*n2)*(a1L24*n0 + a1L25*n1 + a1L26*n2) + a2L27*(a1L27*n0 + a1L28*n1 + a1L29*n2)/(a1L30*n0 + a1L31*n1 + a1L32*n2 + 1))*(a2L28*(a1L0*n0 + a1L1*n1 + a1L2*n2) + a2L29*(exp(a1L3*n0 + a1L4*n1 + a1L5*n2) - 1) + a2L30*log(a1L6*n0 + a1L7*n1 + a1L8*n2 + 1) + a2L31*(a1L10*n1 + a1L11*n2 + a1L9*n0)*(a1L12*n0 + a1L13*n1 + a1L14*n2) + a2L32*(a1L15*n0 + a1L16*n1 + a1L17*n2)*(a1L18*n0 + a1L19*n1 + a1L20*n2) + a2L33*(a1L21*n0 + a1L22*n1 + a1L23*n2)*(a1L24*n0 + a1L25*n1 + a1L26*n2) + a2L34*(a1L27*n0 + a1L28*n1 + a1L29*n2)/(a1L30*n0 + a1L31*n1 + a1L32*n2 + 1)) + (a2L35*(a1L0*n0 + a1L1*n1 + a1L2*n2) + a2L36*(exp(a1L3*n0 + a1L4*n1 + a1L5*n2) - 1) + a2L37*log(a1L6*n0 + a1L7*n1 + a1L8*n2 + 1) + a2L38*(a1L10*n1 + a1L11*n2 + a1L9*n0)*(a1L12*n0 + a1L13*n1 + a1L14*n2) + a2L39*(a1L15*n0 + a1L16*n1 + a1L17*n2)*(a1L18*n0 + a1L19*n1 + a1L20*n2) + a2L40*(a1L21*n0 + a1L22*n1 + a1L23*n2)*(a1L24*n0 + a1L25*n1 + a1L26*n2) + a2L41*(a1L27*n0 + a1L28*n1 + a1L29*n2)/(a1L30*n0 + a1L31*n1 + a1L32*n2 + 1))*(a2L42*(a1L0*n0 + a1L1*n1 + a1L2*n2) + a2L43*(exp(a1L3*n0 + a1L4*n1 + a1L5*n2) - 1) + a2L44*log(a1L6*n0 + a1L7*n1 + a1L8*n2 + 1) + a2L45*(a1L10*n1 + a1L11*n2 + a1L9*n0)*(a1L12*n0 + a1L13*n1 + a1L14*n2) + a2L46*(a1L15*n0 + a1L16*n1 + a1L17*n2)*(a1L18*n0 + a1L19*n1 + a1L20*n2) + a2L47*(a1L21*n0 + a1L22*n1 + a1L23*n2)*(a1L24*n0 + a1L25*n1 + a1L26*n2) + a2L48*(a1L27*n0 + a1L28*n1 + a1L29*n2)/(a1L30*n0 + a1L31*n1 + a1L32*n2 + 1)) + (a2L49*(a1L0*n0 + a1L1*n1 + a1L2*n2) + a2L50*(exp(a1L3*n0 + a1L4*n1 + a1L5*n2) - 1) + a2L51*log(a1L6*n0 + a1L7*n1 + a1L8*n2 + 1) + a2L52*(a1L10*n1 + a1L11*n2 + a1L9*n0)*(a1L12*n0 + a1L13*n1 + a1L14*n2) + a2L53*(a1L15*n0 + a1L16*n1 + a1L17*n2)*(a1L18*n0 + a1L19*n1 + a1L20*n2) + a2L54*(a1L21*n0 + a1L22*n1 + a1L23*n2)*(a1L24*n0 + a1L25*n1 + a1L26*n2) + a2L55*(a1L27*n0 + a1L28*n1 + a1L29*n2)/(a1L30*n0 + a1L31*n1 + a1L32*n2 + 1))*(a2L56*(a1L0*n0 + a1L1*n1 + a1L2*n2) + a2L57*(exp(a1L3*n0 + a1L4*n1 + a1L5*n2) - 1) + a2L58*log(a1L6*n0 + a1L7*n1 + a1L8*n2 + 1) + a2L59*(a1L10*n1 + a1L11*n2 + a1L9*n0)*(a1L12*n0 + a1L13*n1 + a1L14*n2) + a2L60*(a1L15*n0 + a1L16*n1 + a1L17*n2)*(a1L18*n0 + a1L19*n1 + a1L20*n2) + a2L61*(a1L21*n0 + a1L22*n1 + a1L23*n2)*(a1L24*n0 + a1L25*n1 + a1L26*n2) + a2L62*(a1L27*n0 + a1L28*n1 + a1L29*n2)/(a1L30*n0 + a1L31*n1 + a1L32*n2 + 1)) + (a2L63*(a1L0*n0 + a1L1*n1 + a1L2*n2) + a2L64*(exp(a1L3*n0 + a1L4*n1 + a1L5*n2) - 1) + a2L65*log(a1L6*n0 + a1L7*n1 + a1L8*n2 + 1) + a2L66*(a1L10*n1 + a1L11*n2 + a1L9*n0)*(a1L12*n0 + a1L13*n1 + a1L14*n2) + a2L67*(a1L15*n0 + a1L16*n1 + a1L17*n2)*(a1L18*n0 + a1L19*n1 + a1L20*n2) + a2L68*(a1L21*n0 + a1L22*n1 + a1L23*n2)*(a1L24*n0 + a1L25*n1 + a1L26*n2) + a2L69*(a1L27*n0 + a1L28*n1 + a1L29*n2)/(a1L30*n0 + a1L31*n1 + a1L32*n2 + 1))/(a2L70*(a1L0*n0 + a1L1*n1 + a1L2*n2) + a2L71*(exp(a1L3*n0 + a1L4*n1 + a1L5*n2) - 1) + a2L72*log(a1L6*n0 + a1L7*n1 + a1L8*n2 + 1) + a2L73*(a1L10*n1 + a1L11*n2 + a1L9*n0)*(a1L12*n0 + a1L13*n1 + a1L14*n2) + a2L74*(a1L15*n0 + a1L16*n1 + a1L17*n2)*(a1L18*n0 + a1L19*n1 + a1L20*n2) + a2L75*(a1L21*n0 + a1L22*n1 + a1L23*n2)*(a1L24*n0 + a1L25*n1 + a1L26*n2) + a2L76*(a1L27*n0 + a1L28*n1 + a1L29*n2)/(a1L30*n0 + a1L31*n1 + a1L32*n2 + 1) + 1) + exp(a2L10*(a1L10*n1 + a1L11*n2 + a1L9*n0)*(a1L12*n0 + a1L13*n1 + a1L14*n2) + a2L11*(a1L15*n0 + a1L16*n1 + a1L17*n2)*(a1L18*n0 + a1L19*n1 + a1L20*n2) + a2L12*(a1L21*n0 + a1L22*n1 + a1L23*n2)*(a1L24*n0 + a1L25*n1 + a1L26*n2) + a2L13*(a1L27*n0 + a1L28*n1 + a1L29*n2)/(a1L30*n0 + a1L31*n1 + a1L32*n2 + 1)) + log(a2L17*(a1L10*n1 + a1L11*n2 + a1L9*n0)*(a1L12*n0 + a1L13*n1 + a1L14*n2) + a2L18*(a1L15*n0 + a1L16*n1 + a1L17*n2)*(a1L18*n0 + a1L19*n1 + a1L20*n2) + a2L19*(a1L21*n0 + a1L22*n1 + a1L23*n2)*(a1L24*n0 + a1L25*n1 + a1L26*n2) + a2L20*(a1L27*n0 + a1L28*n1 + a1L29*n2)/(a1L30*n0 + a1L31*n1 + a1L32*n2 + 1) + 1) - 1"
      ]
     },
     "execution_count": 12,
     "metadata": {},
     "output_type": "execute_result"
    }
   ],
   "source": [
    "fed_eqn()"
   ]
  },
  {
   "cell_type": "code",
   "execution_count": 13,
   "metadata": {},
   "outputs": [],
   "source": [
    "name = \"all_parameter_2.dat\" #parameters after step 3  \n",
    "tmp = open(name, \"r\")\n",
    "tmp=tmp.read()\n",
    "#print(tmp)\n",
    "tmp=tmp.replace(\"/varible:0\",\":\")\n",
    "tmp=tmp.replace(\"/const_1:0\",\":\")\n",
    "\n",
    "for i in range(100):\n",
    "    tmp=tmp.replace(\"_\"+str(i),\"\")\n",
    "tmp=tmp.replace(\"[[\",\"\")\n",
    "tmp=tmp.replace(\"]]\",\"\")\n",
    "tmp=tmp.replace(\"\\n\",\",\")\n",
    "tmp=tmp.replace(\":\",\"\\\":\")\n",
    "tmp=tmp.replace(\",\",\",\\\"\")\n",
    "tmp=\"{\\\"\"+tmp+\"}\"\n",
    "tmp=tmp.replace(\",\\\"}\",\"}\")\n",
    "#print(tmp)\n",
    "dict_all=ast.literal_eval(tmp)"
   ]
  },
  {
   "cell_type": "code",
   "execution_count": 14,
   "metadata": {},
   "outputs": [
    {
     "name": "stdout",
     "output_type": "stream",
     "text": [
      "101 72\n"
     ]
    }
   ],
   "source": [
    "#kill small parameters. \n",
    "#The clamp is applied by extra layre so the output parameters will keep the value instead of zero.  \n",
    "\n",
    "kill_small=0  \n",
    "for i in list(dict_all.keys()):\n",
    "    if(np.abs(dict_all[i])<kill and i[0]==\"a\"):\n",
    "        dict_all[i]=0\n",
    "        kill_small+=1\n",
    "print(len(dict_all.keys()),kill_small)"
   ]
  },
  {
   "cell_type": "code",
   "execution_count": 15,
   "metadata": {},
   "outputs": [],
   "source": [
    "input_symbols = fed_eqn().subs(dict_all).free_symbols"
   ]
  },
  {
   "cell_type": "code",
   "execution_count": 16,
   "metadata": {},
   "outputs": [
    {
     "data": {
      "text/plain": [
       "0.00654133140255294*n0**4 + 0.0462412918218647*n0**2 + (0.161781265030843*n0**2 + 0.106113598279807*n0*(0.3755026*n0 + 0.19980009*n2) - 0.116558247927878*n2**2)/(-0.237885061906037*n0**2 - 0.226176124291155*n0*(0.3755026*n0 + 0.19980009*n2) - 0.058328974084845*n0 + 0.027728882135139*n1 + 0.010239551950332*n2 + 0.16832675*exp(0.5887096*n1) + 0.83167325) + (-0.16561210369308*n0**2 - 0.120604718416679*n0*(0.3755026*n0 + 0.19980009*n2) - 0.31341228*exp(0.5887096*n1) + 0.31341228)*(-0.0404331964505786*n0**2 + 0.42021739093909*n0 - 0.199766217172558*n1 + 0.14701210456486*n2**2 - 0.073768446513304*n2) + exp(0.0789905500777271*n0**2) + log(0.0421957854693922*n0**2 + 1) - 1"
      ]
     },
     "execution_count": 16,
     "metadata": {},
     "output_type": "execute_result"
    }
   ],
   "source": [
    " fed_eqn().subs(dict_all)"
   ]
  },
  {
   "cell_type": "code",
   "execution_count": 17,
   "metadata": {},
   "outputs": [],
   "source": [
    "input_str = \"[\"\n",
    "for i in range(n_parameter):\n",
    "    input_str+=\"seps\"+str(i)+\",\"\n",
    "for i in range(n_conv):\n",
    "    input_str+=\"sn\"+str(i)+\",\"\n",
    "input_str += \"]\"\n",
    "tmp = \"input_str=\"+input_str\n",
    "exec(tmp)"
   ]
  },
  {
   "cell_type": "code",
   "execution_count": 18,
   "metadata": {},
   "outputs": [
    {
     "data": {
      "text/plain": [
       "[[n0, n1, n2]]"
      ]
     },
     "execution_count": 18,
     "metadata": {},
     "output_type": "execute_result"
    }
   ],
   "source": [
    "[input_str]"
   ]
  },
  {
   "cell_type": "code",
   "execution_count": 19,
   "metadata": {},
   "outputs": [],
   "source": [
    "fd = lambdify(input_str,fed_eqn().subs(dict_all))"
   ]
  },
  {
   "cell_type": "code",
   "execution_count": 20,
   "metadata": {},
   "outputs": [
    {
     "data": {
      "text/plain": [
       "<function numpy.<lambda>>"
      ]
     },
     "execution_count": 20,
     "metadata": {},
     "output_type": "execute_result"
    }
   ],
   "source": [
    "fd"
   ]
  },
  {
   "cell_type": "markdown",
   "metadata": {},
   "source": [
    "### $\\frac{\\partial f}{\\partial n}$"
   ]
  },
  {
   "cell_type": "code",
   "execution_count": 21,
   "metadata": {},
   "outputs": [
    {
     "name": "stdout",
     "output_type": "stream",
     "text": [
      "fd_n0 =lambdify(input_str,diff(fed_eqn(),sn0).subs(dict_all))\n",
      "fd_n1 =lambdify(input_str,diff(fed_eqn(),sn1).subs(dict_all))\n",
      "fd_n2 =lambdify(input_str,diff(fed_eqn(),sn2).subs(dict_all))\n"
     ]
    }
   ],
   "source": [
    "for i in range(n_conv):\n",
    "    eqn_str = \"fd_n\"+str(i)+\" =lambdify(input_str,diff(fed_eqn(),sn\"+str(i)+\").subs(dict_all))\"\n",
    "    print(eqn_str)\n",
    "    exec(eqn_str)"
   ]
  },
  {
   "cell_type": "code",
   "execution_count": 22,
   "metadata": {},
   "outputs": [
    {
     "data": {
      "text/plain": [
       "<function numpy.<lambda>>"
      ]
     },
     "execution_count": 22,
     "metadata": {},
     "output_type": "execute_result"
    }
   ],
   "source": [
    "fd"
   ]
  },
  {
   "cell_type": "code",
   "execution_count": 23,
   "metadata": {},
   "outputs": [
    {
     "data": {
      "text/plain": [
       "<function numpy.<lambda>>"
      ]
     },
     "execution_count": 23,
     "metadata": {},
     "output_type": "execute_result"
    }
   ],
   "source": [
    "fd_n0"
   ]
  },
  {
   "cell_type": "code",
   "execution_count": 24,
   "metadata": {},
   "outputs": [],
   "source": [
    "n_array = np.zeros([n_conv,N])"
   ]
  },
  {
   "cell_type": "markdown",
   "metadata": {},
   "source": [
    " ### $n_i=\\rho\\otimes \\omega_i$ (convolution)"
   ]
  },
  {
   "cell_type": "code",
   "execution_count": 25,
   "metadata": {},
   "outputs": [],
   "source": [
    "#@jit\n",
    "def conv (rho,w,flip):\n",
    "    LLw = int((conv_dim-1)/2)\n",
    "    #print(LLw)\n",
    "    rho_pad=np.copy(rho)\n",
    "    rho_tile=np.tile(rho_pad,3)\n",
    "    rho_pad=rho_tile[N-LLw:2*N+LLw]\n",
    "    if(flip==1):\n",
    "        n = np.correlate(rho_pad,np.flip(w))        \n",
    "        #n = np.flip(np.correlate(np.flip(rho_pad),w))-np.correlate(rho_pad,np.flip(w))\n",
    "    else:\n",
    "        n = np.correlate(rho_pad,w)\n",
    "    return n*dx"
   ]
  },
  {
   "cell_type": "markdown",
   "metadata": {},
   "source": [
    "## $\\frac{\\delta F}{\\delta \\rho}=\\sum_{i} \\frac{\\partial f}{\\partial n} \\ast \\omega_i$ \n",
    "\n",
    "if $n$ use convolution then $\\frac{\\delta F}{\\delta \\rho}$ use cross correlation, and vic versa."
   ]
  },
  {
   "cell_type": "code",
   "execution_count": 26,
   "metadata": {},
   "outputs": [],
   "source": [
    "#@jit\n",
    "def cal_df(rho,w):\n",
    "    \n",
    "    n_array = np.zeros([n_conv,N])\n",
    "    n1=np.zeros(N)\n",
    "    tmp=\"\"\n",
    "    for i in range(n_conv):\n",
    "        n_array[i]=conv(rho,w[i],1)\n",
    "\n",
    "    #print(n_array)\n",
    "    input_str=\"(\"\n",
    "    for i in range(n_conv):\n",
    "        input_str+=\"n_array[\"+str(i)+\"]\"\n",
    "        if(i!=n_conv-1):\n",
    "            input_str+=\",\"\n",
    "    input_str += \")\"\n",
    "    #print(input_str)\n",
    "    c1=0\n",
    "    for i in range(n_conv):\n",
    "        string = \"fd_n\"+str(i)+input_str\n",
    "        fn=eval(string)\n",
    "        c1+=conv(fn,w[i],0)\n",
    "    \n",
    "    fed = \"fd\"+input_str\n",
    "    #print(fed)\n",
    "    fed = eval(fed)\n",
    "    \n",
    "    return c1,fed"
   ]
  },
  {
   "cell_type": "markdown",
   "metadata": {},
   "source": [
    "### picard mixing parameter method\n",
    "not fast enough for 3D, but good enough here"
   ]
  },
  {
   "cell_type": "code",
   "execution_count": 27,
   "metadata": {},
   "outputs": [],
   "source": [
    "#@jit\n",
    "def picard(rho,Vext,w,alpha=10**-3,mu=0,N_fix=False):\n",
    "    c1 = cal_df(rho,w)[0]\n",
    "    rho_new = np.exp(-c1-Vext)\n",
    "    if(N_fix==True):\n",
    "        mu=np.log(np.sum(rho)/np.sum(rho_new))\n",
    "    rho_new*=np.exp(mu)\n",
    "    rho=(1-alpha)*rho+alpha*rho_new\n",
    "    error=np.mean((rho_new-rho)**2)\n",
    "    return rho,error"
   ]
  },
  {
   "cell_type": "markdown",
   "metadata": {},
   "source": [
    "### load test data"
   ]
  },
  {
   "cell_type": "code",
   "execution_count": 28,
   "metadata": {},
   "outputs": [],
   "source": [
    "data_file = '../HR_data_test/'\n",
    "f = open(data_file+'/rho_z.dat', 'r')\n",
    "MC_inform = f.read().splitlines()\n",
    "for i in range(len(MC_inform)):\n",
    "    #print(MC_inform[i])\n",
    "    MC_inform[i]=MC_inform[i].split(\"\\t\")\n"
   ]
  },
  {
   "cell_type": "code",
   "execution_count": 29,
   "metadata": {},
   "outputs": [
    {
     "name": "stdout",
     "output_type": "stream",
     "text": [
      "['10', '0.4856603', '2.000397120483881']\n",
      "i= 10\n",
      "0.0794622536708116\n",
      "0.0017864496102814468\n",
      "0.0002901369642576686\n",
      "5.350413548113005e-05\n",
      "9.925218531200633e-06\n",
      "1.8271395962309108e-06\n"
     ]
    }
   ],
   "source": [
    "\n",
    "#MC_inform\n",
    "#i=np.random.randint(0,32)\n",
    "i=10 #as in the papaer\n",
    "print(MC_inform[i])\n",
    "print(\"i=\",i)\n",
    "Vext = np.loadtxt(data_file+'/Vext_'+str(i)+'.dat')\n",
    "rho_test = np.loadtxt(data_file+'/rho_'+str(i)+'.dat')\n",
    "mu = np.log(float(MC_inform[i][2]))\n",
    "eps = 0\n",
    "\n",
    "#mu=0.22182268\n",
    "#eps=2\n",
    "\n",
    "alpha=10**-3\n",
    "rho=np.full(N,np.mean(rho_test))\n",
    "error_array=[]\n",
    "threshold=10**-6\n",
    "for i in range(100000):\n",
    "    rho,error=picard(rho,Vext,w_array,alpha,mu)\n",
    "    error_array+=[error]\n",
    "    if(i%1000==0):\n",
    "        print(error)\n",
    "    if(error<threshold):\n",
    "        break"
   ]
  },
  {
   "cell_type": "code",
   "execution_count": 30,
   "metadata": {},
   "outputs": [
    {
     "data": {
      "image/png": "[encoded data removed]",
      "text/plain": [
       "<Figure size 432x288 with 1 Axes>"
      ]
     },
     "metadata": {},
     "output_type": "display_data"
    }
   ],
   "source": [
    "x=np.linspace(0,L-dx,N)\n",
    "plt.plot(x,rho,\"k-\",lw=3,label=\"ground truth\")\n",
    "plt.plot(x,rho_test,\"b-.\",lw=3,ms=2,label=\"ML\")\n",
    "#plt.legend()\n",
    "plt.ylabel(r\"$\\rho\\sigma$\",fontsize=25)\n",
    "plt.xlabel(r\"$x(\\sigma)$\",fontsize=25)\n",
    "plt.xticks(fontsize=15)\n",
    "plt.yticks(fontsize=15)\n",
    "#plt.title(r\"$\\rho_0\\sigma=0.43$\",fontsize=25)\n",
    "plt.savefig(\"rho_HR_inside.eps\",format=\"eps\",bbox_inches='tight')"
   ]
  },
  {
   "cell_type": "code",
   "execution_count": 31,
   "metadata": {},
   "outputs": [
    {
     "data": {
      "image/png": "[encoded data removed]",
      "text/plain": [
       "<Figure size 432x288 with 2 Axes>"
      ]
     },
     "metadata": {},
     "output_type": "display_data"
    }
   ],
   "source": [
    "grid = plt.GridSpec(4, 1, wspace=0.4, hspace=0.5)\n",
    "plt.subplot(grid[0, 0])\n",
    "\n",
    "plt.text(-1.2,2,r\"$\\infty$\",fontsize=20)\n",
    "plt.plot(x,Vext,\"k-\",lw=3)\n",
    "plt.ylim([-4,10])\n",
    "\n",
    "plt.text(-9,15,r\"$(b)$\",fontsize=25)\n",
    "plt.tick_params(\n",
    "    axis='x',          # changes apply to the x-axis\n",
    "    which='both',      # both major and minor ticks are affected\n",
    "    bottom=False,      # ticks along the bottom edge are off\n",
    "    top=False,         # ticks along the top edge are off\n",
    "    labelbottom=False)\n",
    "plt.yticks(fontsize=20)\n",
    "\n",
    "plt.ylabel(r\"$V^{\\mbox{\\large  ext}}$\",fontsize=25)\n",
    "\n",
    "plt.subplot(grid[1:, 0])\n",
    "plt.plot(x,rho_test,\"k-\",lw=3,label=\"ground truth\")\n",
    "plt.plot(x,rho,\"b-.\",lw=3,ms=2,label=\"ML\")\n",
    "#plt.legend()\n",
    "plt.ylabel(r\"$\\rho\\sigma$\",fontsize=25)\n",
    "plt.xlabel(r\"$x/\\sigma$\",fontsize=25)\n",
    "plt.xticks(fontsize=20)\n",
    "plt.yticks([0,0.5,1.0],fontsize=20)\n",
    "plt.savefig(\"rho_HR_inside.eps\",format=\"eps\",bbox_inches='tight')"
   ]
  },
  {
   "cell_type": "markdown",
   "metadata": {},
   "source": [
    "### $P=\\frac{-\\Omega}{L}=\\frac{-F+\\mu\\int\\rho}{L}=f-\\mu\\rho$\n",
    "The exact $P^{HR}=\\frac{\\rho}{1-\\rho}$"
   ]
  },
  {
   "cell_type": "code",
   "execution_count": 32,
   "metadata": {},
   "outputs": [],
   "source": [
    "def eos(rho0,w):\n",
    "    rho=np.full(N,rho0)\n",
    "    c1,f=cal_df(rho,w)\n",
    "    p=f-rho*c1\n",
    "    return -p[0]+rho0 #rho0 is ideal gas contribution "
   ]
  },
  {
   "cell_type": "code",
   "execution_count": 33,
   "metadata": {},
   "outputs": [
    {
     "data": {
      "text/plain": [
       "8.492240389682113"
      ]
     },
     "execution_count": 33,
     "metadata": {},
     "output_type": "execute_result"
    }
   ],
   "source": [
    "rho0_array=np.linspace(0,0.9,100)\n",
    "rho0_array1=np.linspace(0,0.9,20)\n",
    "\n",
    "P_ML=np.zeros(len(rho0_array1))\n",
    "for i in range (len(P_ML)):\n",
    "    P_ML[i]=eos(rho0_array1[i],w_array)\n",
    "\n",
    "max(P_ML)"
   ]
  },
  {
   "cell_type": "code",
   "execution_count": 34,
   "metadata": {},
   "outputs": [
    {
     "data": {
      "image/png": "[encoded data removed]",
      "text/plain": [
       "<Figure size 432x288 with 1 Axes>"
      ]
     },
     "metadata": {},
     "output_type": "display_data"
    }
   ],
   "source": [
    "plt.plot(rho0_array,rho0_array/(1-rho0_array),\"k-\",linewidth=3,label=\"exact\")\n",
    "plt.plot(rho0_array1,P_ML,\"b--\",linewidth=3,label=\"ML\")\n",
    "plt.legend(fontsize=20)\n",
    "plt.arrow(0.1, 2.5, 0.5, 0, head_width=0.8, head_length=0.03, linewidth=4, color='k')\n",
    "plt.arrow(0.6, 2.5, -0.5, 0, head_width=0.8, head_length=0.03, linewidth=4, color='k')\n",
    "plt.xticks(fontsize=20)\n",
    "plt.yticks(fontsize=20)\n",
    "plt.text(0.22,3,\"training\",fontsize=25)\n",
    "plt.ylabel(r\"$P\\sigma$\",fontsize=25)\n",
    "plt.xlabel(r\"$\\rho\\sigma$\",fontsize=25)\n",
    "plt.text(-0.2,10,r\"$(a)$\",fontsize=25)\n",
    "plt.savefig(\"PHR.eps\",format=\"eps\",bbox_inches='tight')"
   ]
  },
  {
   "cell_type": "code",
   "execution_count": 35,
   "metadata": {},
   "outputs": [],
   "source": [
    "def mu_FMT (rho):\n",
    "    R=0.5\n",
    "    return (2*R*rho)/(1 - 2*R*rho) - np.log(1 - 2*R*rho)+np.log(rho)\n",
    "    \n",
    "    "
   ]
  },
  {
   "cell_type": "code",
   "execution_count": 36,
   "metadata": {},
   "outputs": [],
   "source": [
    "rho0_array=np.linspace(0.01,0.9,100)\n",
    "mu_ML=np.zeros(len(rho0_array))\n",
    "for i in range (len(mu_ML)):\n",
    "    mu_ML[i]=(cal_df(np.full(N,rho0_array[i]),w_array)[0])[0]+np.log(rho0_array[i])"
   ]
  },
  {
   "cell_type": "code",
   "execution_count": 37,
   "metadata": {},
   "outputs": [],
   "source": [
    "rho0_FMT=np.linspace(0.01,0.9,100)\n",
    "mu_FMT_array=mu_FMT(rho0_FMT)"
   ]
  },
  {
   "cell_type": "code",
   "execution_count": 38,
   "metadata": {},
   "outputs": [
    {
     "data": {
      "text/plain": [
       "Text(0.5, 0, '$\\\\rho\\\\sigma$')"
      ]
     },
     "execution_count": 38,
     "metadata": {},
     "output_type": "execute_result"
    },
    {
     "name": "stderr",
     "output_type": "stream",
     "text": [
      "/home/sam/anaconda3/lib/python3.6/site-packages/matplotlib/font_manager.py:1241: UserWarning: findfont: Font family ['sans-serif'] not found. Falling back to DejaVu Sans.\n",
      "  (prop.get_family(), self.defaultFamily[fontext]))\n"
     ]
    },
    {
     "data": {
      "image/png": "[encoded data removed]",
      "text/plain": [
       "<Figure size 432x288 with 1 Axes>"
      ]
     },
     "metadata": {},
     "output_type": "display_data"
    }
   ],
   "source": [
    "plt.plot(rho0_FMT,mu_FMT_array,\"k-\",label=\"FMT\")\n",
    "plt.plot(rho0_array,mu_ML,\"k-.\",label=\"ML\")\n",
    "plt.legend()\n",
    "plt.ylabel(r\"$\\mu$\",fontsize=25)\n",
    "plt.xlabel(r\"$\\rho\\sigma$\",fontsize=25)"
   ]
  },
  {
   "cell_type": "markdown",
   "metadata": {},
   "source": [
    "### load test data (extrapolation)\n",
    "$\\rho_0>0.8$ is unstable by the exact functional with this spacial resolution. "
   ]
  },
  {
   "cell_type": "code",
   "execution_count": 39,
   "metadata": {},
   "outputs": [
    {
     "name": "stdout",
     "output_type": "stream",
     "text": [
      "0\t0.5\t2.718281828459045\n",
      "1\t0.55\t4.149106117565329\n",
      "2\t0.6\t6.722533605507095\n",
      "3\t0.65\t11.895760374043515\n",
      "4\t0.7\t24.061936503093442\n",
      "5\t0.75\t60.256610769563025\n",
      "6\t0.8\t218.3926001325772\n"
     ]
    }
   ],
   "source": [
    "data_file = '../HR_data_wall/'\n",
    "\n",
    "f = open(data_file+'/rho_z.dat', 'r')\n",
    "MC_inform = f.read().splitlines()\n",
    "for i in range(len(MC_inform)):\n",
    "    print(MC_inform[i])\n",
    "    MC_inform[i]=MC_inform[i].split(\"\\t\")\n"
   ]
  },
  {
   "cell_type": "code",
   "execution_count": 40,
   "metadata": {},
   "outputs": [
    {
     "name": "stdout",
     "output_type": "stream",
     "text": [
      "i= 6\n",
      "['6', '0.8', '218.3926001325772']\n",
      "mu= 5.386294361119892\n",
      "rho0= 0.8\n",
      "1526.1476975963137\n",
      "0.008083439196062454\n",
      "0.0025474672430245565\n",
      "0.0009544928235471135\n",
      "0.0004080099213287421\n",
      "0.0001911266996439683\n",
      "9.551634691664966e-05\n",
      "5.0118220824713126e-05\n",
      "2.7325401840015998e-05\n",
      "1.536320370199491e-05\n",
      "8.854643525287644e-06\n",
      "5.2075659148843775e-06\n",
      "3.114183109222111e-06\n",
      "1.888637243996634e-06\n",
      "1.15927300743843e-06\n"
     ]
    }
   ],
   "source": [
    "i=6\n",
    "#rho_wall = np.loadtxt('LJ_data_fuzzy/LJ_python_wall/wall_mu_2_eps_2_MC.dat')\n",
    "#Vext_wall = np.loadtxt('LJ_data_fuzzy/LJ_python_wall/wall_Vext.dat')\n",
    "Vext = np.loadtxt(data_file+'/Vext_'+str(i)+'.dat')\n",
    "rho_test = np.loadtxt(data_file+'/rho_'+str(i)+'.dat')\n",
    "print(\"i=\",i)\n",
    "print(MC_inform[i])\n",
    "mu = np.log(float(MC_inform[i][2]))\n",
    "print(\"mu=\",mu)\n",
    "print(\"rho0=\",float(MC_inform[i][1]))\n",
    "\n",
    "#mu=0.22182268\n",
    "#eps=2\n",
    "\n",
    "alpha=10**-3\n",
    "rho=np.full(N,0.5)\n",
    "error_array=[]\n",
    "threshold=10**-6\n",
    "for i in range(100000):\n",
    "    rho,error=picard(rho,Vext,w_array,alpha,mu)\n",
    "    error_array+=[error]\n",
    "    if(i%1000==0):\n",
    "        print(error)\n",
    "    if(error<threshold):\n",
    "        break"
   ]
  },
  {
   "cell_type": "code",
   "execution_count": 41,
   "metadata": {},
   "outputs": [
    {
     "data": {
      "image/png": "[encoded data removed]",
      "text/plain": [
       "<Figure size 432x288 with 2 Axes>"
      ]
     },
     "metadata": {},
     "output_type": "display_data"
    }
   ],
   "source": [
    "grid = plt.GridSpec(4, 1, wspace=0.4, hspace=0.5)\n",
    "plt.subplot(grid[0, 0])\n",
    "\n",
    "plt.text(0.2,2,r\"$\\infty$\",fontsize=20)\n",
    "plt.plot(x,Vext,\"k-\",lw=3)\n",
    "plt.ylim([-4,10])\n",
    "plt.xlim([0,10])\n",
    "plt.text(-2.1,15,r\"$(c)$\",fontsize=25)\n",
    "plt.tick_params(\n",
    "    axis='x',          # changes apply to the x-axis\n",
    "    which='both',      # both major and minor ticks are affected\n",
    "    bottom=False,      # ticks along the bottom edge are off\n",
    "    top=False,         # ticks along the top edge are off\n",
    "    labelbottom=False)\n",
    "plt.yticks(fontsize=20)\n",
    "\n",
    "plt.ylabel(r\"$V^{\\mbox{\\large  ext}}$\",fontsize=25)\n",
    "\n",
    "plt.subplot(grid[1:, 0])\n",
    "plt.plot(x,rho_test,\"k-\",lw=3,label=\"ground truth\")\n",
    "plt.plot(x,rho,\"b-.\",lw=3,ms=2,label=\"ML\")\n",
    "plt.xlim([0,10])\n",
    "\n",
    "#plt.legend()\n",
    "plt.ylabel(r\"$\\rho\\sigma$\",fontsize=25)\n",
    "plt.xlabel(r\"$x/\\sigma$\",fontsize=25)\n",
    "plt.xticks(fontsize=20)\n",
    "plt.yticks([0,1,2,3,4],fontsize=20)\n",
    "plt.savefig(\"rho_HR_outside.eps\",format=\"eps\",bbox_inches='tight')"
   ]
  },
  {
   "cell_type": "code",
   "execution_count": null,
   "metadata": {},
   "outputs": [],
   "source": []
  }
 ],
 "metadata": {
  "kernelspec": {
   "display_name": "Python 3",
   "language": "python",
   "name": "python3"
  },
  "language_info": {
   "codemirror_mode": {
    "name": "ipython",
    "version": 3
   },
   "file_extension": ".py",
   "mimetype": "text/x-python",
   "name": "python",
   "nbconvert_exporter": "python",
   "pygments_lexer": "ipython3",
   "version": "3.6.9"
  }
 },
 "nbformat": 4,
 "nbformat_minor": 2
}
