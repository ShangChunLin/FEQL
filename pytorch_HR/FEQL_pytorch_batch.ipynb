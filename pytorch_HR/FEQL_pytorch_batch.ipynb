{
 "cells": [
  {
   "cell_type": "markdown",
   "metadata": {},
   "source": [
    "# FEQL for hard rod (hard sphere in 1D) pytorch prototype"
   ]
  },
  {
   "cell_type": "code",
   "execution_count": 1,
   "metadata": {},
   "outputs": [
    {
     "data": {
      "text/html": [
       "<style>.container { width:100% !important; }</style>"
      ],
      "text/plain": [
       "<IPython.core.display.HTML object>"
      ]
     },
     "metadata": {},
     "output_type": "display_data"
    }
   ],
   "source": [
    "try:\n",
    "    %load_ext autoreload\n",
    "    %autoreload 2\n",
    "    from IPython.core.display import display, HTML\n",
    "    display(HTML(\"<style>.container { width:100% !important; }</style>\"))\n",
    "except:\n",
    "    pass"
   ]
  },
  {
   "cell_type": "code",
   "execution_count": 2,
   "metadata": {},
   "outputs": [],
   "source": [
    "#Choose GPU pr cpu\n",
    "import os\n",
    "os.environ[\"CUDA_DEVICE_ORDER\"]=\"PCI_BUS_ID\";\n",
    " \n",
    "# The GPU id to use, usually either \"0\" or \"1\";\n",
    "os.environ[\"CUDA_VISIBLE_DEVICES\"]=\"0\";  "
   ]
  },
  {
   "cell_type": "code",
   "execution_count": 3,
   "metadata": {},
   "outputs": [],
   "source": [
    "import torch\n",
    "from torch.autograd import grad\n",
    "torch.autograd.set_detect_anomaly(True)\n",
    "#torch.cuda.current_device()\n",
    "from torch.utils.data import DataLoader,TensorDataset\n",
    "device = 'cpu'\n",
    "if(torch.cuda.is_available()):\n",
    "    torch.set_default_tensor_type('torch.cuda.FloatTensor')\n",
    "    device='cuda'\n",
    "import torch.distributed as dist"
   ]
  },
  {
   "cell_type": "code",
   "execution_count": 4,
   "metadata": {},
   "outputs": [],
   "source": [
    "# general imports \n",
    "from scipy.integrate import simps\n",
    "from numpy import exp, absolute\n",
    "from numpy import exp, asarray, empty\n",
    "from numpy import zeros, array, float, random\n",
    "import itertools as it\n",
    "import numpy as np\n",
    "import matplotlib.pyplot as plt\n",
    "from shutil import copyfile\n",
    "import time\n",
    "import pickle"
   ]
  },
  {
   "cell_type": "code",
   "execution_count": 5,
   "metadata": {},
   "outputs": [],
   "source": [
    "import sympy\n",
    "from sympy import Matrix\n",
    "from sympy import symbols\n",
    "from sympy import diff"
   ]
  },
  {
   "cell_type": "code",
   "execution_count": 6,
   "metadata": {},
   "outputs": [],
   "source": [
    "from utility import load_data,train_val_data,train_varible"
   ]
  },
  {
   "cell_type": "markdown",
   "metadata": {},
   "source": [
    "## load data"
   ]
  },
  {
   "cell_type": "code",
   "execution_count": 7,
   "metadata": {},
   "outputs": [],
   "source": [
    "path_to_file = '../HR_data/'\n",
    "L,N,dx,batch_size,MC_inform = load_data(path_to_file)\n",
    "input_shape = (N,1)"
   ]
  },
  {
   "cell_type": "code",
   "execution_count": 8,
   "metadata": {},
   "outputs": [],
   "source": [
    "rho_train, rho_test ,c1_HR_train, c1_HR_test,Vext_train, \\\n",
    "Vext_test,eps_train,eps_test, mu_train, mu_test, deltaF_train, deltaF_test = train_val_data(path_to_file,N,MC_inform)"
   ]
  },
  {
   "cell_type": "markdown",
   "metadata": {},
   "source": [
    "### convert data to train_val tensor"
   ]
  },
  {
   "cell_type": "code",
   "execution_count": 9,
   "metadata": {},
   "outputs": [],
   "source": [
    "train_dataset = TensorDataset(torch.from_numpy(rho_train),torch.from_numpy(Vext_train),torch.from_numpy(mu_train))\n",
    "train_loader=DataLoader(train_dataset,batch_size=64, shuffle=True)\n",
    "val_dataset = TensorDataset(torch.from_numpy(rho_test),torch.from_numpy(Vext_test),torch.from_numpy(mu_test))\n",
    "val_loader=DataLoader(val_dataset,batch_size=64, shuffle=True)\n"
   ]
  },
  {
   "cell_type": "code",
   "execution_count": 10,
   "metadata": {},
   "outputs": [],
   "source": [
    "#plt.plot(np.linspace(0,N-1,N)*dx,rho_train[0],label=r\"$\\rho_1$\")\n",
    "#plt.plot(np.linspace(0,N-1,N)*dx,rho_test[0],label=r\"$\\rho_2$\")\n",
    "#plt.legend()"
   ]
  },
  {
   "cell_type": "code",
   "execution_count": 11,
   "metadata": {},
   "outputs": [],
   "source": [
    "n_layer=2\n",
    "n_density=2\n",
    "n_parameter = 0\n",
    "n_id =1\n",
    "n_log = 5\n",
    "n_exp = 0\n",
    "n_mul = 1\n",
    "n_div = 0\n",
    "n_conv = n_density*(1+n_parameter)\n",
    "n_dim1 = n_id+n_log+n_exp+n_mul*2+n_div*2\n",
    "n_dim1p= n_id+n_log+n_exp+n_mul+n_div"
   ]
  },
  {
   "cell_type": "markdown",
   "metadata": {},
   "source": [
    "# Sympy to find eqaution and redundant part"
   ]
  },
  {
   "cell_type": "code",
   "execution_count": 12,
   "metadata": {},
   "outputs": [],
   "source": [
    "def nonlinear(z,os): \n",
    "    y=[]\n",
    "    if(os=='torch'):\n",
    "        exp = torch.exp\n",
    "        log = torch.log\n",
    "        cz = lambda x:z[:,x]\n",
    "    if(os=='sympy'):\n",
    "        exp = sympy.exp\n",
    "        log = sympy.log\n",
    "        cz = lambda x:z[x]\n",
    "    \n",
    "    for i in range (n_id):\n",
    "        y.append(cz(i))\n",
    "    for i in range (n_id,n_id+n_exp):\n",
    "        y.append(exp(cz(i))-1)\n",
    "    for i in range (n_id+n_exp,n_id+n_exp+n_log):\n",
    "        y.append(log(cz(i)+1))\n",
    "    for i in range (n_id+n_exp+n_log,n_id+n_exp+n_log+n_mul*2,2):\n",
    "        y.append(cz(i)*cz(i+1))\n",
    "    for i in range (n_id+n_exp+n_log+n_mul*2,n_id+n_exp+n_log+n_mul*2+n_div*2,2):\n",
    "        y.append(cz(i)/(cz(i+1)+1))\n",
    "   \n",
    "    if(os=='torch'):\n",
    "        return torch.stack(y,dim=1)\n",
    "    if(os=='sympy'):\n",
    "        return Matrix(len(y),1,y)\n",
    "\n",
    "    print(\"Not supported\")\n",
    "    return None"
   ]
  },
  {
   "cell_type": "code",
   "execution_count": 13,
   "metadata": {},
   "outputs": [],
   "source": [
    "def linear_nonlinear_sympy():\n",
    "    for layer in range (1,n_layer+1):\n",
    "        if(layer==1):\n",
    "            sn=Matrix(n_conv,1,symbols('n0:'+str(n_conv)))\n",
    "            W=Matrix(n_dim1,n_conv,symbols('a'+str(layer)+'L0:'+str(n_dim1*n_conv)))\n",
    "            y=W*sn\n",
    "            z=nonlinear(y,os='sympy')\n",
    "        else:\n",
    "            W=Matrix(n_dim1,n_dim1p,symbols('a'+str(layer)+'L0:'+str(n_dim1*n_dim1p)))\n",
    "            y=W*z\n",
    "            z=nonlinear(y,os='sympy')\n",
    "    return z,sn\n",
    "res,sn = linear_nonlinear_sympy()\n",
    "res=sympy.ones(1,res.shape[0])*res\n",
    "fed = res[0]"
   ]
  },
  {
   "cell_type": "code",
   "execution_count": 14,
   "metadata": {},
   "outputs": [
    {
     "data": {
      "text/latex": [
       "$\\displaystyle a2L0 \\left(a1L0 n_{0} + a1L1 n_{1}\\right) + a2L1 \\log{\\left(a1L2 n_{0} + a1L3 n_{1} + 1 \\right)} + a2L2 \\left(a1L4 n_{0} + a1L5 n_{1}\\right) \\left(a1L6 n_{0} + a1L7 n_{1}\\right) + \\left(a2L10 \\log{\\left(a1L2 n_{0} + a1L3 n_{1} + 1 \\right)} + a2L11 \\left(a1L4 n_{0} + a1L5 n_{1}\\right) \\left(a1L6 n_{0} + a1L7 n_{1}\\right) + a2L9 \\left(a1L0 n_{0} + a1L1 n_{1}\\right)\\right) \\left(a2L6 \\left(a1L0 n_{0} + a1L1 n_{1}\\right) + a2L7 \\log{\\left(a1L2 n_{0} + a1L3 n_{1} + 1 \\right)} + a2L8 \\left(a1L4 n_{0} + a1L5 n_{1}\\right) \\left(a1L6 n_{0} + a1L7 n_{1}\\right)\\right) + \\log{\\left(a2L3 \\left(a1L0 n_{0} + a1L1 n_{1}\\right) + a2L4 \\log{\\left(a1L2 n_{0} + a1L3 n_{1} + 1 \\right)} + a2L5 \\left(a1L4 n_{0} + a1L5 n_{1}\\right) \\left(a1L6 n_{0} + a1L7 n_{1}\\right) + 1 \\right)}$"
      ],
      "text/plain": [
       "a2L0*(a1L0*n0 + a1L1*n1) + a2L1*log(a1L2*n0 + a1L3*n1 + 1) + a2L2*(a1L4*n0 + a1L5*n1)*(a1L6*n0 + a1L7*n1) + (a2L10*log(a1L2*n0 + a1L3*n1 + 1) + a2L11*(a1L4*n0 + a1L5*n1)*(a1L6*n0 + a1L7*n1) + a2L9*(a1L0*n0 + a1L1*n1))*(a2L6*(a1L0*n0 + a1L1*n1) + a2L7*log(a1L2*n0 + a1L3*n1 + 1) + a2L8*(a1L4*n0 + a1L5*n1)*(a1L6*n0 + a1L7*n1)) + log(a2L3*(a1L0*n0 + a1L1*n1) + a2L4*log(a1L2*n0 + a1L3*n1 + 1) + a2L5*(a1L4*n0 + a1L5*n1)*(a1L6*n0 + a1L7*n1) + 1)"
      ]
     },
     "execution_count": 14,
     "metadata": {},
     "output_type": "execute_result"
    }
   ],
   "source": [
    "fed"
   ]
  },
  {
   "cell_type": "code",
   "execution_count": 15,
   "metadata": {},
   "outputs": [],
   "source": [
    "tmp=0\n",
    "for n in sn:\n",
    "    subs=diff(fed,n)\n",
    "    for m in sn:\n",
    "        subs=subs.subs({m:0})\n",
    "    tmp+=subs\n",
    "redunds=str(tmp.free_symbols)[1:-1].split(\",\")"
   ]
  },
  {
   "cell_type": "code",
   "execution_count": 16,
   "metadata": {},
   "outputs": [],
   "source": [
    "mu_mask = torch.ones(n_dim1,n_dim1p)\n",
    "for redund in redunds:\n",
    "    idx = [redund.find('a'),redund.find('L')]\n",
    "    layer = int(redund[idx[0]+1:idx[1]])\n",
    "    order = int(redund[idx[1]+1:])\n",
    "    #print(layer,order)\n",
    "    if(layer==n_layer):\n",
    "        #print(layer,order)\n",
    "        row = order//n_dim1p\n",
    "        column = order%n_dim1p\n",
    "        mu_mask[row][column]=0"
   ]
  },
  {
   "cell_type": "code",
   "execution_count": 17,
   "metadata": {},
   "outputs": [],
   "source": [
    "mu_mask=mu_mask.to(device);"
   ]
  },
  {
   "cell_type": "code",
   "execution_count": 18,
   "metadata": {
    "scrolled": true
   },
   "outputs": [
    {
     "data": {
      "text/plain": [
       "tensor([[0., 0., 1.],\n",
       "        [0., 0., 1.],\n",
       "        [1., 1., 1.],\n",
       "        [1., 1., 1.]])"
      ]
     },
     "execution_count": 18,
     "metadata": {},
     "output_type": "execute_result"
    }
   ],
   "source": [
    "mu_mask"
   ]
  },
  {
   "cell_type": "markdown",
   "metadata": {},
   "source": [
    "# Initial\n",
    "## Initial weight dims and FMT weight functions"
   ]
  },
  {
   "cell_type": "code",
   "execution_count": 19,
   "metadata": {},
   "outputs": [
    {
     "data": {
      "text/plain": [
       "<torch._C.Generator at 0x7efbd353d070>"
      ]
     },
     "execution_count": 19,
     "metadata": {},
     "output_type": "execute_result"
    }
   ],
   "source": [
    "conv_dim = N//2+1\n",
    "torch.manual_seed(420)"
   ]
  },
  {
   "cell_type": "code",
   "execution_count": 20,
   "metadata": {},
   "outputs": [],
   "source": [
    "def w_FMT():\n",
    "    R = 1.0/2\n",
    "    k=np.linspace(0,N//2,N//2+1)*2*np.pi/L\n",
    "    w0=2*np.cos(k*R)/2\n",
    "    k[0]=1 #keep notebook shutup\n",
    "    w1=2*np.sin(k*R)/k\n",
    "    w1[0]=2*R\n",
    "    return w0,w1;"
   ]
  },
  {
   "cell_type": "markdown",
   "metadata": {},
   "source": [
    "# Convolution and cross correlation"
   ]
  },
  {
   "cell_type": "code",
   "execution_count": 21,
   "metadata": {},
   "outputs": [],
   "source": [
    "def complex_multiplication(t1, t2,cross):\n",
    "    real1, imag1 = t1.t()\n",
    "    real2, imag2 = t2\n",
    "    if(cross):\n",
    "        imag2=imag2*-1\n",
    "    #print(imag1.device,imag2.device)\n",
    "    return torch.stack([real1 * real2 - imag1 * imag2, real1 * imag2 + imag1 * real2], dim = -1)\n",
    "\n",
    "def conv(rho,w,cross=False):\n",
    "    frho = torch.rfft(rho, 1,  onesided=True)\n",
    "    c=complex_multiplication(frho, w,cross)\n",
    "    c=torch.irfft(c, 1,signal_sizes=rho.shape)\n",
    "    return c\n",
    "\n",
    "\n",
    "def simple_conv(rhos,w,cross=False):\n",
    "    frho = torch.rfft(rhos, 1,  onesided=True)\n",
    "    #print(frho.shape)\n",
    "    real1,imag1 = frho[:,:,0],frho[:,:,1]\n",
    "    real2,imag2=w\n",
    "    if(cross):\n",
    "        c = torch.stack([real1 * real2 - imag1 * (-imag2), real1 * (-imag2) + imag1 * real2], dim = -1)\n",
    "    else:\n",
    "        c = torch.stack([real1 * real2 - imag1 * imag2, real1 * imag2 + imag1 * real2], dim = -1)\n",
    "    c = torch.irfft(c, 1,signal_sizes=rhos[0].shape)\n",
    "    #print(c.shape)\n",
    "    return c"
   ]
  },
  {
   "cell_type": "markdown",
   "metadata": {},
   "source": [
    "\n",
    "## determine $\\mu^{ML}$"
   ]
  },
  {
   "cell_type": "code",
   "execution_count": 22,
   "metadata": {},
   "outputs": [],
   "source": [
    "def cal_mu(rhos,rhoMLs):\n",
    "    return torch.log(torch.sum(rhos,dim=-1)/torch.sum(rhoMLs,dim=-1))"
   ]
  },
  {
   "cell_type": "markdown",
   "metadata": {},
   "source": [
    "## Self defined functions"
   ]
  },
  {
   "cell_type": "code",
   "execution_count": 23,
   "metadata": {},
   "outputs": [],
   "source": [
    "def mm(dense,ys): #matrix mul list\n",
    "    z=[]\n",
    "    for i in range(len(dense)):\n",
    "        tmp=dense[i][0]*ys[0]\n",
    "        for j in range(1,len(dense[0])):\n",
    "            tmp+=dense[i][j]*ys[j]\n",
    "        z.append(tmp)\n",
    "    return torch.stack(z,dim=1)\n",
    "\n",
    "def linear_nonlinear_list(dense,ys):\n",
    "    z=mm(dense,ys)\n",
    "    #print(dense.shape,z.shape)\n",
    "    ys=nonlinear(z,os='torch')\n",
    "    return ys\n",
    "\n",
    "def linear_nonlinear(dense,ys):\n",
    "    #print(dense.shape,ys.shape)\n",
    "    z=torch.matmul(dense,ys)\n",
    "    #print(z.shape)\n",
    "    ys=nonlinear(z,os='torch')\n",
    "    return ys\n",
    "\n",
    "\n",
    "def mask_fix(dense,layer):\n",
    "    mask=torch.zeros_like(dense,device=device)\n",
    "    idx = torch.where(torch.abs(dense)>kill)\n",
    "    mask[idx]=1.\n",
    "    return mask\n",
    "\n",
    "\n",
    "def mask_gen(dense,kill):\n",
    "    mask=torch.zeros_like(dense,device=device)\n",
    "    idx = torch.where(torch.abs(dense)>kill)\n",
    "    mask[idx]=1.\n",
    "    return mask\n",
    "\n"
   ]
  },
  {
   "cell_type": "markdown",
   "metadata": {},
   "source": [
    "## Final equation"
   ]
  },
  {
   "cell_type": "code",
   "execution_count": 24,
   "metadata": {},
   "outputs": [],
   "source": [
    "def final_equation():\n",
    "    layer = 0\n",
    "    sn=Matrix(n_conv,1,symbols('n0:'+str(n_conv)))\n",
    "    w_tmp = mask_gen(dense_layer_0,kill)*dense_layer_0\n",
    "    #print(mask_gen(dense_layer_0[0],kill),dense_layer_0,w_tmp)\n",
    "    W=Matrix(w_tmp.cpu().detach().numpy())\n",
    "    y=W*sn\n",
    "    z=nonlinear(y,os='sympy')\n",
    "    #print(np.matrix(z))\n",
    "    for layer in range (0,n_layer-1):\n",
    "        w_tmp = dense_layer[layer]*mask_gen(dense_layer[layer],kill)\n",
    "        if(layer==n_layer-2):\n",
    "            w_tmp*=mu_mask\n",
    "            #print(mu_mask)\n",
    "        #print(mask_gen(dense_layer[layer],kill),dense_layer[layer],w_tmp)\n",
    "        W=Matrix(w_tmp.cpu().detach().numpy())\n",
    "        #print(np.matrix(W))\n",
    "        y=W*z\n",
    "        z=nonlinear(y,os='sympy')\n",
    "        #print(np.matrix(z))\n",
    "    res =z\n",
    "    #print(res.shape)\n",
    "    fed=sympy.ones(1,res.shape[0])*res\n",
    "    return fed[0]"
   ]
  },
  {
   "cell_type": "markdown",
   "metadata": {},
   "source": [
    "\n",
    "# The model"
   ]
  },
  {
   "cell_type": "code",
   "execution_count": 25,
   "metadata": {},
   "outputs": [],
   "source": [
    "def FEQL(rhos,Vexts,kill):\n",
    "    #ns=[]\n",
    "    ns=[]\n",
    "    for i in range(n_conv):\n",
    "        tmp = simple_conv(rhos,w_torch[i])\n",
    "        ns.append(tmp) \n",
    "    ####\n",
    "    #### don't stack ns, I don't why either !!!\n",
    "    ####\n",
    "    \n",
    "    mask0=mask_gen(dense_layer_0,kill)\n",
    "    mask=mask_gen(dense_layer,kill)\n",
    "    #print(dense_layer_0,dense_layer_0*mask0)\n",
    "    \n",
    "    ys=linear_nonlinear_list(dense_layer_0*mask0,ns)\n",
    "    for i in range(0,n_layer-1):\n",
    "        tmp = dense_layer[i]*mask[i]\n",
    "        if(i==n_layer-2):\n",
    "            tmp*=mu_mask\n",
    "        ys=linear_nonlinear(tmp,ys)\n",
    "    #print(\"ys\",ys.shape)\n",
    "    fs = torch.sum(ys,dim=1)\n",
    "    #print(\"fs\",fs.shape)\n",
    "    dfs = []\n",
    "    for i in range(n_conv):\n",
    "        tmp = grad(fs,ns[i],grad_outputs=torch.ones_like(fs),create_graph=True)[0]\n",
    "        dfs.append(tmp)\n",
    "    dfs = torch.stack(dfs,dim=0)\n",
    "    #print(\"dfs\",dfs.shape)\n",
    "    dfs_conv=[]\n",
    "    for i in range(n_conv):\n",
    "        tmp = simple_conv(dfs[i],w_torch[i],cross=True)\n",
    "        #tmp.retain_grad()\n",
    "        dfs_conv.append(tmp)  \n",
    "    dfs_conv = torch.stack(dfs_conv)\n",
    "    c1=torch.sum(dfs_conv,dim=0)\n",
    "    rhoMLs=torch.exp(-c1-Vexts)\n",
    "    muMLs=cal_mu(rhos,rhoMLs)\n",
    "    rhoMLs = rhoMLs*torch.unsqueeze(torch.exp(muMLs),1)\n",
    "    \n",
    "    w_real = []\n",
    "    for w in w_torch:\n",
    "        tmp = torch.stack([w[0],w[1]],dim=-1)\n",
    "        tmp=torch.irfft(tmp,1,signal_sizes=rhos[0].shape)\n",
    "        #print(tmp.shape)\n",
    "        tmp=torch.nn.functional.pad(tmp,pad=(0, 1,), mode='constant', value=0)\n",
    "        tmp[-1]=tmp[0]\n",
    "        w_real.append(tmp)\n",
    "        \n",
    "    w_real=torch.stack(w_real)\n",
    "    abs_w_real = torch.abs(w_real)\n",
    "    w_sym = torch.abs(abs_w_real-torch.flip(abs_w_real,dims=[1]))\n",
    "    w_bound = torch.abs(w_tanh_bound*abs_w_real)\n",
    "        \n",
    "    return rhoMLs,muMLs,torch.mean(w_sym+w_bound)+torch.mean(torch.abs(w_torch[:,1]))\n"
   ]
  },
  {
   "cell_type": "code",
   "execution_count": 26,
   "metadata": {},
   "outputs": [],
   "source": [
    "#model = FEQL()"
   ]
  },
  {
   "cell_type": "code",
   "execution_count": 27,
   "metadata": {},
   "outputs": [],
   "source": [
    "def save_model():\n",
    "    final_fed = final_equation()\n",
    "    filename = 'final_eq.dat'\n",
    "    outfile = open(filename,'wb')\n",
    "    pickle.dump(final_fed, outfile)\n",
    "    outfile.close()\n",
    "    \n",
    "    filename = 'w_weight'\n",
    "    outfile = open(filename,'wb')\n",
    "    pickle.dump(w_torch.cpu().detach().numpy(),outfile)\n",
    "    outfile.close()\n",
    "    \n",
    "    filename = 'dense_layer'\n",
    "    outfile = open(filename,'wb')\n",
    "    pickle.dump([dense_layer_0.cpu().detach().numpy(),dense_layer.cpu().detach().numpy()],outfile)\n",
    "    outfile.close()\n",
    "    \n",
    "    "
   ]
  },
  {
   "cell_type": "markdown",
   "metadata": {},
   "source": [
    "## Load or initial model"
   ]
  },
  {
   "cell_type": "code",
   "execution_count": 28,
   "metadata": {},
   "outputs": [],
   "source": [
    "def load_model():\n",
    "    filename = 'w_weight'\n",
    "    outfile = open(filename,'rb')\n",
    "    w_torch_ini=pickle.load(outfile)\n",
    "    outfile.close()\n",
    "\n",
    "    filename = 'dense_layer'\n",
    "    outfile = open(filename,'rb')\n",
    "    [dense_layer_0_ini,dense_layer_ini]=pickle.load(outfile)\n",
    "    outfile.close()\n",
    "    return w_torch_ini,dense_layer_0_ini,dense_layer_ini"
   ]
  },
  {
   "cell_type": "code",
   "execution_count": 35,
   "metadata": {},
   "outputs": [
    {
     "data": {
      "text/plain": [
       "[<matplotlib.lines.Line2D at 0x7efbc0975e50>]"
      ]
     },
     "execution_count": 35,
     "metadata": {},
     "output_type": "execute_result"
    },
    {
     "data": {
      "image/png": "[encoded data removed]",
      "text/plain": [
       "<Figure size 432x288 with 1 Axes>"
      ]
     },
     "metadata": {
      "needs_background": "light"
     },
     "output_type": "display_data"
    }
   ],
   "source": [
    "x = np.linspace(0,L,N+1)\n",
    "d= 4 \n",
    "w = 1\n",
    "w_tanh_bound = torch.tensor(np.tanh((x-d)/w)-np.tanh((x-L+d)/w), device=device)\n",
    "plt.plot(x,w_tanh_bound.cpu())\n"
   ]
  },
  {
   "cell_type": "code",
   "execution_count": 43,
   "metadata": {},
   "outputs": [],
   "source": [
    "w0,w1=w_FMT()\n",
    "w_torch_ini=np.random.randn(n_conv,2,conv_dim)*0.001\n",
    "w_torch_ini[0] = [np.real(w0)/10,np.imag(w0)]  \n",
    "w_torch_ini[1] = [np.real(w1)/10,np.imag(w1)]\n",
    "\n",
    "[dense_layer_0_ini,dense_layer_ini]=[np.random.randn(n_dim1,n_conv)*0.001,\n",
    "                                     np.random.randn(n_layer-1,n_dim1,n_dim1p)*0.001]"
   ]
  },
  {
   "cell_type": "code",
   "execution_count": 44,
   "metadata": {},
   "outputs": [],
   "source": [
    "load_weight = False\n",
    "if(load_weight==True):\n",
    "    w_torch_ini,dense_layer_0_ini,dense_layer_ini=load_model()"
   ]
  },
  {
   "cell_type": "code",
   "execution_count": 45,
   "metadata": {},
   "outputs": [],
   "source": [
    "\n",
    "w_torch = torch.tensor(w_torch_ini, requires_grad=True, device=device)\n",
    "\n",
    "dense_layer_0=torch.tensor(dense_layer_0_ini, dtype=torch.float64, requires_grad=True, device=device)\n",
    "dense_layer=torch.tensor(dense_layer_ini, dtype=torch.float64, requires_grad=True, device=device)\n"
   ]
  },
  {
   "cell_type": "code",
   "execution_count": 46,
   "metadata": {},
   "outputs": [],
   "source": [
    "kill=0\n",
    "fed = final_equation()\n",
    "fed;"
   ]
  },
  {
   "cell_type": "code",
   "execution_count": 47,
   "metadata": {},
   "outputs": [],
   "source": [
    "log=open(\"log_loss.dat\", \"w\")\n",
    "log.close()"
   ]
  },
  {
   "cell_type": "code",
   "execution_count": null,
   "metadata": {
    "scrolled": true
   },
   "outputs": [
    {
     "name": "stdout",
     "output_type": "stream",
     "text": [
      "time  6.817176818847656 s  \tepoch= 0 / 1000 \t loss =  0.3832187137723305 \t val loss =  0.3864671088487559\n"
     ]
    }
   ],
   "source": [
    "alpha1=0.9\n",
    "alpha2=0.1\n",
    "#asym = 10**-3\n",
    "\n",
    "for phase in range (1,4):\n",
    "    if(phase==1):\n",
    "        conv_penalty=0\n",
    "        dense_penalty=0\n",
    "        kill = 0\n",
    "        n_epochs=1000\n",
    "        lr=10**-3\n",
    "        asym=10**-5\n",
    "    \n",
    "    if(phase==2):\n",
    "        conv_penalty=0\n",
    "        dense_penalty=10**-3\n",
    "        kill = 0.05\n",
    "        n_epochs=20000\n",
    "        lr=10**-3\n",
    "        asym=10**-3\n",
    "        \n",
    "    if(phase==3):\n",
    "        conv_penalty=0\n",
    "        dense_penalty=0\n",
    "        kill = 0.1\n",
    "        n_epochs=1000\n",
    "        lr=10**-3\n",
    "        asym=10**-3\n",
    "        \n",
    "    MAE = torch.nn.L1Loss()\n",
    "    optimizer = torch.optim.Adam([w_torch,dense_layer_0,dense_layer],lr=lr)\n",
    "    train_losses = []\n",
    "    val_losses = []\n",
    "    for epoch in range(n_epochs+1):\n",
    "        start=time.time()\n",
    "        loss_batch=[]\n",
    "        for rho_batch, Vext_batch,mu_batch in train_loader:\n",
    "            rho_batch=rho_batch.to(device)\n",
    "            Vext_batch=Vext_batch.to(device)\n",
    "            mu_batch=mu_batch.to(device)\n",
    "            rhoMLs,muMLs,w_sym=FEQL(rho_batch,Vext_batch,kill)\n",
    "            loss = MAE(rhoMLs,rho_batch)+alpha2*MAE(muMLs,mu_batch)+\\\n",
    "                    conv_penalty*MAE(w_torch,torch.zeros_like(w_torch))+asym*w_sym+\\\n",
    "                    dense_penalty*(MAE(dense_layer_0,torch.zeros_like(dense_layer_0))+\n",
    "                                   MAE(dense_layer,torch.zeros_like(dense_layer)))\n",
    "            loss.backward()\n",
    "            optimizer.step()\n",
    "            optimizer.zero_grad()\n",
    "            loss_batch.append(loss.data.cpu().numpy())\n",
    "        train_losses.append(np.mean(loss_batch))\n",
    "        #save_model()\n",
    "        loss_batch=[]\n",
    "        for rho_batch,Vext_batch,mu_batch in val_loader:\n",
    "            rho_batch=rho_batch.to(device)\n",
    "            Vext_batch=Vext_batch.to(device)\n",
    "            mu_batch=mu_batch.to(device)\n",
    "            rhoMLs,muMLs,w_sym = FEQL(rho_batch,Vext_batch,kill)\n",
    "            loss = MAE(rhoMLs,rho_batch)+alpha2*MAE(muMLs,mu_batch)+\\\n",
    "                    conv_penalty*MAE(w_torch,torch.zeros_like(w_torch))+asym*w_sym+\\\n",
    "                    dense_penalty*(MAE(dense_layer_0,torch.zeros_like(dense_layer_0))+\n",
    "                                   MAE(dense_layer,torch.zeros_like(dense_layer)))\n",
    "            loss_batch.append(loss.data.cpu().numpy())\n",
    "        val_losses.append(np.mean(loss_batch))\n",
    "        end=time.time()\n",
    "        log=open(\"log_loss.dat\", \"a\")\n",
    "        log.write(\"loss = \"+str(train_losses[-1])+\",\\t val loss = \"+str(val_losses[-1])+\"\\n\")\n",
    "        log.close()\n",
    "        save_model()\n",
    "        print(\"time \",end-start,\"s \",\"\\tepoch=\",epoch,\"/\",n_epochs,\"\\t loss = \",train_losses[-1],\"\\t val loss = \",val_losses[-1])\n",
    "    save_model()\n",
    "        "
   ]
  },
  {
   "cell_type": "code",
   "execution_count": null,
   "metadata": {},
   "outputs": [],
   "source": [
    "filename = 'final_eq.dat'\n",
    "outfile = open(filename,'rb')\n",
    "final_fed = pickle.load(outfile)\n",
    "outfile.close()\n",
    "final_fed"
   ]
  },
  {
   "cell_type": "code",
   "execution_count": null,
   "metadata": {},
   "outputs": [],
   "source": [
    "def convert_w_to_np(w):\n",
    "    w_res = w.data.cpu().numpy()\n",
    "    w_res = (w_res[0]+w_res[1]*1j)\n",
    "    return w_res"
   ]
  },
  {
   "cell_type": "code",
   "execution_count": null,
   "metadata": {},
   "outputs": [],
   "source": [
    "w1_result = convert_w_to_np(w_torch[1])\n",
    "plt.plot(np.fft.irfft(w_torch_ini[0][0]+w_torch_ini[0][1]*1j),\"b-\")\n",
    "plt.plot(np.fft.irfft(w1_result),\"k--\")"
   ]
  },
  {
   "cell_type": "code",
   "execution_count": null,
   "metadata": {},
   "outputs": [],
   "source": [
    "w1_result = convert_w_to_np(w_torch[1])\n",
    "plt.plot(np.fft.irfft(w_torch_ini[0][0]+w_torch_ini[0][1]*1j)-np.fft.irfft(w1_result),\"b-\")"
   ]
  },
  {
   "cell_type": "code",
   "execution_count": null,
   "metadata": {},
   "outputs": [],
   "source": [
    "plt.plot(w_torch_ini[1][0]-np.real(w1_result),\"b-\")"
   ]
  },
  {
   "cell_type": "code",
   "execution_count": null,
   "metadata": {},
   "outputs": [],
   "source": [
    "a=torch.ones(1024)*2\n",
    "b=torch.ones(2,1024)"
   ]
  },
  {
   "cell_type": "code",
   "execution_count": null,
   "metadata": {},
   "outputs": [],
   "source": [
    "a*b"
   ]
  },
  {
   "cell_type": "code",
   "execution_count": null,
   "metadata": {},
   "outputs": [],
   "source": []
  }
 ],
 "metadata": {
  "kernelspec": {
   "display_name": "Python 3",
   "language": "python",
   "name": "python3"
  },
  "language_info": {
   "codemirror_mode": {
    "name": "ipython",
    "version": 3
   },
   "file_extension": ".py",
   "mimetype": "text/x-python",
   "name": "python",
   "nbconvert_exporter": "python",
   "pygments_lexer": "ipython3",
   "version": "3.7.7"
  }
 },
 "nbformat": 4,
 "nbformat_minor": 4
}
