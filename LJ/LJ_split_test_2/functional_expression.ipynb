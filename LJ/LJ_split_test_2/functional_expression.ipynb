{
 "cells": [
  {
   "cell_type": "code",
   "execution_count": null,
   "metadata": {},
   "outputs": [],
   "source": [
    "from __future__ import print_function, division\n",
    "from sympy import init_printing\n",
    "from sympy.printing.codeprinter import CodePrinter\n",
    "from sympy.printing.precedence import precedence\n",
    "from sympy.printing.str import StrPrinter\n",
    "from sympy import *\n",
    "import ast\n",
    "import numpy as np \n",
    "import matplotlib.pyplot as plt"
   ]
  },
  {
   "cell_type": "code",
   "execution_count": null,
   "metadata": {},
   "outputs": [],
   "source": [
    "#init_session()"
   ]
  },
  {
   "cell_type": "code",
   "execution_count": null,
   "metadata": {},
   "outputs": [],
   "source": [
    "name = \"free_energy_def.dat\"\n",
    "tmp = open(name, \"r\")\n",
    "tmp=tmp.read()\n",
    "exec(tmp)"
   ]
  },
  {
   "cell_type": "code",
   "execution_count": null,
   "metadata": {},
   "outputs": [],
   "source": [
    "name = \"ML_parameter.dat\" #load n_conv, con_dim,kill (killsmall)\n",
    "tmp = open(name, \"r\")\n",
    "tmp=tmp.read()\n",
    "exec(tmp)\n",
    "kill=float(kill)\n",
    "print(n_parameter,conv_dim,n_conv,kill)"
   ]
  },
  {
   "cell_type": "code",
   "execution_count": null,
   "metadata": {},
   "outputs": [],
   "source": [
    "name = \"assign_symbols_final.dat\"\n",
    "tmp = open(name, \"r\")\n",
    "tmp=tmp.read()\n",
    "tmp=tmp.replace(\"eps0\",\"epsilon0\")\n",
    "tmp=tmp.replace(\"sepsilon0\",\"seps0\")\n",
    "\n",
    "exec(tmp)"
   ]
  },
  {
   "cell_type": "code",
   "execution_count": null,
   "metadata": {},
   "outputs": [],
   "source": [
    "tmp"
   ]
  },
  {
   "cell_type": "code",
   "execution_count": null,
   "metadata": {},
   "outputs": [],
   "source": [
    "fed_eqn"
   ]
  },
  {
   "cell_type": "code",
   "execution_count": null,
   "metadata": {},
   "outputs": [],
   "source": [
    "name = \"fed_latex.dat\"\n",
    "tmp = open(name, \"w\")\n",
    "tmp_string = str(latex(fed_eqn())).replace(\"epsilon_{0}\",\"epsilon\")\n",
    "tmp.write(tmp_string)\n",
    "tmp.close()\n",
    "#tmp.write(str(latex(fed_eqn(syms))).replace(\"epsilon_{0}\",\"epsilon\"))"
   ]
  },
  {
   "cell_type": "code",
   "execution_count": null,
   "metadata": {},
   "outputs": [],
   "source": [
    "#latex(fed_eqn(syms))"
   ]
  },
  {
   "cell_type": "code",
   "execution_count": null,
   "metadata": {},
   "outputs": [],
   "source": [
    "# Used in MCodePrinter._print_Function(self)\n",
    "known_functions = {\n",
    "    \"exp\": [(lambda x: True, \"Exp\")],\n",
    "    \"log\": [(lambda x: True, \"Log\")],\n",
    "    \"sin\": [(lambda x: True, \"Sin\")],\n",
    "    \"cos\": [(lambda x: True, \"Cos\")],\n",
    "    \"tan\": [(lambda x: True, \"Tan\")],\n",
    "    \"cot\": [(lambda x: True, \"Cot\")],\n",
    "    \"asin\": [(lambda x: True, \"ArcSin\")],\n",
    "    \"acos\": [(lambda x: True, \"ArcCos\")],\n",
    "    \"atan\": [(lambda x: True, \"ArcTan\")],\n",
    "    \"sinh\": [(lambda x: True, \"Sinh\")],\n",
    "    \"cosh\": [(lambda x: True, \"Cosh\")],\n",
    "    \"tanh\": [(lambda x: True, \"Tanh\")],\n",
    "    \"coth\": [(lambda x: True, \"Coth\")],\n",
    "    \"sech\": [(lambda x: True, \"Sech\")],\n",
    "    \"csch\": [(lambda x: True, \"Csch\")],\n",
    "    \"asinh\": [(lambda x: True, \"ArcSinh\")],\n",
    "    \"acosh\": [(lambda x: True, \"ArcCosh\")],\n",
    "    \"atanh\": [(lambda x: True, \"ArcTanh\")],\n",
    "    \"acoth\": [(lambda x: True, \"ArcCoth\")],\n",
    "    \"asech\": [(lambda x: True, \"ArcSech\")],\n",
    "    \"acsch\": [(lambda x: True, \"ArcCsch\")],\n",
    "    \"conjugate\": [(lambda x: True, \"Conjugate\")],\n",
    "    \"Max\": [(lambda *x: True, \"Max\")],\n",
    "    \"Min\": [(lambda *x: True, \"Min\")],\n",
    "}\n",
    "\n"
   ]
  },
  {
   "cell_type": "code",
   "execution_count": null,
   "metadata": {},
   "outputs": [],
   "source": [
    "\n",
    "class MCodePrinter(CodePrinter):\n",
    "    \"\"\"A printer to convert python expressions to\n",
    "    strings of the Wolfram's Mathematica code\n",
    "    \"\"\"\n",
    "    printmethod = \"_mcode\"\n",
    "    language = \"Wolfram Language\"\n",
    "\n",
    "    _default_settings = {\n",
    "        'order': None,\n",
    "        'full_prec': 'auto',\n",
    "        'precision': 15,\n",
    "        'user_functions': {},\n",
    "        'human': True,\n",
    "        'allow_unknown_functions': False,\n",
    "    }\n",
    "\n",
    "    _number_symbols = set()\n",
    "    _not_supported = set()\n",
    "\n",
    "    def __init__(self, settings={}):\n",
    "        \"\"\"Register function mappings supplied by user\"\"\"\n",
    "        CodePrinter.__init__(self, settings)\n",
    "        self.known_functions = dict(known_functions)\n",
    "        userfuncs = settings.get('user_functions', {}).copy()\n",
    "        for k, v in userfuncs.items():\n",
    "            if not isinstance(v, list):\n",
    "                userfuncs[k] = [(lambda *x: True, v)]\n",
    "        self.known_functions.update(userfuncs)\n",
    "\n",
    "    def _format_code(self, lines):\n",
    "        return lines\n",
    "\n",
    "    def _print_Pow(self, expr):\n",
    "        PREC = precedence(expr)\n",
    "        return '%s^%s' % (self.parenthesize(expr.base, PREC),\n",
    "                          self.parenthesize(expr.exp, PREC))\n",
    "\n",
    "    def _print_Mul(self, expr):\n",
    "        PREC = precedence(expr)\n",
    "        c, nc = expr.args_cnc()\n",
    "        res = super(MCodePrinter, self)._print_Mul(expr.func(*c))\n",
    "        if nc:\n",
    "            res += '*'\n",
    "            res += '**'.join(self.parenthesize(a, PREC) for a in nc)\n",
    "        return res\n",
    "\n",
    "\n",
    "    # Primitive numbers\n",
    "    def _print_Zero(self, expr):\n",
    "        return '0'\n",
    "\n",
    "    def _print_One(self, expr):\n",
    "        return '1'\n",
    "\n",
    "    def _print_NegativeOne(self, expr):\n",
    "        return '-1'\n",
    "\n",
    "    def _print_half(self, expr):\n",
    "        return '1/2'\n",
    "\n",
    "    def _print_ImaginaryUnit(self, expr):\n",
    "        return 'I'\n",
    "\n",
    "\n",
    "    # Infinity and invalid numbers\n",
    "    def _print_Infinity(self, expr):\n",
    "        return 'Infinity'\n",
    "\n",
    "    def _print_NegativeInfinity(self, expr):\n",
    "        return '-Infinity'\n",
    "\n",
    "    def _print_ComplexInfinity(self, expr):\n",
    "        return 'ComplexInfinity'\n",
    "\n",
    "    def _print_NaN(self, expr):\n",
    "        return 'Indeterminate'\n",
    "\n",
    "\n",
    "    # Mathematical constants\n",
    "    def _print_Exp1(self, expr):\n",
    "        return 'E'\n",
    "\n",
    "    def _print_Pi(self, expr):\n",
    "        return 'Pi'\n",
    "\n",
    "    def _print_GoldenRatio(self, expr):\n",
    "        return 'GoldenRatio'\n",
    "\n",
    "    def _print_TribonacciConstant(self, expr):\n",
    "        return self.doprint(expr._eval_expand_func())\n",
    "\n",
    "    def _print_EulerGamma(self, expr):\n",
    "        return 'EulerGamma'\n",
    "\n",
    "    def _print_Catalan(self, expr):\n",
    "        return 'Catalan'\n",
    "\n",
    "\n",
    "    def _print_list(self, expr):\n",
    "        return '{' + ', '.join(self.doprint(a) for a in expr) + '}'\n",
    "    _print_tuple = _print_list\n",
    "    _print_Tuple = _print_list\n",
    "\n",
    "    def _print_ImmutableDenseMatrix(self, expr):\n",
    "        return self.doprint(expr.tolist())\n",
    "\n",
    "    def _print_ImmutableSparseMatrix(self, expr):\n",
    "        from sympy.core.compatibility import default_sort_key\n",
    "\n",
    "        def print_rule(pos, val):\n",
    "            return '{} -> {}'.format(\n",
    "            self.doprint((pos[0]+1, pos[1]+1)), self.doprint(val))\n",
    "\n",
    "        def print_data():\n",
    "            items = sorted(expr._smat.items(), key=default_sort_key)\n",
    "            return '{' + \\\n",
    "                ', '.join(print_rule(k, v) for k, v in items) + \\\n",
    "                '}'\n",
    "\n",
    "        def print_dims():\n",
    "            return self.doprint(expr.shape)\n",
    "\n",
    "        return 'SparseArray[{}, {}]'.format(print_data(), print_dims())\n",
    "\n",
    "    def _print_ImmutableDenseNDimArray(self, expr):\n",
    "        return self.doprint(expr.tolist())\n",
    "\n",
    "    def _print_ImmutableSparseNDimArray(self, expr):\n",
    "        def print_string_list(string_list):\n",
    "            return '{' + ', '.join(a for a in string_list) + '}'\n",
    "\n",
    "        def to_mathematica_index(*args):\n",
    "            \"\"\"Helper function to change Python style indexing to\n",
    "            Pathematica indexing.\n",
    "\n",
    "            Python indexing (0, 1 ... n-1)\n",
    "            -> Mathematica indexing (1, 2 ... n)\n",
    "            \"\"\"\n",
    "            return tuple(i + 1 for i in args)\n",
    "\n",
    "        def print_rule(pos, val):\n",
    "            \"\"\"Helper function to print a rule of Mathematica\"\"\"\n",
    "            return '{} -> {}'.format(self.doprint(pos), self.doprint(val))\n",
    "\n",
    "        def print_data():\n",
    "            \"\"\"Helper function to print data part of Mathematica\n",
    "            sparse array.\n",
    "\n",
    "            It uses the fourth notation ``SparseArray[data,{d1,d2,...}]``\n",
    "            from\n",
    "            https://reference.wolfram.com/language/ref/SparseArray.html\n",
    "\n",
    "            ``data`` must be formatted with rule.\n",
    "            \"\"\"\n",
    "            return print_string_list(\n",
    "                [print_rule(\n",
    "                    to_mathematica_index(*(expr._get_tuple_index(key))),\n",
    "                    value)\n",
    "                for key, value in sorted(expr._sparse_array.items())]\n",
    "            )\n",
    "\n",
    "        def print_dims():\n",
    "            \"\"\"Helper function to print dimensions part of Mathematica\n",
    "            sparse array.\n",
    "\n",
    "            It uses the fourth notation ``SparseArray[data,{d1,d2,...}]``\n",
    "            from\n",
    "            https://reference.wolfram.com/language/ref/SparseArray.html\n",
    "            \"\"\"\n",
    "            return self.doprint(expr.shape)\n",
    "\n",
    "        return 'SparseArray[{}, {}]'.format(print_data(), print_dims())\n",
    "\n",
    "    def _print_Function(self, expr):\n",
    "        if expr.func.__name__ in self.known_functions:\n",
    "            cond_mfunc = self.known_functions[expr.func.__name__]\n",
    "            for cond, mfunc in cond_mfunc:\n",
    "                if cond(*expr.args):\n",
    "                    return \"%s[%s]\" % (mfunc, self.stringify(expr.args, \", \"))\n",
    "        return expr.func.__name__ + \"[%s]\" % self.stringify(expr.args, \", \")\n",
    "\n",
    "    _print_MinMaxBase = _print_Function\n",
    "\n",
    "    def _print_Integral(self, expr):\n",
    "        if len(expr.variables) == 1 and not expr.limits[0][1:]:\n",
    "            args = [expr.args[0], expr.variables[0]]\n",
    "        else:\n",
    "            args = expr.args\n",
    "        return \"Hold[Integrate[\" + ', '.join(self.doprint(a) for a in args) + \"]]\"\n",
    "\n",
    "    def _print_Sum(self, expr):\n",
    "        return \"Hold[Sum[\" + ', '.join(self.doprint(a) for a in expr.args) + \"]]\"\n",
    "\n",
    "    def _print_Derivative(self, expr):\n",
    "        dexpr = expr.expr\n",
    "        dvars = [i[0] if i[1] == 1 else i for i in expr.variable_count]\n",
    "        return \"Hold[D[\" + ', '.join(self.doprint(a) for a in [dexpr] + dvars) + \"]]\"\n",
    "\n",
    "\n",
    "    def _get_comment(self, text):\n",
    "        return \"(* {} *)\".format(text)\n",
    "\n"
   ]
  },
  {
   "cell_type": "code",
   "execution_count": null,
   "metadata": {},
   "outputs": [],
   "source": [
    "def mathematica_code(expr, **settings):\n",
    "    r\"\"\"Converts an expr to a string of the Wolfram Mathematica code\n",
    "\n",
    "    Examples\n",
    "    ========\n",
    "\n",
    "    >>> from sympy import mathematica_code as mcode, symbols, sin\n",
    "    >>> x = symbols('x')\n",
    "    >>> mcode(sin(x).series(x).removeO())\n",
    "    '(1/120)*x^5 - 1/6*x^3 + x'\n",
    "    \"\"\"\n",
    "    return MCodePrinter(settings).doprint(expr)"
   ]
  },
  {
   "cell_type": "code",
   "execution_count": null,
   "metadata": {},
   "outputs": [],
   "source": [
    "mathematica_code(fed_eqn())"
   ]
  },
  {
   "cell_type": "code",
   "execution_count": null,
   "metadata": {},
   "outputs": [],
   "source": [
    "\n",
    "name = \"all_parameter.dat\"\n",
    "tmp = open(name, \"r\")\n",
    "tmp=tmp.read()\n",
    "#print(tmp)\n",
    "tmp=tmp.replace(\"/varible:0\",\":\")\n",
    "tmp=tmp.replace(\"/const_1:0\",\":\")\n",
    "\n",
    "for i in range(100):\n",
    "    tmp=tmp.replace(\"_\"+str(i),\"\")\n",
    "tmp=tmp.replace(\"[[\",\"\")\n",
    "tmp=tmp.replace(\"]]\",\"\")\n",
    "tmp=tmp.replace(\"\\n\",\",\")\n",
    "tmp=tmp.replace(\":\",\"\\\":\")\n",
    "tmp=tmp.replace(\",\",\",\\\"\")\n",
    "tmp=\"{\\\"\"+tmp+\"}\"\n",
    "tmp=tmp.replace(\",\\\"}\",\"}\")\n",
    "#print(tmp)\n",
    "dict_all=ast.literal_eval(tmp)"
   ]
  },
  {
   "cell_type": "code",
   "execution_count": null,
   "metadata": {},
   "outputs": [],
   "source": [
    "for i in list(dict_all.keys()):\n",
    "    if(np.abs(dict_all[i])<kill):\n",
    "        dict_all[i]=0\n",
    "    #dict_all[i]=np.round(dict_all[i],3)"
   ]
  },
  {
   "cell_type": "code",
   "execution_count": null,
   "metadata": {},
   "outputs": [],
   "source": [
    "fed_eqn().subs(dict_all)"
   ]
  },
  {
   "cell_type": "code",
   "execution_count": null,
   "metadata": {},
   "outputs": [],
   "source": [
    "name = \"fed_latex_number.dat\"\n",
    "tmp = open(name, \"w\")\n",
    "tmp_string = str(latex(fed_eqn().subs(dict_all))).replace(\"epsilon_{0}\",\"epsilon\")\n",
    "tmp.write(tmp_string)\n",
    "tmp.close()"
   ]
  },
  {
   "cell_type": "code",
   "execution_count": null,
   "metadata": {},
   "outputs": [],
   "source": [
    "eqn = fed_eqn().subs(dict_all)\n",
    "eqn2=eqn\n",
    "for a in preorder_traversal(eqn):\n",
    "    if isinstance(a, Float):\n",
    "        eqn2 = eqn2.subs(a, round(a, 1))\n",
    "name = \"fed_latex_number.dat\"\n",
    "tmp = open(name, \"w\")\n",
    "tmp_string = str(latex(nsimplify(eqn2/seps0))).replace(\"epsilon_{0}\",\"epsilon\")\n",
    "tmp.write(tmp_string)\n",
    "tmp.close()"
   ]
  },
  {
   "cell_type": "code",
   "execution_count": null,
   "metadata": {},
   "outputs": [],
   "source": [
    "mathematica_code(nsimplify(eqn2).subs(\"epsilon0\",\"epsilon\"))"
   ]
  },
  {
   "cell_type": "code",
   "execution_count": null,
   "metadata": {},
   "outputs": [],
   "source": [
    "nsimplify(eqn2)"
   ]
  },
  {
   "cell_type": "code",
   "execution_count": null,
   "metadata": {},
   "outputs": [],
   "source": [
    "data_file = '../LJ_data_all_correct/'\n",
    "f=np.loadtxt(data_file+\"MC_parameter.dat\")\n",
    "print(f)\n",
    "L = float(f[0])\n",
    "dx = float(f[1])\n",
    "N = int(f[2])\n",
    "print(N,L,dx)\n",
    "w_array=np.loadtxt(\"w_array.dat\")"
   ]
  },
  {
   "cell_type": "code",
   "execution_count": null,
   "metadata": {},
   "outputs": [],
   "source": [
    "srho=symbols('rho') \n",
    "f=fed_eqn()\n",
    "f=f.subs({sn0:np.sum(w_array[0])*dx*srho})\n",
    "f=f.subs({sn1:np.sum(w_array[1])*dx*srho})\n",
    "f=f.subs({sn2:np.sum(w_array[2])*dx*srho})\n",
    "f=f.subs({sn3:np.sum(w_array[3])*dx*srho})\n",
    "#f=f.subs({sn4:np.sum(w_array[4])*dx*srho})\n",
    "#f=f.subs({sn5:np.sum(w_array[5])*dx*srho})\n",
    "\n",
    "f=f.subs(dict_all)*seps0\n",
    "f+=-srho*log(1-srho)\n",
    "#f2=f\n",
    "#for a in preorder_traversal(f):\n",
    "#    if isinstance(a, Float):\n",
    "#        f2 = f2.subs(a, round(a, 1))\n",
    "mathematica_code(f)"
   ]
  },
  {
   "cell_type": "code",
   "execution_count": null,
   "metadata": {},
   "outputs": [],
   "source": [
    "P=series(-f+diff(f,srho)*srho,srho,n=3)\n",
    "P"
   ]
  },
  {
   "cell_type": "code",
   "execution_count": null,
   "metadata": {},
   "outputs": [],
   "source": [
    "P=series(-f+diff(f,srho)*srho,srho,n=4)\n",
    "P2=P\n",
    "for a in preorder_traversal(P):\n",
    "    if isinstance(a, Float):\n",
    "        P2 = P2.subs(a, round(a, 2))\n",
    "P2"
   ]
  },
  {
   "cell_type": "code",
   "execution_count": null,
   "metadata": {},
   "outputs": [],
   "source": [
    "latex(P2)"
   ]
  },
  {
   "cell_type": "code",
   "execution_count": null,
   "metadata": {},
   "outputs": [],
   "source": [
    "mathematica_code((-f+diff(f,srho)*srho))"
   ]
  },
  {
   "cell_type": "code",
   "execution_count": null,
   "metadata": {},
   "outputs": [],
   "source": [
    "P=(-f+diff(f,srho)*srho)+srho\n",
    "diifP = diff(P,srho)\n",
    "diifP.subs({\"epsilon0\":0.1,\"rho\":0.1})"
   ]
  },
  {
   "cell_type": "code",
   "execution_count": null,
   "metadata": {},
   "outputs": [],
   "source": [
    "rho_array=np.linspace(0,0.9,100)\n",
    "diffP_array = np.zeros(len(rho_array))\n",
    "\n",
    "for i in range (len(rho_array)):\n",
    "    diffP_array[i]=diifP.subs({\"epsilon0\":5,\"rho\":rho_array[i]})"
   ]
  },
  {
   "cell_type": "code",
   "execution_count": null,
   "metadata": {},
   "outputs": [],
   "source": [
    "plt.plot(rho_array,diffP_array)"
   ]
  },
  {
   "cell_type": "code",
   "execution_count": null,
   "metadata": {},
   "outputs": [],
   "source": [
    "diffP_array"
   ]
  },
  {
   "cell_type": "code",
   "execution_count": null,
   "metadata": {},
   "outputs": [],
   "source": [
    "rho_array=np.linspace(0,0.9,100)\n",
    "diffP_array = np.zeros(len(rho_array))\n",
    "\n",
    "for i in range (100000):\n",
    "    eps=1+i/10\n",
    "    tmp=0\n",
    "    print(\"epsilon\\t=\\t\",eps)\n",
    "    for j in range (len(rho_array)):\n",
    "        tmp=diifP.subs({\"epsilon0\":eps,\"rho\":rho_array[j]})\n",
    "        if(tmp<0):\n",
    "            print(\"L-V at epsilon>=\\t\",eps)\n",
    "            break\n",
    "    if(tmp<0):\n",
    "        break"
   ]
  },
  {
   "cell_type": "code",
   "execution_count": null,
   "metadata": {},
   "outputs": [],
   "source": [
    "rho_array=np.linspace(0,0.9,500)\n",
    "diffP_array = np.zeros(len(rho_array))\n",
    "\n",
    "for i in range (100000):\n",
    "    eps=3.6+i/100\n",
    "    tmp=0\n",
    "    print(\"epsilon\\t=\\t\",eps)\n",
    "    for j in range (len(rho_array)):\n",
    "        tmp=diifP.subs({\"epsilon0\":eps,\"rho\":rho_array[j]})\n",
    "        if(tmp<0):\n",
    "            print(\"L-V at epsilon>=\\t\",eps)\n",
    "            print(\"L-V at rho=\\t\",rho_array[j])\n",
    "            break\n",
    "    if(tmp<0):\n",
    "        break"
   ]
  },
  {
   "cell_type": "code",
   "execution_count": null,
   "metadata": {},
   "outputs": [],
   "source": []
  }
 ],
 "metadata": {
  "kernelspec": {
   "display_name": "Python 3",
   "language": "python",
   "name": "python3"
  },
  "language_info": {
   "codemirror_mode": {
    "name": "ipython",
    "version": 3
   },
   "file_extension": ".py",
   "mimetype": "text/x-python",
   "name": "python",
   "nbconvert_exporter": "python",
   "pygments_lexer": "ipython3",
   "version": "3.6.9"
  }
 },
 "nbformat": 4,
 "nbformat_minor": 2
}
