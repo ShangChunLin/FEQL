{
 "cells": [
  {
   "cell_type": "code",
   "execution_count": null,
   "metadata": {},
   "outputs": [],
   "source": [
    "from __future__ import print_function, division\n",
    "from sympy import *\n",
    "import ast\n",
    "import numpy as np\n",
    "import matplotlib.pyplot as plt\n",
    "#from brokenaxes import brokenaxes\n",
    "#from numba import jit"
   ]
  },
  {
   "cell_type": "code",
   "execution_count": null,
   "metadata": {},
   "outputs": [],
   "source": [
    "from matplotlib import rc\n",
    "rc('font',**{'family':'sans-serif','sans-serif':['Helvetica']})\n",
    "rc('text', usetex=True)"
   ]
  },
  {
   "cell_type": "code",
   "execution_count": null,
   "metadata": {},
   "outputs": [],
   "source": [
    "name = \"free_energy_def.dat\"\n",
    "tmp = open(name, \"r\")\n",
    "tmp=tmp.read()\n",
    "exec(tmp)"
   ]
  },
  {
   "cell_type": "code",
   "execution_count": null,
   "metadata": {},
   "outputs": [],
   "source": [
    "tmp"
   ]
  },
  {
   "cell_type": "code",
   "execution_count": null,
   "metadata": {},
   "outputs": [],
   "source": [
    "name = \"assign_symbols_final.dat\"\n",
    "tmp = open(name, \"r\")\n",
    "tmp=tmp.read()\n",
    "exec(tmp)"
   ]
  },
  {
   "cell_type": "code",
   "execution_count": null,
   "metadata": {},
   "outputs": [],
   "source": [
    "w_array = np.loadtxt(\"w_array.dat\")"
   ]
  },
  {
   "cell_type": "code",
   "execution_count": null,
   "metadata": {},
   "outputs": [],
   "source": [
    "len(w_array[0])"
   ]
  },
  {
   "cell_type": "code",
   "execution_count": null,
   "metadata": {},
   "outputs": [],
   "source": [
    "name = \"ML_parameter.dat\" #load n_conv, con_dim,kill (killsmall)\n",
    "tmp = open(name, \"r\")\n",
    "tmp=tmp.read()\n",
    "exec(tmp)\n",
    "kill=float(kill)\n",
    "print(n_parameter,conv_dim,n_conv,kill)"
   ]
  },
  {
   "cell_type": "code",
   "execution_count": null,
   "metadata": {},
   "outputs": [],
   "source": [
    "data_file = '../LJ_data_wall/data_all/'\n",
    "f=np.loadtxt(data_file+\"MC_parameter.dat\")\n",
    "L = float(f[0])\n",
    "dx = float(f[1])\n",
    "N = int(L/dx)\n",
    "print(N,L,dx)"
   ]
  },
  {
   "cell_type": "code",
   "execution_count": null,
   "metadata": {},
   "outputs": [],
   "source": [
    "#for i in range (len(w_array)):\n",
    "#    w_array[i][0:int(2//dx)]=0\n",
    "#    w_array[i][conv_dim-int(2//dx):conv_dim]=0\n",
    "    "
   ]
  },
  {
   "cell_type": "code",
   "execution_count": null,
   "metadata": {},
   "outputs": [],
   "source": [
    "x=np.linspace(-conv_dim*dx/2,conv_dim*dx/2,conv_dim)\n",
    "for i in range (n_conv):\n",
    "    plt.plot(x,w_array[i],linewidth=3,label=r\"$\\omega_{\"+str(i)+\"}$\")\n",
    "plt.legend(fontsize=15)\n",
    "plt.xlabel(r\"$x(\\sigma)$\",fontsize=20)\n",
    "plt.ylabel(r\"$\\omega$\",fontsize=20)\n",
    "plt.xticks(fontsize=15)\n",
    "plt.yticks(fontsize=15)\n",
    "#plt.xlim([-4,4])\n",
    "#plt.ylim([np.min(w_array)-0.05,0.8])\n",
    "\n",
    "plt.savefig(\"whr.eps\",format=\"eps\",bbox_inches='tight')"
   ]
  },
  {
   "cell_type": "code",
   "execution_count": null,
   "metadata": {},
   "outputs": [],
   "source": [
    "fed_eqn"
   ]
  },
  {
   "cell_type": "code",
   "execution_count": null,
   "metadata": {},
   "outputs": [],
   "source": [
    "fed_eqn()"
   ]
  },
  {
   "cell_type": "code",
   "execution_count": null,
   "metadata": {},
   "outputs": [],
   "source": [
    "name = \"all_parameter.dat\"\n",
    "tmp = open(name, \"r\")\n",
    "tmp=tmp.read()\n",
    "#print(tmp)\n",
    "tmp=tmp.replace(\"/varible:0\",\":\")\n",
    "tmp=tmp.replace(\"/const_1:0\",\":\")\n",
    "\n",
    "for i in range(100):\n",
    "    tmp=tmp.replace(\"_\"+str(i),\"\")\n",
    "tmp=tmp.replace(\"[[\",\"\")\n",
    "tmp=tmp.replace(\"]]\",\"\")\n",
    "tmp=tmp.replace(\"\\n\",\",\")\n",
    "tmp=tmp.replace(\":\",\"\\\":\")\n",
    "tmp=tmp.replace(\",\",\",\\\"\")\n",
    "tmp=\"{\\\"\"+tmp+\"}\"\n",
    "tmp=tmp.replace(\",\\\"}\",\"}\")\n",
    "#print(tmp)\n",
    "dict_all=ast.literal_eval(tmp)"
   ]
  },
  {
   "cell_type": "code",
   "execution_count": null,
   "metadata": {},
   "outputs": [],
   "source": [
    "dict_all"
   ]
  },
  {
   "cell_type": "code",
   "execution_count": null,
   "metadata": {},
   "outputs": [],
   "source": [
    "kill_small=0\n",
    "for i in list(dict_all.keys()):\n",
    "    if(np.abs(dict_all[i])<kill and i[0]==\"a\"):\n",
    "        dict_all[i]=0\n",
    "        kill_small+=1\n",
    "print(len(dict_all.keys()),kill_small)"
   ]
  },
  {
   "cell_type": "code",
   "execution_count": null,
   "metadata": {},
   "outputs": [],
   "source": [
    "input_symbols = fed_eqn().subs(dict_all).free_symbols"
   ]
  },
  {
   "cell_type": "code",
   "execution_count": null,
   "metadata": {},
   "outputs": [],
   "source": [
    " fed_eqn().subs(dict_all)"
   ]
  },
  {
   "cell_type": "code",
   "execution_count": null,
   "metadata": {},
   "outputs": [],
   "source": [
    "input_str = \"[\"\n",
    "for i in range(n_parameter):\n",
    "    input_str+=\"seps\"+str(i)+\",\"\n",
    "for i in range(n_conv):\n",
    "    input_str+=\"sn\"+str(i)+\",\"\n",
    "input_str += \"]\"\n",
    "tmp = \"input_str=\"+input_str\n",
    "exec(tmp)"
   ]
  },
  {
   "cell_type": "code",
   "execution_count": null,
   "metadata": {},
   "outputs": [],
   "source": [
    "[input_str]"
   ]
  },
  {
   "cell_type": "code",
   "execution_count": null,
   "metadata": {},
   "outputs": [],
   "source": [
    "fd = lambdify(input_str,fed_eqn().subs(dict_all))"
   ]
  },
  {
   "cell_type": "code",
   "execution_count": null,
   "metadata": {},
   "outputs": [],
   "source": [
    "fd"
   ]
  },
  {
   "cell_type": "code",
   "execution_count": null,
   "metadata": {},
   "outputs": [],
   "source": [
    "#simplify(diff(fed_eqn().subs(dict_all),sn0)-diff(fed_eqn(),sn0).subs(dict_all))"
   ]
  },
  {
   "cell_type": "code",
   "execution_count": null,
   "metadata": {},
   "outputs": [],
   "source": [
    "for i in range(n_conv):\n",
    "    eqn_str = \"fd_n\"+str(i)+\" =lambdify(input_str,diff(fed_eqn(),sn\"+str(i)+\").subs(dict_all))\"\n",
    "    print(eqn_str)\n",
    "    exec(eqn_str)"
   ]
  },
  {
   "cell_type": "code",
   "execution_count": null,
   "metadata": {},
   "outputs": [],
   "source": [
    "fd"
   ]
  },
  {
   "cell_type": "code",
   "execution_count": null,
   "metadata": {},
   "outputs": [],
   "source": [
    "fd_n2"
   ]
  },
  {
   "cell_type": "code",
   "execution_count": null,
   "metadata": {},
   "outputs": [],
   "source": [
    "n_array = np.zeros([n_conv,N])"
   ]
  },
  {
   "cell_type": "code",
   "execution_count": null,
   "metadata": {},
   "outputs": [],
   "source": [
    "#@jit\n",
    "def conv (rho,w):\n",
    "    LLw = int((conv_dim-1)/2)\n",
    "    #print(LLw)\n",
    "    rho_pad=np.copy(rho)\n",
    "    rho_tile=np.tile(rho_pad,3)\n",
    "    rho_pad=rho_tile[N-LLw:2*N+LLw]\n",
    "    n = np.correlate(rho_pad,w)\n",
    "    return n*dx"
   ]
  },
  {
   "cell_type": "markdown",
   "metadata": {},
   "source": [
    "# $C_2$"
   ]
  },
  {
   "cell_type": "code",
   "execution_count": null,
   "metadata": {},
   "outputs": [],
   "source": [
    "def cal_c2_FMT(x,rho0):\n",
    "    c2 = np.zeros(x.shape[0])\n",
    "    for i in range(Lw):\n",
    "        r=np.abs(x[i])\n",
    "        eta = rho0\n",
    "        if(r<1):\n",
    "            c2[i]=-1/(1-eta)-eta/((1-eta)**2)*(1-r)\n",
    "        else:\n",
    "            c2[i]=0\n",
    "    return c2\n",
    "    "
   ]
  },
  {
   "cell_type": "code",
   "execution_count": null,
   "metadata": {},
   "outputs": [],
   "source": [
    "def wconvw (rho,w):\n",
    "    Lw=conv_dim\n",
    "    LLw = int((conv_dim-1)/2)\n",
    "    rho_pad=np.copy(rho)\n",
    "    rho_pad=np.pad(rho_pad,(LLw,LLw),mode='constant',constant_values=0)\n",
    "    n = np.correlate(rho_pad,w)\n",
    "    return n*dx"
   ]
  },
  {
   "cell_type": "code",
   "execution_count": null,
   "metadata": {},
   "outputs": [],
   "source": [
    "fd"
   ]
  },
  {
   "cell_type": "code",
   "execution_count": null,
   "metadata": {},
   "outputs": [],
   "source": [
    "c2_sim=np.loadtxt(\"../c2_LJ/c2_z_1.5_eps_1.5_rho_avg_0.61\")"
   ]
  },
  {
   "cell_type": "code",
   "execution_count": null,
   "metadata": {},
   "outputs": [],
   "source": []
  },
  {
   "cell_type": "code",
   "execution_count": null,
   "metadata": {},
   "outputs": [],
   "source": [
    "def cal_c2_ML(rho0,eps):\n",
    "    srho0=symbols('rho') \n",
    "    \n",
    "    sub_str = \"({\"\n",
    "    for i in range (n_conv):\n",
    "        sub_str+=\"\\\"n\"+str(i)+\"\\\":np.sum(w_array[\"+str(i)+\"])*dx*srho0,\"\n",
    "    sub_str += \"seps0:\"+str(eps)\n",
    "    sub_str += \"})\"\n",
    "    fd=fed_eqn().subs(dict_all)\n",
    "    c2 = np.zeros(conv_dim)\n",
    "    for i in range (n_conv):\n",
    "        for j in range (n_conv):\n",
    "            print(i,j,n_conv)\n",
    "            temp=wconvw(w_array[i],w_array[j])\n",
    "            str_temp= \"diff(diff(fd,sn\"+str(i)+\"),sn\"+str(j)+\").subs\"+sub_str\n",
    "            tmp=eval(str_temp)\n",
    "            tmp=float(tmp.subs({\"rho\":rho0}))\n",
    "            #tmp=float(tmp.subs({\"eps\":eps}))\n",
    "            \n",
    "            #print(type(tmp),tmp)\n",
    "            #print(type(tmp),tmp)\n",
    "            \n",
    "            #print(tmp.subs({\"rho\":rho0}))\n",
    "            #print(tmp,type(Float(tmp)),type(temp))\n",
    "            c2-=eps*tmp*temp\n",
    "    return c2"
   ]
  },
  {
   "cell_type": "code",
   "execution_count": null,
   "metadata": {},
   "outputs": [],
   "source": [
    "c2=cal_c2_ML(0.5,0.5)"
   ]
  },
  {
   "cell_type": "code",
   "execution_count": null,
   "metadata": {},
   "outputs": [],
   "source": [
    "Lw=conv_dim\n",
    "LLw = int((conv_dim-1)/2)\n",
    "rho0=0.5\n",
    "x = np.linspace(-LLw,LLw,Lw)*dx\n",
    "plt.plot(x,cal_c2_ML(rho0,0.5),\"k--\",label=\"ML\")\n",
    "plt.legend(fontsize=20)\n",
    "\n",
    "plt.ylabel(r\"$C_2(x)$\",fontsize=25)\n",
    "plt.xlabel(r\"$x(\\sigma)$\",fontsize=25)\n",
    "plt.title(r\"$\\rho=\"+str(rho0)+\"$\",fontsize=25)"
   ]
  },
  {
   "cell_type": "code",
   "execution_count": null,
   "metadata": {},
   "outputs": [],
   "source": [
    "Lw=conv_dim\n",
    "LLw = int((conv_dim-1)/2)\n",
    "\n",
    "x = np.linspace(-LLw,LLw,Lw)*dx\n",
    "\n",
    "\n",
    "c2_sim=np.loadtxt(\"../c2_LJ/c2_z_1.85_eps_1.85_rho_avg_0.70\")\n",
    "eps=1.85\n",
    "rho0=0.703\n",
    "plt.plot(c2_sim[0],c2_sim[1],\"k-\",lw=3,label=r\"MC,\\,$\\rho_0=$\"+str(rho0)+ r\"$\\,,\\epsilon$=\"+str(eps))\n",
    "plt.plot(x,cal_c2_ML(rho0,eps)+cal_c2_FMT(x,rho0),\"k--\",lw=3,label=\"ML\")\n",
    "plt.legend(fontsize=12,loc=\"best\")\n",
    "\n",
    "plt.ylabel(r\"$C_2(x)$\",fontsize=25)\n",
    "plt.xlabel(r\"$x(\\sigma)$\",fontsize=25)\n",
    "plt.xticks(fontsize=15)\n",
    "plt.yticks(fontsize=15)\n",
    "#plt.title(r\"$\\rho=\"+str(rho0)+\"$\",fontsize=25)\n",
    "plt.xlim(0,3)\n",
    "\n",
    "\n",
    "\n",
    "plt.savefig(\"c2_LJ.eps\",format=\"eps\",bbox_inches='tight')"
   ]
  },
  {
   "cell_type": "code",
   "execution_count": null,
   "metadata": {},
   "outputs": [],
   "source": [
    "Lw=conv_dim\n",
    "LLw = int((conv_dim-1)/2)\n",
    "rho0=0.1\n",
    "x = np.linspace(-LLw,LLw,Lw)*dx\n",
    "plt.plot(x,cal_c2_ML(rho0,0.1)+cal_c2_FMT(x,rho0),\"k--\",label=\"ML\")\n",
    "plt.legend(fontsize=20)\n",
    "\n",
    "plt.ylabel(r\"$C_2(x)$\",fontsize=25)\n",
    "plt.xlabel(r\"$x(\\sigma)$\",fontsize=25)\n",
    "plt.title(r\"$\\rho=\"+str(rho0)+\"$\",fontsize=25)"
   ]
  },
  {
   "cell_type": "code",
   "execution_count": null,
   "metadata": {},
   "outputs": [],
   "source": [
    "\n",
    "x = np.linspace(-LLw,LLw,Lw)*dx\n",
    "\n",
    "c2_sim=np.loadtxt(\"../c2_LJ/c2_z_1.85_eps_1.85_rho_avg_0.70\")\n",
    "c2_ML_nosplitting=np.loadtxt(\n",
    "    \"../LJ_no_split/ML_no_splitting_c2_eps_1.85_rho0_0.703.dat\")\n",
    "\n",
    "eps=1.85\n",
    "rho0=0.7\n",
    "\n",
    "\n",
    "plt.plot(c2_sim[0],c2_sim[1],\"k-\",lw=3,label=r\"LJ, MC\")\n",
    "plt.plot(c2_ML_nosplitting[0][::2],c2_ML_nosplitting[1][::2],\"grey\",linestyle='dotted',lw=3,label=\"LJ, ML-no splitting\")\n",
    "plt.plot(x,cal_c2_ML(rho0,eps)+cal_c2_FMT(x,rho0),\"red\",linestyle='dashed',lw=3,label=\"LJ, ML-splitting\")\n",
    "\n",
    "c2_ML_HR=np.loadtxt(\n",
    "    \"../../HR/functional_test/ML_HR_rho0_0.70.dat\")\n",
    "#plt.plot(x,cal_c2_FMT(x,0.7),\"b-\",lw=2,label=r\"HR, FMT,\\,$\\rho_0=$\"+str(rho0))\n",
    "plt.plot(x,cal_c2_FMT(x,0.7),\"b-\",lw=3,label=r\"HR, Percus\")\n",
    "plt.plot(c2_ML_HR[0],c2_ML_HR[1],\"g--\",lw=3,label=r\"HR, ML\")\n",
    "\n",
    "\n",
    "\n",
    "\n",
    "plt.legend(fontsize=12,loc=\"best\")\n",
    "plt.ylabel(r\"$C^{(2)}(x)$\",fontsize=25)\n",
    "plt.xlabel(r\"$x/\\sigma$\",fontsize=25)\n",
    "plt.xticks(fontsize=20)\n",
    "plt.yticks(np.linspace(-20,8,8),fontsize=20)\n",
    "#plt.title(r\"$\\rho=\"+str(rho0)+\"$\",fontsize=25)\n",
    "plt.xlim(0,2.7)\n",
    "#plt.xlim(-4,4)\n",
    "\n",
    "plt.ylim(-12,4.5)\n",
    "\n",
    "plt.savefig(\"c2_all.eps\",format=\"eps\",bbox_inches='tight')"
   ]
  }
 ],
 "metadata": {
  "kernelspec": {
   "display_name": "Python 3",
   "language": "python",
   "name": "python3"
  },
  "language_info": {
   "codemirror_mode": {
    "name": "ipython",
    "version": 3
   },
   "file_extension": ".py",
   "mimetype": "text/x-python",
   "name": "python",
   "nbconvert_exporter": "python",
   "pygments_lexer": "ipython3",
   "version": "3.6.9"
  }
 },
 "nbformat": 4,
 "nbformat_minor": 2
}
