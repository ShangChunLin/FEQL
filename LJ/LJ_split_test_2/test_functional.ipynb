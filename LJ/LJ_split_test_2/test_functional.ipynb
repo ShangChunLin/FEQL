{
 "cells": [
  {
   "cell_type": "code",
   "execution_count": null,
   "metadata": {},
   "outputs": [],
   "source": [
    "from __future__ import print_function, division\n",
    "from sympy import *\n",
    "import ast\n",
    "import numpy as np\n",
    "import matplotlib.pyplot as plt\n",
    "from numba import jit\n",
    "#from brokenaxes import brokenaxes"
   ]
  },
  {
   "cell_type": "code",
   "execution_count": null,
   "metadata": {},
   "outputs": [],
   "source": [
    "from matplotlib import rc\n",
    "rc('font',**{'family':'sans-serif','sans-serif':['Helvetica']})\n",
    "rc('text', usetex=True)"
   ]
  },
  {
   "cell_type": "code",
   "execution_count": null,
   "metadata": {},
   "outputs": [],
   "source": [
    "name = \"free_energy_def.dat\"\n",
    "tmp = open(name, \"r\")\n",
    "tmp=tmp.read()\n",
    "exec(tmp)"
   ]
  },
  {
   "cell_type": "code",
   "execution_count": null,
   "metadata": {},
   "outputs": [],
   "source": [
    "name = \"assign_symbols_final.dat\"\n",
    "tmp = open(name, \"r\")\n",
    "tmp=tmp.read()\n",
    "exec(tmp)"
   ]
  },
  {
   "cell_type": "code",
   "execution_count": null,
   "metadata": {},
   "outputs": [],
   "source": [
    "w_array = np.loadtxt(\"w_array.dat\")"
   ]
  },
  {
   "cell_type": "code",
   "execution_count": null,
   "metadata": {},
   "outputs": [],
   "source": [
    "name = \"ML_parameter.dat\" #load n_conv, con_dim,kill (killsmall)\n",
    "tmp = open(name, \"r\")\n",
    "tmp=tmp.read()\n",
    "exec(tmp)\n",
    "kill=float(kill)\n",
    "print(n_parameter,conv_dim,n_conv,kill)"
   ]
  },
  {
   "cell_type": "code",
   "execution_count": null,
   "metadata": {},
   "outputs": [],
   "source": [
    "fed_eqn"
   ]
  },
  {
   "cell_type": "code",
   "execution_count": null,
   "metadata": {},
   "outputs": [],
   "source": [
    "#fed_eqn()"
   ]
  },
  {
   "cell_type": "code",
   "execution_count": null,
   "metadata": {},
   "outputs": [],
   "source": [
    "name = \"all_parameter.dat\"\n",
    "tmp = open(name, \"r\")\n",
    "tmp=tmp.read()\n",
    "#print(tmp)\n",
    "tmp=tmp.replace(\"/varible:0\",\":\")\n",
    "tmp=tmp.replace(\"/const_1:0\",\":\")\n",
    "\n",
    "for i in range(100):\n",
    "    tmp=tmp.replace(\"_\"+str(i),\"\")\n",
    "tmp=tmp.replace(\"[[\",\"\")\n",
    "tmp=tmp.replace(\"]]\",\"\")\n",
    "tmp=tmp.replace(\"\\n\",\",\")\n",
    "tmp=tmp.replace(\":\",\"\\\":\")\n",
    "tmp=tmp.replace(\",\",\",\\\"\")\n",
    "tmp=\"{\\\"\"+tmp+\"}\"\n",
    "tmp=tmp.replace(\",\\\"}\",\"}\")\n",
    "#print(tmp)\n",
    "dict_all=ast.literal_eval(tmp)"
   ]
  },
  {
   "cell_type": "code",
   "execution_count": null,
   "metadata": {},
   "outputs": [],
   "source": [
    "dict_all.keys()"
   ]
  },
  {
   "cell_type": "code",
   "execution_count": null,
   "metadata": {},
   "outputs": [],
   "source": [
    "kill_small=0\n",
    "for i in list(dict_all.keys()):\n",
    "    if(np.abs(dict_all[i])<kill and i[0]==\"a\"):\n",
    "        dict_all[i]=0\n",
    "        kill_small+=1\n",
    "print(len(dict_all.keys()),kill_small)"
   ]
  },
  {
   "cell_type": "code",
   "execution_count": null,
   "metadata": {},
   "outputs": [],
   "source": [
    "input_symbols = fed_eqn().subs(dict_all).free_symbols"
   ]
  },
  {
   "cell_type": "code",
   "execution_count": null,
   "metadata": {},
   "outputs": [],
   "source": [
    "input_str = \"[\"\n",
    "for i in range(n_parameter):\n",
    "    input_str+=\"seps\"+str(i)+\",\"\n",
    "for i in range(n_conv):\n",
    "    input_str+=\"sn\"+str(i)+\",\"\n",
    "input_str += \"]\"\n",
    "tmp = \"input_str=\"+input_str\n",
    "exec(tmp)"
   ]
  },
  {
   "cell_type": "code",
   "execution_count": null,
   "metadata": {},
   "outputs": [],
   "source": [
    "input_str"
   ]
  },
  {
   "cell_type": "code",
   "execution_count": null,
   "metadata": {},
   "outputs": [],
   "source": [
    "fd = lambdify(input_str,fed_eqn().subs(dict_all))"
   ]
  },
  {
   "cell_type": "code",
   "execution_count": null,
   "metadata": {},
   "outputs": [],
   "source": [
    "fd"
   ]
  },
  {
   "cell_type": "code",
   "execution_count": null,
   "metadata": {},
   "outputs": [],
   "source": [
    "fed_eqn()"
   ]
  },
  {
   "cell_type": "code",
   "execution_count": null,
   "metadata": {},
   "outputs": [],
   "source": [
    "fed_eqn().subs(dict_all)"
   ]
  },
  {
   "cell_type": "code",
   "execution_count": null,
   "metadata": {},
   "outputs": [],
   "source": [
    "dict_all"
   ]
  },
  {
   "cell_type": "code",
   "execution_count": null,
   "metadata": {},
   "outputs": [],
   "source": [
    "for i in range(n_conv):\n",
    "    eqn_str = \"fd_n\"+str(i)+\" =lambdify(input_str,diff(fed_eqn().subs(dict_all),sn\"+str(i)+\"))\"\n",
    "    #print(eqn_str)\n",
    "    exec(eqn_str)"
   ]
  },
  {
   "cell_type": "code",
   "execution_count": null,
   "metadata": {},
   "outputs": [],
   "source": [
    "fd"
   ]
  },
  {
   "cell_type": "code",
   "execution_count": null,
   "metadata": {},
   "outputs": [],
   "source": [
    "fd_n0"
   ]
  },
  {
   "cell_type": "code",
   "execution_count": null,
   "metadata": {},
   "outputs": [],
   "source": [
    "data_file = '../LJ_data_wall/data_all/'\n",
    "f=np.loadtxt(data_file+\"MC_parameter.dat\")\n",
    "L = float(f[0])\n",
    "dx = float(f[1])\n",
    "N = int(L/dx)\n",
    "print(N,L,dx)"
   ]
  },
  {
   "cell_type": "code",
   "execution_count": null,
   "metadata": {},
   "outputs": [],
   "source": [
    "n_array = np.zeros([n_conv,N])"
   ]
  },
  {
   "cell_type": "code",
   "execution_count": null,
   "metadata": {},
   "outputs": [],
   "source": [
    "#@jit\n",
    "def conv (rho,w,flip):\n",
    "    LLw = int((conv_dim-1)/2)\n",
    "    #print(LLw)\n",
    "    rho_pad=np.copy(rho)\n",
    "    rho_tile=np.tile(rho_pad,3)\n",
    "    rho_pad=rho_tile[N-LLw:2*N+LLw]\n",
    "    if(flip==1):\n",
    "        n = np.correlate(rho_pad,np.flip(w))\n",
    "    else:\n",
    "        n = np.correlate(rho_pad,w)\n",
    "    return n*dx"
   ]
  },
  {
   "cell_type": "code",
   "execution_count": null,
   "metadata": {},
   "outputs": [],
   "source": [
    "rho_test=np.full(N,0.1)\n",
    "n0=conv(rho_test,w_array[0],1)"
   ]
  },
  {
   "cell_type": "code",
   "execution_count": null,
   "metadata": {},
   "outputs": [],
   "source": [
    "n0.shape"
   ]
  },
  {
   "cell_type": "code",
   "execution_count": null,
   "metadata": {},
   "outputs": [],
   "source": [
    "x=np.linspace(-conv_dim*dx/2,conv_dim*dx/2,conv_dim)\n",
    "for i in range (n_conv):\n",
    "    plt.plot(x,w_array[i],linewidth=3,label=r\"$\\omega_{\"+str(i)+\"}$\")\n",
    "plt.legend(fontsize=20,loc=\"lower right\")\n",
    "plt.xlabel(r\"$x/\\sigma$\",fontsize=25)\n",
    "plt.ylabel(r\"$\\omega$\",fontsize=25)\n",
    "plt.xticks(fontsize=15)\n",
    "plt.yticks(fontsize=15)\n",
    "#plt.xlim([-4,4])\n",
    "#plt.ylim([np.min(w_array)-0.05,0.8])\n",
    "#plt.text(-12.5,1.2,r\"$(b)$\",fontsize=25)\n",
    "plt.savefig(\"wlj_tail.eps\",format=\"eps\",bbox_inches='tight')"
   ]
  },
  {
   "cell_type": "markdown",
   "metadata": {},
   "source": [
    "## one parameter"
   ]
  },
  {
   "cell_type": "code",
   "execution_count": null,
   "metadata": {},
   "outputs": [],
   "source": [
    "def w_FMT(eps):\n",
    "    #d=cal_eff_diameter (eps)\n",
    "    R = 1.0/2\n",
    "    k=np.linspace(0,N//2,N//2+1)*2*np.pi/L\n",
    "    w0=2*np.cos(k*R)/2\n",
    "    k[0]=1 #keep notebook shutup\n",
    "    w1=2*np.sin(k*R)/k\n",
    "    w1[0]=2*R\n",
    "    return w0,w1;\n",
    "\n",
    "def cal_n(rho,w):\n",
    "    return np.fft.irfft(np.fft.rfft(rho)*w)\n",
    "\n",
    "def cal_c1_FMT(rho,eps=0):\n",
    "    w0,w1 = w_FMT(eps)\n",
    "    n0=cal_n(rho,w0)\n",
    "    n1=cal_n(rho,w1)\n",
    "    F0=-np.log(1-n1)\n",
    "    F1=n0/(1-n1)\n",
    "    #print(np.min(1-n1))\n",
    "    return cal_n(F0,w0)+cal_n(F1,w1),-n0*np.log(1-n1)\n",
    "    #return np.zeros(len(rho)),np.zeros(len(rho))\n",
    "    "
   ]
  },
  {
   "cell_type": "code",
   "execution_count": null,
   "metadata": {},
   "outputs": [],
   "source": [
    "#@jit\n",
    "def cal_df(rho,w,eps):\n",
    "    \n",
    "    n_array = np.zeros([n_conv,N])\n",
    "    n1=np.zeros(N)\n",
    "    tmp=\"\"\n",
    "    for i in range(n_conv):\n",
    "        n_array[i]=conv(rho,w[i],1)\n",
    "\n",
    "    #print(n_array)\n",
    "    input_str=\"(\"+str(eps)+\",\"\n",
    "    for i in range(n_conv):\n",
    "        input_str+=\"n_array[\"+str(i)+\"]\"\n",
    "        if(i!=n_conv-1):\n",
    "            input_str+=\",\"\n",
    "    input_str += \")\"\n",
    "    #print(input_str)\n",
    "    c1=0\n",
    "    for i in range(n_conv):\n",
    "        string = \"fd_n\"+str(i)+input_str\n",
    "        fn=eval(string)\n",
    "        c1+=conv(fn,w[i],0)\n",
    "    #print(c1[0])\n",
    "    fed = \"fd\"+input_str\n",
    "    #print(fed)\n",
    "    fed = eval(fed)\n",
    "    #print(fed)\n",
    "    \n",
    "    #return c1,fed\n",
    "    return np.float(eps)*c1+cal_c1_FMT(rho)[0],eps*fed+cal_c1_FMT(rho)[1]"
   ]
  },
  {
   "cell_type": "code",
   "execution_count": null,
   "metadata": {},
   "outputs": [],
   "source": [
    "def eos(rho0,w,eps):\n",
    "    rho=np.full(N,rho0)\n",
    "    c1,f=cal_df(rho,w,eps)\n",
    "    p=f-rho*c1\n",
    "    return -p[0]+rho0"
   ]
  },
  {
   "cell_type": "code",
   "execution_count": null,
   "metadata": {},
   "outputs": [],
   "source": [
    "def cal_P_ML(eps):\n",
    "    rho0_array=np.linspace(0,0.85,20)\n",
    "    P_ML=np.zeros(len(rho0_array))\n",
    "    for i in range (len(P_ML)):\n",
    "        P_ML[i]=eos(rho0_array[i],w_array,eps)\n",
    "    return rho0_array,P_ML"
   ]
  },
  {
   "cell_type": "code",
   "execution_count": null,
   "metadata": {},
   "outputs": [],
   "source": []
  },
  {
   "cell_type": "code",
   "execution_count": null,
   "metadata": {},
   "outputs": [],
   "source": [
    "c=['g','r','b','k']\n",
    "eps_array=[1.0,1.5,2.5,3.5]\n",
    "for i in range (4):\n",
    "    eps=eps_array[i]\n",
    "    #c=np.random.rand(3)\n",
    "    #print(c)\n",
    "    P_MC = np.loadtxt(\"../LJ_pressure/P_rho_eps_\"+str(eps)+\".dat\")\n",
    "    plt.plot(P_MC[:,1],P_MC[:,0],\"--\",color=c[i],label=r\"MC, $\\epsilon$ =\"+str(eps),lw=3)\n",
    "    P_ML=cal_P_ML(eps)\n",
    "    plt.plot(P_ML[0],P_ML[1],\"o\",markerfacecolor=\"None\",\n",
    "         markeredgecolor=c[i], markeredgewidth=2,label=r\"ML\",lw=2)\n",
    "plt.ylim([-0.1,6])    \n",
    "plt.legend(fontsize=14,loc='upper left')\n",
    "plt.ylabel(r\"$P\\sigma$\",fontsize=25)\n",
    "plt.xlabel(r\"$\\rho\\sigma$\",fontsize=25)\n",
    "plt.xticks(fontsize=20)\n",
    "plt.yticks(fontsize=20)\n",
    "plt.text(-0.2,6/8*9,r\"$(a)$\",fontsize=25)\n",
    "plt.savefig(\"PLJ_tail.eps\",format=\"eps\",bbox_inches='tight')"
   ]
  },
  {
   "cell_type": "code",
   "execution_count": null,
   "metadata": {},
   "outputs": [],
   "source": [
    "def mu_FMT (rho):\n",
    "    R=0.5\n",
    "    return (2*R*rho)/(1 - 2*R*rho) - np.log(1 - 2*R*rho)+np.log(rho)"
   ]
  },
  {
   "cell_type": "code",
   "execution_count": null,
   "metadata": {},
   "outputs": [],
   "source": [
    "rho0_array=np.linspace(0.01,0.9,100)\n",
    "mu_ML=np.zeros(len(rho0_array))\n",
    "for i in range (len(mu_ML)):\n",
    "    mu_ML[i]=(cal_df(np.full(N,rho0_array[i]),w_array,eps)[0])[0]+np.log(rho0_array[i])"
   ]
  },
  {
   "cell_type": "code",
   "execution_count": null,
   "metadata": {},
   "outputs": [],
   "source": [
    "#@jit\n",
    "def picard(rho,Vext,w,eps,alpha=10**-3,mu=0):\n",
    "    c1 = cal_df(rho,w,eps)[0]\n",
    "    rho_new = np.exp(-c1-Vext)\n",
    "    #mu=np.log(np.sum(rho)/np.sum(rho_new))\n",
    "    rho_new *= np.exp(mu)\n",
    "    error=np.mean((rho_new-rho)**2)\n",
    "    rho=(1-alpha)*rho+alpha*rho_new\n",
    "    \n",
    "    return rho,error"
   ]
  },
  {
   "cell_type": "code",
   "execution_count": null,
   "metadata": {},
   "outputs": [],
   "source": [
    "def c1_MF(rho,eps):\n",
    "    r=np.linspace(-L/2,L/2,N+1)\n",
    "    #print(type(r),type(eps))\n",
    "    U_base=4*eps*(1/r**12-1/r**6)\n",
    "    \n",
    "    \n",
    "    U_base[np.where(np.abs(r)<1)]=0\n",
    "    LLw = int(N//2)\n",
    "    #print(LLw)\n",
    "    rho_pad=np.copy(rho)\n",
    "    rho_tile=np.tile(rho_pad,3)\n",
    "    rho_pad=rho_tile[N-LLw:2*N+LLw]\n",
    "    n = np.correlate(rho_pad,U_base)\n",
    "    #print(n.shape,U_base.shape)\n",
    "    return n*dx\n",
    "\n",
    "#@jit\n",
    "def cal_df_MF(rho,eps):\n",
    "\n",
    "    c1=c1_MF(rho,eps)\n",
    "    \n",
    "    return c1+cal_c1_FMT(rho,eps)[0]\n",
    "\n",
    "#@jit\n",
    "def picard_MF(rho,Vext,eps,alpha=10**-3,mu=0):\n",
    "    eps=float(eps)\n",
    "    c1 = cal_df_MF(rho,eps)\n",
    "    rho_new = np.exp(-c1-Vext)\n",
    "    rho_new *= np.exp(mu)\n",
    "    error=np.mean((rho_new-rho)**2)\n",
    "    rho=(1-alpha)*rho+alpha*rho_new\n",
    "    \n",
    "    return rho,error"
   ]
  },
  {
   "cell_type": "code",
   "execution_count": null,
   "metadata": {},
   "outputs": [],
   "source": [
    "\n",
    "f = open(data_file+'/MC_inform.dat', 'r')\n",
    "MC_inform = f.read().splitlines()\n",
    "for i in range(len(MC_inform)):\n",
    "    #print(MC_inform[i])\n",
    "    MC_inform[i]=MC_inform[i].split(\"\\t\")\n",
    "f.close()\n",
    "#MC_inform"
   ]
  },
  {
   "cell_type": "code",
   "execution_count": null,
   "metadata": {},
   "outputs": [],
   "source": [
    "\n",
    "#i=np.random.randint(0,32)\n",
    "i=178\n",
    "print(MC_inform[i])\n",
    "print(\"i=\",i)\n",
    "Vext = np.loadtxt(data_file+'/Vext_'+str(i)+'.dat')\n",
    "rho_test = np.loadtxt(data_file+'/rho_'+str(i)+'.dat')\n",
    "mu = np.log(float(MC_inform[i][2]))\n",
    "eps = float(MC_inform[i][1])\n",
    "print(i,eps,mu)\n",
    "#mu=0.22182268\n",
    "#eps=2\n",
    "\n",
    "alpha=10**-3\n",
    "rho=np.full(N,np.mean(rho_test))\n",
    "error_array=[]\n",
    "threshold=10**-6\n",
    "for i in range(100000):\n",
    "    rho,error=picard(rho,Vext,w_array,eps,alpha,mu)\n",
    "    error_array+=[error]\n",
    "    if(i%1000==0):\n",
    "        print(error)\n",
    "    if(error<threshold):\n",
    "        break\n",
    "        \n",
    "rho_MF=np.full(N,0.1)\n",
    "error_array=[]\n",
    "threshold=10**-6\n",
    "for i in range(1000000):\n",
    "    rho_MF,error=picard_MF(rho_MF,Vext,eps,alpha,mu)\n",
    "    error_array+=[error]\n",
    "    if(i%1000==0):\n",
    "        print(error)\n",
    "    if(error<threshold):\n",
    "        break"
   ]
  },
  {
   "cell_type": "code",
   "execution_count": null,
   "metadata": {},
   "outputs": [],
   "source": [
    "plt.plot(rho)\n",
    "plt.plot(rho_test)\n"
   ]
  },
  {
   "cell_type": "code",
   "execution_count": null,
   "metadata": {},
   "outputs": [],
   "source": [
    "data_file=\"../LJ_data_wall/data_all\"\n",
    "f = open(data_file+'/MC_inform.dat', 'r')\n",
    "MC_inform = f.read().splitlines()\n",
    "for i in range(len(MC_inform)):\n",
    "    #print(MC_inform[i])\n",
    "    MC_inform[i]=MC_inform[i].split(\"\\t\")\n",
    "f.close()\n",
    "MC_inform"
   ]
  },
  {
   "cell_type": "code",
   "execution_count": null,
   "metadata": {},
   "outputs": [],
   "source": [
    "\n",
    "i=180\n",
    "#rho_wall = np.loadtxt('LJ_data_fuzzy/LJ_python_wall/wall_mu_2_eps_2_MC.dat')\n",
    "#Vext_wall = np.loadtxt('LJ_data_fuzzy/LJ_python_wall/wall_Vext.dat')\n",
    "Vext = np.loadtxt(data_file+'/Vext_'+str(i)+'.dat')\n",
    "rho_test = np.loadtxt(data_file+'/rho_'+str(i)+'.dat')\n",
    "\n",
    "mu = np.log(float(MC_inform[i][2]))\n",
    "eps = np.float(MC_inform[i][1])\n",
    "print(mu,eps)\n",
    "#mu=0.22182268\n",
    "#eps=2\n",
    "print(i,eps,np.exp(mu))\n",
    "alpha=10**-3\n",
    "rho=np.full(N,np.mean(rho_test ))\n",
    "error_array=[]\n",
    "threshold=10**-6\n",
    "for i in range(100000):\n",
    "    rho,error=picard(rho,Vext,w_array,eps,alpha,mu)\n",
    "    error_array+=[error]\n",
    "    if(i%1000==0):\n",
    "        print(error)\n",
    "    if(error<threshold):\n",
    "        break\n",
    "        \n",
    "rho_MF=np.full(N,0.1)\n",
    "error_array=[]\n",
    "threshold=10**-6\n",
    "for i in range(1000000):\n",
    "    rho_MF,error=picard_MF(rho_MF,Vext,eps,alpha,mu)\n",
    "    error_array+=[error]\n",
    "    if(i%1000==0):\n",
    "        print(error)\n",
    "    if(error<threshold):\n",
    "        break"
   ]
  },
  {
   "cell_type": "code",
   "execution_count": null,
   "metadata": {},
   "outputs": [],
   "source": [
    "x=np.linspace(0,L-dx,N)\n",
    "grid = plt.GridSpec(4, 1, wspace=0.4, hspace=0.5)\n",
    "plt.subplot(grid[0, 0])\n",
    "\n",
    "plt.text(0.1,2,r\"$\\infty$\",fontsize=20)\n",
    "plt.plot(x,Vext,\"k-\",lw=3)\n",
    "plt.xlim([0.02,15])\n",
    "plt.ylim([-4,10])\n",
    "plt.text(-3,15,r\"$(b)$\",fontsize=25)\n",
    "plt.tick_params(\n",
    "    axis='x',          # changes apply to the x-axis\n",
    "    which='both',      # both major and minor ticks are affected\n",
    "    bottom=False,      # ticks along the bottom edge are off\n",
    "    top=False,         # ticks along the top edge are off\n",
    "    labelbottom=False)\n",
    "plt.yticks(fontsize=15)\n",
    "\n",
    "\n",
    "plt.ylabel(r\"$V^{\\mbox{\\large  ext}}$\",fontsize=25)\n",
    "\n",
    "plt.subplot(grid[1:, 0])\n",
    "plt.plot(x,rho_test,\"k-\",lw=3,label=\"MC\")\n",
    "plt.plot(x,rho,\"b--\",lw=3,ms=2,label=\"ML\")\n",
    "plt.xlim([0.02,15])\n",
    "plt.legend(fontsize=20,loc=\"upper right\")\n",
    "plt.ylabel(r\"$\\rho\\sigma$\",fontsize=25)\n",
    "plt.xlabel(r\"$x/\\sigma$\",fontsize=25)\n",
    "#plt.title(r\"$\\rho_0\\sigma=0.43$\",fontsize=25)\n",
    "plt.xticks(fontsize=20)\n",
    "plt.yticks([0,0.4,0.8,1.2],fontsize=20)\n",
    "plt.savefig(\"rho_LJ_tail_inside.eps\",format=\"eps\",bbox_inches='tight')"
   ]
  },
  {
   "cell_type": "code",
   "execution_count": null,
   "metadata": {},
   "outputs": [],
   "source": [
    "x=np.linspace(0,L-dx,N)\n",
    "grid = plt.GridSpec(4, 1, wspace=0.4, hspace=0.5)\n",
    "plt.subplot(grid[0, 0])\n",
    "\n",
    "plt.text(0.1,2,r\"$\\infty$\",fontsize=20)\n",
    "plt.plot(x,Vext,\"k-\",lw=3)\n",
    "plt.xlim([0.02,15])\n",
    "plt.ylim([-4,10])\n",
    "plt.text(-3,15,r\"$(b)$\",fontsize=25)\n",
    "plt.tick_params(\n",
    "    axis='x',          # changes apply to the x-axis\n",
    "    which='both',      # both major and minor ticks are affected\n",
    "    bottom=False,      # ticks along the bottom edge are off\n",
    "    top=False,         # ticks along the top edge are off\n",
    "    labelbottom=False)\n",
    "plt.yticks(fontsize=15)\n",
    "\n",
    "\n",
    "plt.ylabel(r\"$V^{\\mbox{\\large  ext}}$\",fontsize=25)\n",
    "\n",
    "plt.subplot(grid[1:, 0])\n",
    "plt.plot(x,rho_test,\"k-\",lw=3,label=\"MC\")\n",
    "plt.plot(x,rho,\"b--\",lw=3,ms=2,label=\"ML\")\n",
    "plt.plot(x,rho_MF,\"r-.\",lw=3,ms=2,label=\"MF\")\n",
    "\n",
    "plt.xlim([0.02,15])\n",
    "plt.legend(fontsize=20,loc=\"upper right\", bbox_to_anchor=(0.99, 0.99))\n",
    "plt.ylabel(r\"$\\rho\\sigma$\",fontsize=25)\n",
    "plt.xlabel(r\"$x/\\sigma$\",fontsize=25)\n",
    "#plt.title(r\"$\\rho_0\\sigma=0.43$\",fontsize=25)\n",
    "plt.xticks(fontsize=20)\n",
    "plt.yticks([0,0.4,0.8,1.2],fontsize=20)\n",
    "plt.savefig(\"rho_LJ_tail_inside_w_MF.eps\",format=\"eps\",bbox_inches='tight')"
   ]
  },
  {
   "cell_type": "code",
   "execution_count": null,
   "metadata": {},
   "outputs": [],
   "source": [
    "x=np.linspace(0,L-dx,N)\n",
    "plt.plot(x,rho_test,\"k-\",lw=3,label=\"MC\")\n",
    "plt.plot(x,rho,\"b-.\",lw=3,ms=2,label=\"ML\")\n",
    "plt.legend(fontsize=35,loc=\"upper left\")\n",
    "plt.ylabel(r\"$\\rho\\sigma$\",fontsize=25)\n",
    "plt.xlabel(r\"$x(\\sigma)$\",fontsize=25)\n",
    "#plt.title(r\"$\\rho_0\\sigma=0.43$\",fontsize=25)\n",
    "#plt.savefig(\"rho_LJ_tail_inside.eps\",format=\"eps\",bbox_inches='tight')"
   ]
  },
  {
   "cell_type": "code",
   "execution_count": null,
   "metadata": {},
   "outputs": [],
   "source": [
    "data_file=\"../LJ_data_wall_test/data_0\"\n",
    "f = open(data_file+'/MC_inform.dat', 'r')\n",
    "MC_inform = f.read().splitlines()\n",
    "for i in range(len(MC_inform)):\n",
    "    #print(MC_inform[i])\n",
    "    MC_inform[i]=MC_inform[i].split(\"\\t\")\n",
    "f.close()\n",
    "MC_inform"
   ]
  },
  {
   "cell_type": "code",
   "execution_count": null,
   "metadata": {
    "scrolled": true
   },
   "outputs": [],
   "source": [
    "i= 2\n",
    "#rho_wall = np.loadtxt('LJ_data_fuzzy/LJ_python_wall/wall_mu_2_eps_2_MC.dat')\n",
    "#Vext_wall = np.loadtxt('LJ_data_fuzzy/LJ_python_wall/wall_Vext.dat')\n",
    "Vext = np.loadtxt(data_file+'/Vext_'+str(i)+'.dat')\n",
    "rho_test = np.loadtxt(data_file+'/rho_'+str(i)+'.dat')\n",
    "\n",
    "mu = np.log(float(MC_inform[i][2]))\n",
    "eps = np.float(MC_inform[i][1])\n",
    "print(type(eps))\n",
    "#mu=0.22182268\n",
    "#eps=2\n",
    "print(i,eps,np.exp(mu))\n",
    "alpha=10**-3\n",
    "rho=np.full(N,np.mean(rho_test))\n",
    "error_array=[]\n",
    "threshold=10**-6\n",
    "for i in range(1000000):\n",
    "    rho,error=picard(rho,Vext,w_array,eps,alpha,mu)\n",
    "    error_array+=[error]\n",
    "    if(i%1000==0):\n",
    "        print(error)\n",
    "    if(error<threshold):\n",
    "        break\n",
    "        \n",
    "rho_MF=np.full(N,0.1)\n",
    "error_array=[]\n",
    "threshold=10**-6\n",
    "for i in range(1000000):\n",
    "    rho_MF,error=picard_MF(rho_MF,Vext,eps,alpha,mu)\n",
    "    error_array+=[error]\n",
    "    if(i%1000==0):\n",
    "        print(error)\n",
    "    if(error<threshold):\n",
    "        break"
   ]
  },
  {
   "cell_type": "code",
   "execution_count": null,
   "metadata": {},
   "outputs": [],
   "source": [
    "x=np.linspace(0,L-dx,N)\n",
    "grid = plt.GridSpec(4, 1, wspace=0.4, hspace=0.5)\n",
    "plt.subplot(grid[0, 0])\n",
    "\n",
    "plt.text(0.15,2,r\"$\\infty$\",fontsize=20)\n",
    "plt.plot(x,Vext,\"k-\",lw=3)\n",
    "plt.ylim([-4,10])\n",
    "plt.xlim([0.1,10])\n",
    "plt.text(-3,15,r\"$(c)$\",fontsize=25)\n",
    "plt.tick_params(\n",
    "    axis='x',          # changes apply to the x-axis\n",
    "    which='both',      # both major and minor ticks are affected\n",
    "    bottom=False,      # ticks along the bottom edge are off\n",
    "    top=False,         # ticks along the top edge are off\n",
    "    labelbottom=False)\n",
    "plt.yticks(fontsize=20)\n",
    "plt.yticks(fontsize=20)\n",
    "\n",
    "\n",
    "plt.ylabel(r\"$V^{\\mbox{\\large  ext}}$\",fontsize=25)\n",
    "\n",
    "plt.subplot(grid[1:, 0])\n",
    "plt.plot(x,rho_test,\"k-\",lw=3,label=\"MC\")\n",
    "plt.plot(x,rho,\"b--\",lw=3,ms=2,label=\"ML\")\n",
    "#plt.legend(fontsize=12,loc=\"lower right\")\n",
    "plt.ylabel(r\"$\\rho\\sigma$\",fontsize=25)\n",
    "plt.xlabel(r\"$x/\\sigma$\",fontsize=25)\n",
    "plt.xlim([0.1,10])\n",
    "plt.ylim([-0.1,2.4])\n",
    "plt.xticks(fontsize=20)\n",
    "plt.yticks([0,1,2],fontsize=20)\n",
    "#plt.title(r\"$\\rho_0\\sigma=0.43$\",fontsize=25)\n",
    "plt.savefig(\"rho_LJ_tail_outside.eps\",format=\"eps\",bbox_inches='tight')"
   ]
  },
  {
   "cell_type": "code",
   "execution_count": null,
   "metadata": {},
   "outputs": [],
   "source": [
    "x=np.linspace(0,L-dx,N)\n",
    "grid = plt.GridSpec(4, 1, wspace=0.4, hspace=0.5)\n",
    "plt.subplot(grid[0, 0])\n",
    "\n",
    "plt.text(0.15,2,r\"$\\infty$\",fontsize=20)\n",
    "plt.plot(x,Vext,\"k-\",lw=3)\n",
    "plt.ylim([-4,10])\n",
    "plt.xlim([0.1,10])\n",
    "plt.text(-3,15,r\"$(c)$\",fontsize=25)\n",
    "plt.tick_params(\n",
    "    axis='x',          # changes apply to the x-axis\n",
    "    which='both',      # both major and minor ticks are affected\n",
    "    bottom=False,      # ticks along the bottom edge are off\n",
    "    top=False,         # ticks along the top edge are off\n",
    "    labelbottom=False)\n",
    "plt.yticks(fontsize=20)\n",
    "plt.yticks(fontsize=20)\n",
    "\n",
    "\n",
    "plt.ylabel(r\"$V^{\\mbox{\\large  ext}}$\",fontsize=25)\n",
    "\n",
    "plt.subplot(grid[1:, 0])\n",
    "plt.plot(x,rho_test,\"k-\",lw=3,label=\"MC\")\n",
    "plt.plot(x,rho,\"b--\",lw=3,ms=2,label=\"ML\")\n",
    "plt.plot(x,rho_MF,\"r-.\",lw=3,ms=2,label=\"MF\")\n",
    "#plt.legend(fontsize=12,loc=\"lower right\")\n",
    "plt.ylabel(r\"$\\rho\\sigma$\",fontsize=25)\n",
    "plt.xlabel(r\"$x/\\sigma$\",fontsize=25)\n",
    "plt.xlim([0.1,10])\n",
    "plt.ylim([-0.1,2.4])\n",
    "plt.xticks(fontsize=20)\n",
    "plt.yticks([0,1,2],fontsize=20)\n",
    "#plt.title(r\"$\\rho_0\\sigma=0.43$\",fontsize=25)\n",
    "plt.savefig(\"rho_LJ_tail_outside_w_MF.eps\",format=\"eps\",bbox_inches='tight')"
   ]
  },
  {
   "cell_type": "code",
   "execution_count": null,
   "metadata": {},
   "outputs": [],
   "source": []
  }
 ],
 "metadata": {
  "kernelspec": {
   "display_name": "Python 3",
   "language": "python",
   "name": "python3"
  },
  "language_info": {
   "codemirror_mode": {
    "name": "ipython",
    "version": 3
   },
   "file_extension": ".py",
   "mimetype": "text/x-python",
   "name": "python",
   "nbconvert_exporter": "python",
   "pygments_lexer": "ipython3",
   "version": "3.6.9"
  }
 },
 "nbformat": 4,
 "nbformat_minor": 2
}
