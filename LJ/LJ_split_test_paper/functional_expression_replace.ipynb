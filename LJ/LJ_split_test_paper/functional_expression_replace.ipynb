{
 "cells": [
  {
   "cell_type": "code",
   "execution_count": 1,
   "metadata": {},
   "outputs": [],
   "source": [
    "from __future__ import print_function, division\n",
    "from sympy import init_printing\n",
    "from sympy.printing.codeprinter import CodePrinter\n",
    "from sympy.printing.precedence import precedence\n",
    "from sympy.printing.str import StrPrinter\n",
    "from sympy import *\n",
    "import ast\n",
    "import numpy as np "
   ]
  },
  {
   "cell_type": "code",
   "execution_count": 2,
   "metadata": {},
   "outputs": [],
   "source": [
    "#init_session()"
   ]
  },
  {
   "cell_type": "code",
   "execution_count": 3,
   "metadata": {},
   "outputs": [],
   "source": [
    "name = \"free_energy_def.dat\"\n",
    "tmp = open(name, \"r\")\n",
    "tmp=tmp.read()\n",
    "exec(tmp)"
   ]
  },
  {
   "cell_type": "code",
   "execution_count": 4,
   "metadata": {},
   "outputs": [
    {
     "name": "stdout",
     "output_type": "stream",
     "text": [
      "1 513 4 0.05\n"
     ]
    }
   ],
   "source": [
    "name = \"ML_parameter.dat\" #load n_conv, con_dim,kill (killsmall)\n",
    "tmp = open(name, \"r\")\n",
    "tmp=tmp.read()\n",
    "exec(tmp)\n",
    "kill=float(kill)\n",
    "print(n_parameter,conv_dim,n_conv,kill)"
   ]
  },
  {
   "cell_type": "code",
   "execution_count": 5,
   "metadata": {},
   "outputs": [],
   "source": [
    "name = \"assign_symbols_final.dat\"\n",
    "tmp = open(name, \"r\")\n",
    "tmp=tmp.read()\n",
    "tmp=tmp.replace(\"eps0\",\"epsilon0\")\n",
    "tmp=tmp.replace(\"sepsilon0\",\"seps0\")\n",
    "\n",
    "exec(tmp)"
   ]
  },
  {
   "cell_type": "code",
   "execution_count": 6,
   "metadata": {},
   "outputs": [
    {
     "data": {
      "text/plain": [
       "\"sa1L0, sa1L1, sa1L10, sa1L11, sa1L12, sa1L13, sa1L14, sa1L15, sa1L16, sa1L17, sa1L18, sa1L19, sa1L2, sa1L20, sa1L21, sa1L22, sa1L23, sa1L24, sa1L25, sa1L26, sa1L27, sa1L28, sa1L29, sa1L3, sa1L30, sa1L31, sa1L32, sa1L33, sa1L34, sa1L35, sa1L4, sa1L5, sa1L6, sa1L7, sa1L8, sa1L9, sa2L10, sa2L11, sa2L15, sa2L16, sa2L17, sa2L18, sa2L19, sa2L20, sa2L21, sa2L22, sa2L23, sa2L24, sa2L25, sa2L26, sa2L27, sa2L28, sa2L29, sa2L3, sa2L30, sa2L31, sa2L32, sa2L33, sa2L34, sa2L35, sa2L36, sa2L37, sa2L38, sa2L39, sa2L4, sa2L40, sa2L41, sa2L42, sa2L43, sa2L44, sa2L45, sa2L46, sa2L47, sa2L48, sa2L49, sa2L5, sa2L50, sa2L51, sa2L52, sa2L53, sa2L9, seps0, sn0, sn1, sn2, sn3=symbols('a1L0, a1L1, a1L10, a1L11, a1L12, a1L13, a1L14, a1L15, a1L16, a1L17, a1L18, a1L19, a1L2, a1L20, a1L21, a1L22, a1L23, a1L24, a1L25, a1L26, a1L27, a1L28, a1L29, a1L3, a1L30, a1L31, a1L32, a1L33, a1L34, a1L35, a1L4, a1L5, a1L6, a1L7, a1L8, a1L9, a2L10, a2L11, a2L15, a2L16, a2L17, a2L18, a2L19, a2L20, a2L21, a2L22, a2L23, a2L24, a2L25, a2L26, a2L27, a2L28, a2L29, a2L3, a2L30, a2L31, a2L32, a2L33, a2L34, a2L35, a2L36, a2L37, a2L38, a2L39, a2L4, a2L40, a2L41, a2L42, a2L43, a2L44, a2L45, a2L46, a2L47, a2L48, a2L49, a2L5, a2L50, a2L51, a2L52, a2L53, a2L9, epsilon0, n0, n1, n2, n3')\\nsyms=(sa1L0, sa1L1, sa1L10, sa1L11, sa1L12, sa1L13, sa1L14, sa1L15, sa1L16, sa1L17, sa1L18, sa1L19, sa1L2, sa1L20, sa1L21, sa1L22, sa1L23, sa1L24, sa1L25, sa1L26, sa1L27, sa1L28, sa1L29, sa1L3, sa1L30, sa1L31, sa1L32, sa1L33, sa1L34, sa1L35, sa1L4, sa1L5, sa1L6, sa1L7, sa1L8, sa1L9, sa2L10, sa2L11, sa2L15, sa2L16, sa2L17, sa2L18, sa2L19, sa2L20, sa2L21, sa2L22, sa2L23, sa2L24, sa2L25, sa2L26, sa2L27, sa2L28, sa2L29, sa2L3, sa2L30, sa2L31, sa2L32, sa2L33, sa2L34, sa2L35, sa2L36, sa2L37, sa2L38, sa2L39, sa2L4, sa2L40, sa2L41, sa2L42, sa2L43, sa2L44, sa2L45, sa2L46, sa2L47, sa2L48, sa2L49, sa2L5, sa2L50, sa2L51, sa2L52, sa2L53, sa2L9, seps0, sn0, sn1, sn2, sn3)\""
      ]
     },
     "execution_count": 6,
     "metadata": {},
     "output_type": "execute_result"
    }
   ],
   "source": [
    "tmp"
   ]
  },
  {
   "cell_type": "code",
   "execution_count": 7,
   "metadata": {},
   "outputs": [
    {
     "data": {
      "text/plain": [
       "<function __main__.fed_eqn>"
      ]
     },
     "execution_count": 7,
     "metadata": {},
     "output_type": "execute_result"
    }
   ],
   "source": [
    "fed_eqn"
   ]
  },
  {
   "cell_type": "code",
   "execution_count": 8,
   "metadata": {},
   "outputs": [],
   "source": [
    "\n",
    "name = \"all_parameter.dat\"\n",
    "tmp = open(name, \"r\")\n",
    "tmp=tmp.read()\n",
    "#print(tmp)\n",
    "tmp=tmp.replace(\"/varible:0\",\":\")\n",
    "tmp=tmp.replace(\"/const_1:0\",\":\")\n",
    "\n",
    "for i in range(100):\n",
    "    tmp=tmp.replace(\"_\"+str(i),\"\")\n",
    "tmp=tmp.replace(\"[[\",\"\")\n",
    "tmp=tmp.replace(\"]]\",\"\")\n",
    "tmp=tmp.replace(\"\\n\",\",\")\n",
    "tmp=tmp.replace(\":\",\"\\\":\")\n",
    "tmp=tmp.replace(\",\",\",\\\"\")\n",
    "tmp=\"{\\\"\"+tmp+\"}\"\n",
    "tmp=tmp.replace(\",\\\"}\",\"}\")\n",
    "#print(tmp)\n",
    "dict_all=ast.literal_eval(tmp)"
   ]
  },
  {
   "cell_type": "code",
   "execution_count": 9,
   "metadata": {},
   "outputs": [],
   "source": [
    "for i in list(dict_all.keys()):\n",
    "    if(np.abs(dict_all[i])<kill):\n",
    "        dict_all[i]=0\n",
    "    #dict_all[i]=np.round(dict_all[i],1)"
   ]
  },
  {
   "cell_type": "code",
   "execution_count": 10,
   "metadata": {},
   "outputs": [
    {
     "name": "stdout",
     "output_type": "stream",
     "text": [
      "{a1L23->0,a1L32->0,a1L34->0,a1L5->0,a1L6->0,a1L8->0,a1L9->0,a2L16->0,a2L20->0,a2L25->0,a2L30->0,a2L31->0,a2L32->0,a2L33->0,a2L35->0,a2L37->0,a2L38->0,a2L46->0,a2L49->0,a2L11->0,a2L17->0,a2L42->0,a2L43->0,a2L44->0,a2L47->0,a2L5->0,}\n"
     ]
    }
   ],
   "source": [
    "tmp = \"{\"\n",
    "for i in list(dict_all.keys()):\n",
    "    if(dict_all[i]==0):\n",
    "        tmp+=str(i)+\"->\"+\"0,\"\n",
    "tmp+=\"}\"\n",
    "#tmp[-2]=\"\"\n",
    "print(tmp)"
   ]
  },
  {
   "cell_type": "code",
   "execution_count": 11,
   "metadata": {},
   "outputs": [
    {
     "data": {
      "text/plain": [
       "-0.5505477*(0.15196347*n0 - 0.39830536*n1 + 0.11997815*n2)*(0.4507714*epsilon0*n3 - 0.27385*n0 - 0.38018966*n1 + 0.3314684*n2)*(-0.48827153890566*epsilon0*n3 - 0.102425521623679*n0 - 0.0960028092023862*n1 - 0.525453200074944*n2 + 0.24892256*(0.15196347*n0 - 0.39830536*n1 + 0.11997815*n2)*(0.4507714*epsilon0*n3 - 0.27385*n0 - 0.38018966*n1 + 0.3314684*n2) - 0.2448266*(0.0632784*epsilon0*n3 + 0.15260038*n0 - 0.29205367*n1 - 0.39168647*n2)*(0.12526949*epsilon0*n3 + 0.2187326*n0 + 0.15640846*n1 - 0.26057413*n2) - 0.38916522*(-0.97701424*epsilon0*n3 - 0.5044318*n0 - 0.08790455*n1 - 1.0639597*n2)/(-0.3635221*epsilon0*n3 - 1.1627965*n1 + 1)) - 0.09906254*(0.15196347*n0 - 0.39830536*n1 + 0.11997815*n2)*(0.4507714*epsilon0*n3 - 0.27385*n0 - 0.38018966*n1 + 0.3314684*n2) - 0.20664054*(0.0632784*epsilon0*n3 + 0.15260038*n0 - 0.29205367*n1 - 0.39168647*n2)*(0.12526949*epsilon0*n3 + 0.2187326*n0 + 0.15640846*n1 - 0.26057413*n2) - 0.050811*(0.0632784*epsilon0*n3 + 0.15260038*n0 - 0.29205367*n1 - 0.39168647*n2)*(0.12526949*epsilon0*n3 + 0.2187326*n0 + 0.15640846*n1 - 0.26057413*n2)/(0.19803599620497*epsilon0*n3 + 0.04154233576059*n0 + 0.038937374890785*n1 + 0.2131163494992*n2 - 0.7482393*(0.15196347*n0 - 0.39830536*n1 + 0.11997815*n2)*(0.4507714*epsilon0*n3 - 0.27385*n0 - 0.38018966*n1 + 0.3314684*n2) + 0.60074455*(0.0632784*epsilon0*n3 + 0.15260038*n0 - 0.29205367*n1 - 0.39168647*n2)*(0.12526949*epsilon0*n3 + 0.2187326*n0 + 0.15640846*n1 - 0.26057413*n2) - 0.37683868*log(-0.31787732*epsilon0*n3 + 0.09582391*n2 + 1) + 1 - 0.14144817*(-0.97701424*epsilon0*n3 - 0.5044318*n0 - 0.08790455*n1 - 1.0639597*n2)/(-0.3635221*epsilon0*n3 - 1.1627965*n1 + 1)) + (0.252551453270318*epsilon0*n3 + 0.0529781326104048*n0 + 0.0496560766913352*n1 + 0.271783134445824*n2 - 0.46068865*(0.15196347*n0 - 0.39830536*n1 + 0.11997815*n2)*(0.4507714*epsilon0*n3 - 0.27385*n0 - 0.38018966*n1 + 0.3314684*n2) + 0.92346215*(0.0632784*epsilon0*n3 + 0.15260038*n0 - 0.29205367*n1 - 0.39168647*n2)*(0.12526949*epsilon0*n3 + 0.2187326*n0 + 0.15640846*n1 - 0.26057413*n2) + 0.10039082*log(-0.31787732*epsilon0*n3 + 0.09582391*n2 + 1) + 0.14548723*(-0.97701424*epsilon0*n3 - 0.5044318*n0 - 0.08790455*n1 - 1.0639597*n2)/(-0.3635221*epsilon0*n3 - 1.1627965*n1 + 1))*(-0.332100592210024*epsilon0*n3 - 0.069665285969528*n0 - 0.065296842534372*n1 - 0.35738990504064*n2 + 0.33147037*(0.15196347*n0 - 0.39830536*n1 + 0.11997815*n2)*(0.4507714*epsilon0*n3 - 0.27385*n0 - 0.38018966*n1 + 0.3314684*n2) - 0.2522629*(0.0632784*epsilon0*n3 + 0.15260038*n0 - 0.29205367*n1 - 0.39168647*n2)*(0.12526949*epsilon0*n3 + 0.2187326*n0 + 0.15640846*n1 - 0.26057413*n2) + 0.23668459*exp(-0.2018587*epsilon0*n3 + 0.44950384*n0) - 0.23668459 - 0.9429856*(-0.97701424*epsilon0*n3 - 0.5044318*n0 - 0.08790455*n1 - 1.0639597*n2)/(-0.3635221*epsilon0*n3 - 1.1627965*n1 + 1)) + exp(-0.35030738*(0.15196347*n0 - 0.39830536*n1 + 0.11997815*n2)*(0.4507714*epsilon0*n3 - 0.27385*n0 - 0.38018966*n1 + 0.3314684*n2) - 0.18994287*(0.0632784*epsilon0*n3 + 0.15260038*n0 - 0.29205367*n1 - 0.39168647*n2)*(0.12526949*epsilon0*n3 + 0.2187326*n0 + 0.15640846*n1 - 0.26057413*n2)) + log(-0.22600088*(0.0632784*epsilon0*n3 + 0.15260038*n0 - 0.29205367*n1 - 0.39168647*n2)*(0.12526949*epsilon0*n3 + 0.2187326*n0 + 0.15640846*n1 - 0.26057413*n2) + 1) - 1"
      ]
     },
     "execution_count": 11,
     "metadata": {},
     "output_type": "execute_result"
    }
   ],
   "source": [
    "fed_eqn().subs(dict_all)"
   ]
  },
  {
   "cell_type": "code",
   "execution_count": 12,
   "metadata": {},
   "outputs": [
    {
     "name": "stdout",
     "output_type": "stream",
     "text": [
      "1024 32.0 0.03125\n"
     ]
    }
   ],
   "source": [
    "data_file = '../LJ_data_all_correct/'\n",
    "f=np.loadtxt(data_file+\"MC_parameter.dat\")\n",
    "L = float(f[0])\n",
    "N = int(f[2])\n",
    "dx = (L/N)\n",
    "print(N,L,dx)\n",
    "w_array=np.loadtxt(\"w_array.dat\")"
   ]
  },
  {
   "cell_type": "code",
   "execution_count": 13,
   "metadata": {},
   "outputs": [],
   "source": [
    "srho=symbols('rho') \n",
    "f=fed_eqn()\n",
    "#f=f.subs({sn0:np.sum(w_array[0])*dx*srho})\n",
    "#f=f.subs({sn1:np.sum(w_array[1])*dx*srho})\n",
    "#f=f.subs({sn2:np.sum(w_array[2])*dx*srho})\n",
    "#f=f.subs({sn3:np.sum(w_array[3])*dx*srho})\n",
    "f=f.subs(dict_all)"
   ]
  },
  {
   "cell_type": "code",
   "execution_count": 14,
   "metadata": {},
   "outputs": [
    {
     "data": {
      "text/plain": [
       "-0.5505477*(0.15196347*n0 - 0.39830536*n1 + 0.11997815*n2)*(0.4507714*epsilon0*n3 - 0.27385*n0 - 0.38018966*n1 + 0.3314684*n2)*(-0.48827153890566*epsilon0*n3 - 0.102425521623679*n0 - 0.0960028092023862*n1 - 0.525453200074944*n2 + 0.24892256*(0.15196347*n0 - 0.39830536*n1 + 0.11997815*n2)*(0.4507714*epsilon0*n3 - 0.27385*n0 - 0.38018966*n1 + 0.3314684*n2) - 0.2448266*(0.0632784*epsilon0*n3 + 0.15260038*n0 - 0.29205367*n1 - 0.39168647*n2)*(0.12526949*epsilon0*n3 + 0.2187326*n0 + 0.15640846*n1 - 0.26057413*n2) - 0.38916522*(-0.97701424*epsilon0*n3 - 0.5044318*n0 - 0.08790455*n1 - 1.0639597*n2)/(-0.3635221*epsilon0*n3 - 1.1627965*n1 + 1)) - 0.09906254*(0.15196347*n0 - 0.39830536*n1 + 0.11997815*n2)*(0.4507714*epsilon0*n3 - 0.27385*n0 - 0.38018966*n1 + 0.3314684*n2) - 0.20664054*(0.0632784*epsilon0*n3 + 0.15260038*n0 - 0.29205367*n1 - 0.39168647*n2)*(0.12526949*epsilon0*n3 + 0.2187326*n0 + 0.15640846*n1 - 0.26057413*n2) - 0.050811*(0.0632784*epsilon0*n3 + 0.15260038*n0 - 0.29205367*n1 - 0.39168647*n2)*(0.12526949*epsilon0*n3 + 0.2187326*n0 + 0.15640846*n1 - 0.26057413*n2)/(0.19803599620497*epsilon0*n3 + 0.04154233576059*n0 + 0.038937374890785*n1 + 0.2131163494992*n2 - 0.7482393*(0.15196347*n0 - 0.39830536*n1 + 0.11997815*n2)*(0.4507714*epsilon0*n3 - 0.27385*n0 - 0.38018966*n1 + 0.3314684*n2) + 0.60074455*(0.0632784*epsilon0*n3 + 0.15260038*n0 - 0.29205367*n1 - 0.39168647*n2)*(0.12526949*epsilon0*n3 + 0.2187326*n0 + 0.15640846*n1 - 0.26057413*n2) - 0.37683868*log(-0.31787732*epsilon0*n3 + 0.09582391*n2 + 1) + 1 - 0.14144817*(-0.97701424*epsilon0*n3 - 0.5044318*n0 - 0.08790455*n1 - 1.0639597*n2)/(-0.3635221*epsilon0*n3 - 1.1627965*n1 + 1)) + (0.252551453270318*epsilon0*n3 + 0.0529781326104048*n0 + 0.0496560766913352*n1 + 0.271783134445824*n2 - 0.46068865*(0.15196347*n0 - 0.39830536*n1 + 0.11997815*n2)*(0.4507714*epsilon0*n3 - 0.27385*n0 - 0.38018966*n1 + 0.3314684*n2) + 0.92346215*(0.0632784*epsilon0*n3 + 0.15260038*n0 - 0.29205367*n1 - 0.39168647*n2)*(0.12526949*epsilon0*n3 + 0.2187326*n0 + 0.15640846*n1 - 0.26057413*n2) + 0.10039082*log(-0.31787732*epsilon0*n3 + 0.09582391*n2 + 1) + 0.14548723*(-0.97701424*epsilon0*n3 - 0.5044318*n0 - 0.08790455*n1 - 1.0639597*n2)/(-0.3635221*epsilon0*n3 - 1.1627965*n1 + 1))*(-0.332100592210024*epsilon0*n3 - 0.069665285969528*n0 - 0.065296842534372*n1 - 0.35738990504064*n2 + 0.33147037*(0.15196347*n0 - 0.39830536*n1 + 0.11997815*n2)*(0.4507714*epsilon0*n3 - 0.27385*n0 - 0.38018966*n1 + 0.3314684*n2) - 0.2522629*(0.0632784*epsilon0*n3 + 0.15260038*n0 - 0.29205367*n1 - 0.39168647*n2)*(0.12526949*epsilon0*n3 + 0.2187326*n0 + 0.15640846*n1 - 0.26057413*n2) + 0.23668459*exp(-0.2018587*epsilon0*n3 + 0.44950384*n0) - 0.23668459 - 0.9429856*(-0.97701424*epsilon0*n3 - 0.5044318*n0 - 0.08790455*n1 - 1.0639597*n2)/(-0.3635221*epsilon0*n3 - 1.1627965*n1 + 1)) + exp(-0.35030738*(0.15196347*n0 - 0.39830536*n1 + 0.11997815*n2)*(0.4507714*epsilon0*n3 - 0.27385*n0 - 0.38018966*n1 + 0.3314684*n2) - 0.18994287*(0.0632784*epsilon0*n3 + 0.15260038*n0 - 0.29205367*n1 - 0.39168647*n2)*(0.12526949*epsilon0*n3 + 0.2187326*n0 + 0.15640846*n1 - 0.26057413*n2)) + log(-0.22600088*(0.0632784*epsilon0*n3 + 0.15260038*n0 - 0.29205367*n1 - 0.39168647*n2)*(0.12526949*epsilon0*n3 + 0.2187326*n0 + 0.15640846*n1 - 0.26057413*n2) + 1) - 1"
      ]
     },
     "execution_count": 14,
     "metadata": {},
     "output_type": "execute_result"
    }
   ],
   "source": [
    "f"
   ]
  },
  {
   "cell_type": "code",
   "execution_count": 15,
   "metadata": {},
   "outputs": [],
   "source": [
    "def non_zeros(a):\n",
    "    a=float(a)\n",
    "    power=np.floor(np.log10(np.abs(a)))\n",
    "    coeff = np.round(np.abs(a)/10**power)\n",
    "    sign = np.round(a/np.abs(a))\n",
    "    return sign*coeff*10**(power)"
   ]
  },
  {
   "cell_type": "code",
   "execution_count": 16,
   "metadata": {},
   "outputs": [
    {
     "data": {
      "text/plain": [
       "-3*(n0/5 - 2*n1/5 + n2/10)*(epsilon0*n3/2 - 3*n0/10 - 2*n1/5 + 3*n2/10)*(-epsilon0*n3/2 - n0/10 - n1/10 - n2/2 + (n0/5 - 2*n1/5 + n2/10)*(epsilon0*n3/2 - 3*n0/10 - 2*n1/5 + 3*n2/10)/5 - (3*epsilon0*n3/50 + n0/5 - 3*n1/10 - 2*n2/5)*(epsilon0*n3/10 + n0/5 + n1/5 - 3*n2/10)/5 - 2*(-epsilon0*n3 - n0/2 - 9*n1/100 - n2)/(5*(-2*epsilon0*n3/5 - n1 + 1)))/5 - (n0/5 - 2*n1/5 + n2/10)*(epsilon0*n3/2 - 3*n0/10 - 2*n1/5 + 3*n2/10)/10 - (3*epsilon0*n3/50 + n0/5 - 3*n1/10 - 2*n2/5)*(epsilon0*n3/10 + n0/5 + n1/5 - 3*n2/10)/5 - (3*epsilon0*n3/50 + n0/5 - 3*n1/10 - 2*n2/5)*(epsilon0*n3/10 + n0/5 + n1/5 - 3*n2/10)/(20*(epsilon0*n3/5 + n0/25 + n1/25 + n2/5 - 7*(n0/5 - 2*n1/5 + n2/10)*(epsilon0*n3/2 - 3*n0/10 - 2*n1/5 + 3*n2/10)/10 + 3*(3*epsilon0*n3/50 + n0/5 - 3*n1/10 - 2*n2/5)*(epsilon0*n3/10 + n0/5 + n1/5 - 3*n2/10)/5 - 2*log(-3*epsilon0*n3/10 + n2/10 + 1)/5 + 1 - (-epsilon0*n3 - n0/2 - 9*n1/100 - n2)/(10*(-2*epsilon0*n3/5 - n1 + 1)))) + (3*epsilon0*n3/10 + n0/20 + n1/20 + 3*n2/10 - (n0/5 - 2*n1/5 + n2/10)*(epsilon0*n3/2 - 3*n0/10 - 2*n1/5 + 3*n2/10)/2 + 9*(3*epsilon0*n3/50 + n0/5 - 3*n1/10 - 2*n2/5)*(epsilon0*n3/10 + n0/5 + n1/5 - 3*n2/10)/10 + log(-3*epsilon0*n3/10 + n2/10 + 1)/10 + (-epsilon0*n3 - n0/2 - 9*n1/100 - n2)/(10*(-2*epsilon0*n3/5 - n1 + 1)))*(-3*epsilon0*n3/10 - 7*n0/100 - 7*n1/100 - 2*n2/5 + 3*(n0/5 - 2*n1/5 + n2/10)*(epsilon0*n3/2 - 3*n0/10 - 2*n1/5 + 3*n2/10)/10 - 3*(3*epsilon0*n3/50 + n0/5 - 3*n1/10 - 2*n2/5)*(epsilon0*n3/10 + n0/5 + n1/5 - 3*n2/10)/10 + exp(-epsilon0*n3/5 + 2*n0/5)/5 - 1/5 - 9*(-epsilon0*n3 - n0/2 - 9*n1/100 - n2)/(10*(-2*epsilon0*n3/5 - n1 + 1))) + exp(-2*(n0/5 - 2*n1/5 + n2/10)*(epsilon0*n3/2 - 3*n0/10 - 2*n1/5 + 3*n2/10)/5 - (3*epsilon0*n3/50 + n0/5 - 3*n1/10 - 2*n2/5)*(epsilon0*n3/10 + n0/5 + n1/5 - 3*n2/10)/5) + log(-(3*epsilon0*n3/50 + n0/5 - 3*n1/10 - 2*n2/5)*(epsilon0*n3/10 + n0/5 + n1/5 - 3*n2/10)/5 + 1) - 1"
      ]
     },
     "execution_count": 16,
     "metadata": {},
     "output_type": "execute_result"
    }
   ],
   "source": [
    "f2=f\n",
    "for a in preorder_traversal(f):\n",
    "    if isinstance(a, Float):\n",
    "        f2 = f2.subs(a, non_zeros(a))\n",
    "nsimplify(f2, tolerance=1e-4)"
   ]
  },
  {
   "cell_type": "code",
   "execution_count": 17,
   "metadata": {},
   "outputs": [],
   "source": [
    "f2=f\n",
    "for a in preorder_traversal(f):\n",
    "    if isinstance(a, Float):\n",
    "        f2 = f2.subs(a, round(a, 1))"
   ]
  },
  {
   "cell_type": "code",
   "execution_count": 18,
   "metadata": {},
   "outputs": [
    {
     "data": {
      "text/plain": [
       "-3*(n0/5 - 2*n1/5 + n2/10)*(epsilon0*n3/2 - 3*n0/10 - 2*n1/5 + 3*n2/10)*(-epsilon0*n3/2 - n0/10 - n1/10 - n2/2 + (n0/5 - 2*n1/5 + n2/10)*(epsilon0*n3/2 - 3*n0/10 - 2*n1/5 + 3*n2/10)/5 - (epsilon0*n3/10 + n0/5 - 3*n1/10 - 2*n2/5)*(epsilon0*n3/10 + n0/5 + n1/5 - 3*n2/10)/5 - 2*(-epsilon0*n3 - n0/2 - n1/10 - 11*n2/10)/(5*(-2*epsilon0*n3/5 - 6*n1/5 + 1)))/5 - (n0/5 - 2*n1/5 + n2/10)*(epsilon0*n3/2 - 3*n0/10 - 2*n1/5 + 3*n2/10)/10 - (epsilon0*n3/10 + n0/5 - 3*n1/10 - 2*n2/5)*(epsilon0*n3/10 + n0/5 + n1/5 - 3*n2/10)/5 - (epsilon0*n3/10 + n0/5 - 3*n1/10 - 2*n2/5)*(epsilon0*n3/10 + n0/5 + n1/5 - 3*n2/10)/(10*(epsilon0*n3/5 + n2/5 - 7*(n0/5 - 2*n1/5 + n2/10)*(epsilon0*n3/2 - 3*n0/10 - 2*n1/5 + 3*n2/10)/10 + 3*(epsilon0*n3/10 + n0/5 - 3*n1/10 - 2*n2/5)*(epsilon0*n3/10 + n0/5 + n1/5 - 3*n2/10)/5 - 2*log(-3*epsilon0*n3/10 + n2/10 + 1)/5 + 1 - (-epsilon0*n3 - n0/2 - n1/10 - 11*n2/10)/(10*(-2*epsilon0*n3/5 - 6*n1/5 + 1)))) + (3*epsilon0*n3/10 + n0/10 + 3*n2/10 - (n0/5 - 2*n1/5 + n2/10)*(epsilon0*n3/2 - 3*n0/10 - 2*n1/5 + 3*n2/10)/2 + 9*(epsilon0*n3/10 + n0/5 - 3*n1/10 - 2*n2/5)*(epsilon0*n3/10 + n0/5 + n1/5 - 3*n2/10)/10 + log(-3*epsilon0*n3/10 + n2/10 + 1)/10 + (-epsilon0*n3 - n0/2 - n1/10 - 11*n2/10)/(10*(-2*epsilon0*n3/5 - 6*n1/5 + 1)))*(-3*epsilon0*n3/10 - n0/10 - n1/10 - 2*n2/5 + 3*(n0/5 - 2*n1/5 + n2/10)*(epsilon0*n3/2 - 3*n0/10 - 2*n1/5 + 3*n2/10)/10 - 3*(epsilon0*n3/10 + n0/5 - 3*n1/10 - 2*n2/5)*(epsilon0*n3/10 + n0/5 + n1/5 - 3*n2/10)/10 + exp(-epsilon0*n3/5 + 2*n0/5)/5 - 1/5 - 9*(-epsilon0*n3 - n0/2 - n1/10 - 11*n2/10)/(10*(-2*epsilon0*n3/5 - 6*n1/5 + 1))) + exp(-2*(n0/5 - 2*n1/5 + n2/10)*(epsilon0*n3/2 - 3*n0/10 - 2*n1/5 + 3*n2/10)/5 - (epsilon0*n3/10 + n0/5 - 3*n1/10 - 2*n2/5)*(epsilon0*n3/10 + n0/5 + n1/5 - 3*n2/10)/5) + log(-(epsilon0*n3/10 + n0/5 - 3*n1/10 - 2*n2/5)*(epsilon0*n3/10 + n0/5 + n1/5 - 3*n2/10)/5 + 1) - 1"
      ]
     },
     "execution_count": 18,
     "metadata": {},
     "output_type": "execute_result"
    }
   ],
   "source": [
    "nsimplify(f2, tolerance=1e-4)"
   ]
  },
  {
   "cell_type": "code",
   "execution_count": 19,
   "metadata": {},
   "outputs": [
    {
     "data": {
      "text/plain": [
       "'- \\\\frac{3}{5} \\\\left(\\\\frac{n_{0}}{5} - \\\\frac{2 n_{1}}{5} + \\\\frac{n_{2}}{10}\\\\right) \\\\left(\\\\frac{\\\\epsilon_{0} n_{3}}{2} - \\\\frac{3 n_{0}}{10} - \\\\frac{2 n_{1}}{5} + \\\\frac{3 n_{2}}{10}\\\\right) \\\\left(- \\\\frac{\\\\epsilon_{0} n_{3}}{2} - \\\\frac{n_{0}}{10} - \\\\frac{n_{1}}{10} - \\\\frac{n_{2}}{2} + \\\\frac{1}{5} \\\\left(\\\\frac{n_{0}}{5} - \\\\frac{2 n_{1}}{5} + \\\\frac{n_{2}}{10}\\\\right) \\\\left(\\\\frac{\\\\epsilon_{0} n_{3}}{2} - \\\\frac{3 n_{0}}{10} - \\\\frac{2 n_{1}}{5} + \\\\frac{3 n_{2}}{10}\\\\right) - \\\\frac{1}{5} \\\\left(\\\\frac{\\\\epsilon_{0} n_{3}}{10} + \\\\frac{n_{0}}{5} - \\\\frac{3 n_{1}}{10} - \\\\frac{2 n_{2}}{5}\\\\right) \\\\left(\\\\frac{\\\\epsilon_{0} n_{3}}{10} + \\\\frac{n_{0}}{5} + \\\\frac{n_{1}}{5} - \\\\frac{3 n_{2}}{10}\\\\right) - \\\\frac{2 \\\\left(- \\\\epsilon_{0} n_{3} - \\\\frac{n_{0}}{2} - \\\\frac{n_{1}}{10} - \\\\frac{11 n_{2}}{10}\\\\right)}{5 \\\\left(- \\\\frac{2 \\\\epsilon_{0}}{5} n_{3} - \\\\frac{6 n_{1}}{5} + 1\\\\right)}\\\\right) - \\\\frac{1}{10} \\\\left(\\\\frac{n_{0}}{5} - \\\\frac{2 n_{1}}{5} + \\\\frac{n_{2}}{10}\\\\right) \\\\left(\\\\frac{\\\\epsilon_{0} n_{3}}{2} - \\\\frac{3 n_{0}}{10} - \\\\frac{2 n_{1}}{5} + \\\\frac{3 n_{2}}{10}\\\\right) - \\\\frac{1}{5} \\\\left(\\\\frac{\\\\epsilon_{0} n_{3}}{10} + \\\\frac{n_{0}}{5} - \\\\frac{3 n_{1}}{10} - \\\\frac{2 n_{2}}{5}\\\\right) \\\\left(\\\\frac{\\\\epsilon_{0} n_{3}}{10} + \\\\frac{n_{0}}{5} + \\\\frac{n_{1}}{5} - \\\\frac{3 n_{2}}{10}\\\\right) - \\\\frac{\\\\left(\\\\frac{\\\\epsilon_{0} n_{3}}{10} + \\\\frac{n_{0}}{5} - \\\\frac{3 n_{1}}{10} - \\\\frac{2 n_{2}}{5}\\\\right) \\\\left(\\\\frac{\\\\epsilon_{0} n_{3}}{10} + \\\\frac{n_{0}}{5} + \\\\frac{n_{1}}{5} - \\\\frac{3 n_{2}}{10}\\\\right)}{10 \\\\left(\\\\frac{\\\\epsilon_{0} n_{3}}{5} + \\\\frac{n_{2}}{5} - \\\\frac{7}{10} \\\\left(\\\\frac{n_{0}}{5} - \\\\frac{2 n_{1}}{5} + \\\\frac{n_{2}}{10}\\\\right) \\\\left(\\\\frac{\\\\epsilon_{0} n_{3}}{2} - \\\\frac{3 n_{0}}{10} - \\\\frac{2 n_{1}}{5} + \\\\frac{3 n_{2}}{10}\\\\right) + \\\\frac{3}{5} \\\\left(\\\\frac{\\\\epsilon_{0} n_{3}}{10} + \\\\frac{n_{0}}{5} - \\\\frac{3 n_{1}}{10} - \\\\frac{2 n_{2}}{5}\\\\right) \\\\left(\\\\frac{\\\\epsilon_{0} n_{3}}{10} + \\\\frac{n_{0}}{5} + \\\\frac{n_{1}}{5} - \\\\frac{3 n_{2}}{10}\\\\right) - \\\\frac{2}{5} \\\\log{\\\\left (- \\\\frac{3 \\\\epsilon_{0}}{10} n_{3} + \\\\frac{n_{2}}{10} + 1 \\\\right )} + 1 - \\\\frac{- \\\\epsilon_{0} n_{3} - \\\\frac{n_{0}}{2} - \\\\frac{n_{1}}{10} - \\\\frac{11 n_{2}}{10}}{10 \\\\left(- \\\\frac{2 \\\\epsilon_{0}}{5} n_{3} - \\\\frac{6 n_{1}}{5} + 1\\\\right)}\\\\right)} + \\\\left(\\\\frac{3 \\\\epsilon_{0}}{10} n_{3} + \\\\frac{n_{0}}{10} + \\\\frac{3 n_{2}}{10} - \\\\frac{1}{2} \\\\left(\\\\frac{n_{0}}{5} - \\\\frac{2 n_{1}}{5} + \\\\frac{n_{2}}{10}\\\\right) \\\\left(\\\\frac{\\\\epsilon_{0} n_{3}}{2} - \\\\frac{3 n_{0}}{10} - \\\\frac{2 n_{1}}{5} + \\\\frac{3 n_{2}}{10}\\\\right) + \\\\frac{9}{10} \\\\left(\\\\frac{\\\\epsilon_{0} n_{3}}{10} + \\\\frac{n_{0}}{5} - \\\\frac{3 n_{1}}{10} - \\\\frac{2 n_{2}}{5}\\\\right) \\\\left(\\\\frac{\\\\epsilon_{0} n_{3}}{10} + \\\\frac{n_{0}}{5} + \\\\frac{n_{1}}{5} - \\\\frac{3 n_{2}}{10}\\\\right) + \\\\frac{1}{10} \\\\log{\\\\left (- \\\\frac{3 \\\\epsilon_{0}}{10} n_{3} + \\\\frac{n_{2}}{10} + 1 \\\\right )} + \\\\frac{- \\\\epsilon_{0} n_{3} - \\\\frac{n_{0}}{2} - \\\\frac{n_{1}}{10} - \\\\frac{11 n_{2}}{10}}{10 \\\\left(- \\\\frac{2 \\\\epsilon_{0}}{5} n_{3} - \\\\frac{6 n_{1}}{5} + 1\\\\right)}\\\\right) \\\\left(- \\\\frac{3 \\\\epsilon_{0}}{10} n_{3} - \\\\frac{n_{0}}{10} - \\\\frac{n_{1}}{10} - \\\\frac{2 n_{2}}{5} + \\\\frac{3}{10} \\\\left(\\\\frac{n_{0}}{5} - \\\\frac{2 n_{1}}{5} + \\\\frac{n_{2}}{10}\\\\right) \\\\left(\\\\frac{\\\\epsilon_{0} n_{3}}{2} - \\\\frac{3 n_{0}}{10} - \\\\frac{2 n_{1}}{5} + \\\\frac{3 n_{2}}{10}\\\\right) - \\\\frac{3}{10} \\\\left(\\\\frac{\\\\epsilon_{0} n_{3}}{10} + \\\\frac{n_{0}}{5} - \\\\frac{3 n_{1}}{10} - \\\\frac{2 n_{2}}{5}\\\\right) \\\\left(\\\\frac{\\\\epsilon_{0} n_{3}}{10} + \\\\frac{n_{0}}{5} + \\\\frac{n_{1}}{5} - \\\\frac{3 n_{2}}{10}\\\\right) + \\\\frac{1}{5} e^{- \\\\frac{\\\\epsilon_{0} n_{3}}{5} + \\\\frac{2 n_{0}}{5}} - \\\\frac{1}{5} - \\\\frac{9 \\\\left(- \\\\epsilon_{0} n_{3} - \\\\frac{n_{0}}{2} - \\\\frac{n_{1}}{10} - \\\\frac{11 n_{2}}{10}\\\\right)}{10 \\\\left(- \\\\frac{2 \\\\epsilon_{0}}{5} n_{3} - \\\\frac{6 n_{1}}{5} + 1\\\\right)}\\\\right) + e^{- \\\\frac{2}{5} \\\\left(\\\\frac{n_{0}}{5} - \\\\frac{2 n_{1}}{5} + \\\\frac{n_{2}}{10}\\\\right) \\\\left(\\\\frac{\\\\epsilon_{0} n_{3}}{2} - \\\\frac{3 n_{0}}{10} - \\\\frac{2 n_{1}}{5} + \\\\frac{3 n_{2}}{10}\\\\right) - \\\\frac{1}{5} \\\\left(\\\\frac{\\\\epsilon_{0} n_{3}}{10} + \\\\frac{n_{0}}{5} - \\\\frac{3 n_{1}}{10} - \\\\frac{2 n_{2}}{5}\\\\right) \\\\left(\\\\frac{\\\\epsilon_{0} n_{3}}{10} + \\\\frac{n_{0}}{5} + \\\\frac{n_{1}}{5} - \\\\frac{3 n_{2}}{10}\\\\right)} + \\\\log{\\\\left (- \\\\frac{1}{5} \\\\left(\\\\frac{\\\\epsilon_{0} n_{3}}{10} + \\\\frac{n_{0}}{5} - \\\\frac{3 n_{1}}{10} - \\\\frac{2 n_{2}}{5}\\\\right) \\\\left(\\\\frac{\\\\epsilon_{0} n_{3}}{10} + \\\\frac{n_{0}}{5} + \\\\frac{n_{1}}{5} - \\\\frac{3 n_{2}}{10}\\\\right) + 1 \\\\right )} - 1'"
      ]
     },
     "execution_count": 19,
     "metadata": {},
     "output_type": "execute_result"
    }
   ],
   "source": [
    "latex(nsimplify(f2, tolerance=1e-4))"
   ]
  },
  {
   "cell_type": "code",
   "execution_count": 20,
   "metadata": {},
   "outputs": [
    {
     "name": "stdout",
     "output_type": "stream",
     "text": [
      "y_0=\\left(\\frac{n_{0}}{5} - \\frac{2 n_{1}}{5} + \\frac{n_{2}}{10}\\right)\n",
      "y_1=\\left(\\frac{\\epsilon  n_{3}}{2} - \\frac{3 n_{0}}{10} - \\frac{2 n_{1}}{5} + \\frac{3 n_{2}}{10}\\right)\n",
      "y_2=\\left(\\frac{\\epsilon  n_{3}}{10} + \\frac{n_{0}}{5} - \\frac{3 n_{1}}{10} - \\frac{2 n_{2}}{5}\\right)\n",
      "y_3=\\left(\\frac{\\epsilon  n_{3}}{10} + \\frac{n_{0}}{5} + \\frac{n_{1}}{5} - \\frac{3 n_{2}}{10}\\right)\n",
      "y_4=\\left(- \\epsilon  n_{3} - \\frac{n_{0}}{2} - \\frac{n_{1}}{10} - \\frac{11 n_{2}}{10}\\right)\n",
      "y_5=\\left(- \\frac{2 \\epsilon }{5} n_{3} - \\frac{6 n_{1}}{5} + 1\\right)\n",
      "y_6=\\left(- \\frac{3 \\epsilon }{10} n_{3} + \\frac{n_{2}}{10} + 1 \\right)\n",
      "y_7=- \\frac{\\epsilon  n_{3}}{5} + \\frac{2 n_{0}}{5}\n",
      "- \\frac{3}{5} y_{0} y_{1} \\left(- \\frac{\\epsilon  n_{3}}{2} - \\frac{n_{0}}{10} - \\frac{n_{1}}{10} - \\frac{n_{2}}{2} + \\frac{1}{5} y_{0} y_{1} - \\frac{1}{5} y_{2} y_{3} - \\frac{2 y_{4}}{5 y_{5}}\\right) - \\frac{1}{10} y_{0} y_{1} - \\frac{1}{5} y_{2} y_{3} - \\frac{y_{2} y_{3}}{10 \\left(\\frac{\\epsilon  n_{3}}{5} + \\frac{n_{2}}{5} - \\frac{7}{10} y_{0} y_{1} + \\frac{3}{5} y_{2} y_{3} - \\frac{2}{5} \\ln{y_{6}} + 1 - \\frac{- \\epsilon  n_{3} - \\frac{n_{0}}{2} - \\frac{n_{1}}{10} - \\frac{11 n_{2}}{10}}{10 y_{5}}\\right)} + \\left(\\frac{3 \\epsilon }{10} n_{3} + \\frac{n_{0}}{10} + \\frac{3 n_{2}}{10} - \\frac{1}{2} y_{0} y_{1} + \\frac{9}{10} y_{2} y_{3} + \\frac{1}{10} \\ln{y_{6}} + \\frac{- \\epsilon  n_{3} - \\frac{n_{0}}{2} - \\frac{n_{1}}{10} - \\frac{11 n_{2}}{10}}{10 y_{5}}\\right) \\left(- \\frac{3 \\epsilon }{10} n_{3} - \\frac{n_{0}}{10} - \\frac{n_{1}}{10} - \\frac{2 n_{2}}{5} + \\frac{3}{10} y_{0} y_{1} - \\frac{3}{10} y_{2} y_{3} + \\frac{1}{5} e^{y_{7}} - \\frac{1}{5} - \\frac{9 y_{4}}{10 y_{5}}\\right) + e^{- \\frac{2}{5} y_{0} y_{1} - \\frac{1}{5} y_{2} y_{3}} + \\ln{\\left(- \\frac{1}{5} y_{2} y_{3} + 1 \\right)} - 1\n"
     ]
    }
   ],
   "source": [
    "name = \"fed_latex_simple.dat\"\n",
    "tmp_file = open(name, \"w\")\n",
    "tmp_eqn=str(latex(nsimplify(f2, tolerance=1e-4)))\n",
    "tmp_eqn=tmp_eqn.replace(\"log\",\"ln\")\n",
    "tmp_eqn=tmp_eqn.replace(\"left \",\"left\")\n",
    "tmp_eqn=tmp_eqn.replace(\"right \",\"right\")\n",
    "tmp_eqn=tmp_eqn.replace(\"epsilon_{0}\",\"epsilon \")\n",
    "\n",
    "\n",
    "count=0\n",
    "for _ in range (100):\n",
    "    for i in range (len(tmp_eqn)):\n",
    "        if(tmp_eqn[i:i+6]==\"\\left(\"):\n",
    "            for j in range (i+5,len(tmp_eqn)):\n",
    "                if(tmp_eqn[j:j+6]==\"\\left(\" or tmp_eqn[j]==\"y\"):\n",
    "                    break;\n",
    "                if(tmp_eqn[j:j+6]==\"right)\"):\n",
    "                    replace_str=tmp_eqn[i:j+6]\n",
    "                    print(\"y_\"+str(count)+\"=\"+replace_str)\n",
    "                    tmp_eqn=tmp_eqn.replace(tmp_eqn[i:j+6],\n",
    "                                            \"y_{\"+str(count)+\"}\")\n",
    "                    count+=1\n",
    "                    break\n",
    "        if(tmp_eqn[i:i+3]==\"e^{\"):\n",
    "            left_par=1\n",
    "            for j in range (i+3,len(tmp_eqn)):\n",
    "                if(tmp_eqn[j]==\"}\"):\n",
    "                    left_par-=1\n",
    "                if(tmp_eqn[j]==\"{\"):\n",
    "                    left_par+=1\n",
    "                if(left_par==0):\n",
    "                    replace_str=tmp_eqn[i+3:j]\n",
    "                    print(\"y_\"+str(count)+\"=\"+replace_str)\n",
    "                    tmp_eqn=tmp_eqn.replace(tmp_eqn[i+3:j],\n",
    "                                            \"y_{\"+str(count)+\"}\")\n",
    "                    count+=1\n",
    "                    break\n",
    "                if(tmp_eqn[j]==\"y\"):\n",
    "                    break;\n",
    "                            \n",
    "print(tmp_eqn)\n",
    "tmp_file.write(\"&\\\\FML = \\\\,\\\\int dx \\\\, \")\n",
    "tmp_file.write(tmp_eqn)\n",
    "tmp_file.write(\"\\\\\\\\\")\n",
    "tmp_file.write(\"\\n\")\n",
    "tmp_eqn=str(latex(nsimplify(f2, tolerance=1e-4)))\n",
    "tmp_eqn=tmp_eqn.replace(\"log\",\"ln\")\n",
    "tmp_eqn=tmp_eqn.replace(\"left \",\"left\")\n",
    "tmp_eqn=tmp_eqn.replace(\"right \",\"right\")\n",
    "tmp_eqn=tmp_eqn.replace(\"epsilon_{0}\",\"epsilon \")\n",
    "Count=0\n",
    "for _ in range (100):\n",
    "    for i in range (len(tmp_eqn)):\n",
    "        if(tmp_eqn[i:i+6]==\"\\left(\"):\n",
    "            for j in range (i+5,len(tmp_eqn)):\n",
    "                if(tmp_eqn[j:j+6]==\"\\left(\"or tmp_eqn[j]==\"y\"):\n",
    "                    break;\n",
    "                \n",
    "                if(tmp_eqn[j:j+6]==\"right)\"):\n",
    "                    replace_str=tmp_eqn[i:j+6]\n",
    "                    if(Count!=count-1):\n",
    "                        tmp_file.write(\"y_\"+str(Count)+\"=\"+replace_str[6:-7]+\",\\\\,\")\n",
    "                    elif(Count==count-1):\n",
    "                        tmp_file.write(\"y_\"+str(Count)+\"=\"+replace_str[6:-7])\n",
    "                    \n",
    "                    tmp_eqn=tmp_eqn.replace(tmp_eqn[i:j+6],\n",
    "                                            \"y_{\"+str(count)+\"}\")\n",
    "                    Count+=1\n",
    "                    break\n",
    "        if(tmp_eqn[i:i+3]==\"e^{\"):\n",
    "            left_par=1\n",
    "            for j in range (i+3,len(tmp_eqn)):\n",
    "                if(tmp_eqn[j]==\"}\"):\n",
    "                    left_par-=1\n",
    "                if(tmp_eqn[j]==\"{\"):\n",
    "                    left_par+=1\n",
    "                if(left_par==0):\n",
    "                    replace_str=tmp_eqn[i+3:j]\n",
    "                    if(Count!=count-1):\n",
    "                        tmp_file.write(\"y_\"+str(Count)+\"=\"+replace_str+\",\\\\,\")\n",
    "                    elif(Count==count-1):\n",
    "                        tmp_file.write(\"y_\"+str(Count)+\"=\"+replace_str)\n",
    "                    \n",
    "                    tmp_eqn=tmp_eqn.replace(tmp_eqn[i+3:j],\n",
    "                                            \"y_{\"+str(count)+\"}\")\n",
    "                    Count+=1\n",
    "                    break\n",
    "                if(tmp_eqn[j]==\"y\"):\n",
    "                    break;\n",
    "\n",
    "tmp_file.close()\n"
   ]
  },
  {
   "cell_type": "code",
   "execution_count": null,
   "metadata": {},
   "outputs": [],
   "source": []
  }
 ],
 "metadata": {
  "kernelspec": {
   "display_name": "Python 3",
   "language": "python",
   "name": "python3"
  },
  "language_info": {
   "codemirror_mode": {
    "name": "ipython",
    "version": 3
   },
   "file_extension": ".py",
   "mimetype": "text/x-python",
   "name": "python",
   "nbconvert_exporter": "python",
   "pygments_lexer": "ipython3",
   "version": "3.6.9"
  }
 },
 "nbformat": 4,
 "nbformat_minor": 2
}
