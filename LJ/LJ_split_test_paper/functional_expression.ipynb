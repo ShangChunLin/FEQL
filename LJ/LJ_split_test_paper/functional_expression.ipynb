{
 "cells": [
  {
   "cell_type": "code",
   "execution_count": 1,
   "metadata": {},
   "outputs": [],
   "source": [
    "from __future__ import print_function, division\n",
    "from sympy import init_printing\n",
    "from sympy.printing.codeprinter import CodePrinter\n",
    "from sympy.printing.precedence import precedence\n",
    "from sympy.printing.str import StrPrinter\n",
    "from sympy import *\n",
    "import ast\n",
    "import numpy as np \n",
    "import matplotlib.pyplot as plt"
   ]
  },
  {
   "cell_type": "code",
   "execution_count": 2,
   "metadata": {},
   "outputs": [],
   "source": [
    "#init_session()"
   ]
  },
  {
   "cell_type": "code",
   "execution_count": 3,
   "metadata": {},
   "outputs": [],
   "source": [
    "name = \"free_energy_def.dat\"\n",
    "tmp = open(name, \"r\")\n",
    "tmp=tmp.read()\n",
    "exec(tmp)"
   ]
  },
  {
   "cell_type": "code",
   "execution_count": 4,
   "metadata": {},
   "outputs": [
    {
     "name": "stdout",
     "output_type": "stream",
     "text": [
      "1 513 4 0.05\n"
     ]
    }
   ],
   "source": [
    "name = \"ML_parameter.dat\" #load n_conv, con_dim,kill (killsmall)\n",
    "tmp = open(name, \"r\")\n",
    "tmp=tmp.read()\n",
    "exec(tmp)\n",
    "kill=float(kill)\n",
    "print(n_parameter,conv_dim,n_conv,kill)"
   ]
  },
  {
   "cell_type": "code",
   "execution_count": 5,
   "metadata": {},
   "outputs": [],
   "source": [
    "name = \"assign_symbols_final.dat\"\n",
    "tmp = open(name, \"r\")\n",
    "tmp=tmp.read()\n",
    "tmp=tmp.replace(\"eps0\",\"epsilon0\")\n",
    "tmp=tmp.replace(\"sepsilon0\",\"seps0\")\n",
    "\n",
    "exec(tmp)"
   ]
  },
  {
   "cell_type": "code",
   "execution_count": 6,
   "metadata": {},
   "outputs": [
    {
     "data": {
      "text/plain": [
       "\"sa1L0, sa1L1, sa1L10, sa1L11, sa1L12, sa1L13, sa1L14, sa1L15, sa1L16, sa1L17, sa1L18, sa1L19, sa1L2, sa1L20, sa1L21, sa1L22, sa1L23, sa1L24, sa1L25, sa1L26, sa1L27, sa1L28, sa1L29, sa1L3, sa1L30, sa1L31, sa1L32, sa1L33, sa1L34, sa1L35, sa1L4, sa1L5, sa1L6, sa1L7, sa1L8, sa1L9, sa2L10, sa2L11, sa2L15, sa2L16, sa2L17, sa2L18, sa2L19, sa2L20, sa2L21, sa2L22, sa2L23, sa2L24, sa2L25, sa2L26, sa2L27, sa2L28, sa2L29, sa2L3, sa2L30, sa2L31, sa2L32, sa2L33, sa2L34, sa2L35, sa2L36, sa2L37, sa2L38, sa2L39, sa2L4, sa2L40, sa2L41, sa2L42, sa2L43, sa2L44, sa2L45, sa2L46, sa2L47, sa2L48, sa2L49, sa2L5, sa2L50, sa2L51, sa2L52, sa2L53, sa2L9, seps0, sn0, sn1, sn2, sn3=symbols('a1L0, a1L1, a1L10, a1L11, a1L12, a1L13, a1L14, a1L15, a1L16, a1L17, a1L18, a1L19, a1L2, a1L20, a1L21, a1L22, a1L23, a1L24, a1L25, a1L26, a1L27, a1L28, a1L29, a1L3, a1L30, a1L31, a1L32, a1L33, a1L34, a1L35, a1L4, a1L5, a1L6, a1L7, a1L8, a1L9, a2L10, a2L11, a2L15, a2L16, a2L17, a2L18, a2L19, a2L20, a2L21, a2L22, a2L23, a2L24, a2L25, a2L26, a2L27, a2L28, a2L29, a2L3, a2L30, a2L31, a2L32, a2L33, a2L34, a2L35, a2L36, a2L37, a2L38, a2L39, a2L4, a2L40, a2L41, a2L42, a2L43, a2L44, a2L45, a2L46, a2L47, a2L48, a2L49, a2L5, a2L50, a2L51, a2L52, a2L53, a2L9, epsilon0, n0, n1, n2, n3')\\nsyms=(sa1L0, sa1L1, sa1L10, sa1L11, sa1L12, sa1L13, sa1L14, sa1L15, sa1L16, sa1L17, sa1L18, sa1L19, sa1L2, sa1L20, sa1L21, sa1L22, sa1L23, sa1L24, sa1L25, sa1L26, sa1L27, sa1L28, sa1L29, sa1L3, sa1L30, sa1L31, sa1L32, sa1L33, sa1L34, sa1L35, sa1L4, sa1L5, sa1L6, sa1L7, sa1L8, sa1L9, sa2L10, sa2L11, sa2L15, sa2L16, sa2L17, sa2L18, sa2L19, sa2L20, sa2L21, sa2L22, sa2L23, sa2L24, sa2L25, sa2L26, sa2L27, sa2L28, sa2L29, sa2L3, sa2L30, sa2L31, sa2L32, sa2L33, sa2L34, sa2L35, sa2L36, sa2L37, sa2L38, sa2L39, sa2L4, sa2L40, sa2L41, sa2L42, sa2L43, sa2L44, sa2L45, sa2L46, sa2L47, sa2L48, sa2L49, sa2L5, sa2L50, sa2L51, sa2L52, sa2L53, sa2L9, seps0, sn0, sn1, sn2, sn3)\""
      ]
     },
     "execution_count": 6,
     "metadata": {},
     "output_type": "execute_result"
    }
   ],
   "source": [
    "tmp"
   ]
  },
  {
   "cell_type": "code",
   "execution_count": 7,
   "metadata": {},
   "outputs": [
    {
     "data": {
      "text/plain": [
       "<function __main__.fed_eqn>"
      ]
     },
     "execution_count": 7,
     "metadata": {},
     "output_type": "execute_result"
    }
   ],
   "source": [
    "fed_eqn"
   ]
  },
  {
   "cell_type": "code",
   "execution_count": 8,
   "metadata": {},
   "outputs": [],
   "source": [
    "name = \"fed_latex.dat\"\n",
    "tmp = open(name, \"w\")\n",
    "tmp_string = str(latex(fed_eqn())).replace(\"epsilon_{0}\",\"epsilon\")\n",
    "tmp.write(tmp_string)\n",
    "tmp.close()\n",
    "#tmp.write(str(latex(fed_eqn(syms))).replace(\"epsilon_{0}\",\"epsilon\"))"
   ]
  },
  {
   "cell_type": "code",
   "execution_count": 9,
   "metadata": {},
   "outputs": [],
   "source": [
    "#latex(fed_eqn(syms))"
   ]
  },
  {
   "cell_type": "code",
   "execution_count": 10,
   "metadata": {},
   "outputs": [],
   "source": [
    "# Used in MCodePrinter._print_Function(self)\n",
    "known_functions = {\n",
    "    \"exp\": [(lambda x: True, \"Exp\")],\n",
    "    \"log\": [(lambda x: True, \"Log\")],\n",
    "    \"sin\": [(lambda x: True, \"Sin\")],\n",
    "    \"cos\": [(lambda x: True, \"Cos\")],\n",
    "    \"tan\": [(lambda x: True, \"Tan\")],\n",
    "    \"cot\": [(lambda x: True, \"Cot\")],\n",
    "    \"asin\": [(lambda x: True, \"ArcSin\")],\n",
    "    \"acos\": [(lambda x: True, \"ArcCos\")],\n",
    "    \"atan\": [(lambda x: True, \"ArcTan\")],\n",
    "    \"sinh\": [(lambda x: True, \"Sinh\")],\n",
    "    \"cosh\": [(lambda x: True, \"Cosh\")],\n",
    "    \"tanh\": [(lambda x: True, \"Tanh\")],\n",
    "    \"coth\": [(lambda x: True, \"Coth\")],\n",
    "    \"sech\": [(lambda x: True, \"Sech\")],\n",
    "    \"csch\": [(lambda x: True, \"Csch\")],\n",
    "    \"asinh\": [(lambda x: True, \"ArcSinh\")],\n",
    "    \"acosh\": [(lambda x: True, \"ArcCosh\")],\n",
    "    \"atanh\": [(lambda x: True, \"ArcTanh\")],\n",
    "    \"acoth\": [(lambda x: True, \"ArcCoth\")],\n",
    "    \"asech\": [(lambda x: True, \"ArcSech\")],\n",
    "    \"acsch\": [(lambda x: True, \"ArcCsch\")],\n",
    "    \"conjugate\": [(lambda x: True, \"Conjugate\")],\n",
    "    \"Max\": [(lambda *x: True, \"Max\")],\n",
    "    \"Min\": [(lambda *x: True, \"Min\")],\n",
    "}\n",
    "\n"
   ]
  },
  {
   "cell_type": "code",
   "execution_count": 11,
   "metadata": {},
   "outputs": [],
   "source": [
    "\n",
    "class MCodePrinter(CodePrinter):\n",
    "    \"\"\"A printer to convert python expressions to\n",
    "    strings of the Wolfram's Mathematica code\n",
    "    \"\"\"\n",
    "    printmethod = \"_mcode\"\n",
    "    language = \"Wolfram Language\"\n",
    "\n",
    "    _default_settings = {\n",
    "        'order': None,\n",
    "        'full_prec': 'auto',\n",
    "        'precision': 15,\n",
    "        'user_functions': {},\n",
    "        'human': True,\n",
    "        'allow_unknown_functions': False,\n",
    "    }\n",
    "\n",
    "    _number_symbols = set()\n",
    "    _not_supported = set()\n",
    "\n",
    "    def __init__(self, settings={}):\n",
    "        \"\"\"Register function mappings supplied by user\"\"\"\n",
    "        CodePrinter.__init__(self, settings)\n",
    "        self.known_functions = dict(known_functions)\n",
    "        userfuncs = settings.get('user_functions', {}).copy()\n",
    "        for k, v in userfuncs.items():\n",
    "            if not isinstance(v, list):\n",
    "                userfuncs[k] = [(lambda *x: True, v)]\n",
    "        self.known_functions.update(userfuncs)\n",
    "\n",
    "    def _format_code(self, lines):\n",
    "        return lines\n",
    "\n",
    "    def _print_Pow(self, expr):\n",
    "        PREC = precedence(expr)\n",
    "        return '%s^%s' % (self.parenthesize(expr.base, PREC),\n",
    "                          self.parenthesize(expr.exp, PREC))\n",
    "\n",
    "    def _print_Mul(self, expr):\n",
    "        PREC = precedence(expr)\n",
    "        c, nc = expr.args_cnc()\n",
    "        res = super(MCodePrinter, self)._print_Mul(expr.func(*c))\n",
    "        if nc:\n",
    "            res += '*'\n",
    "            res += '**'.join(self.parenthesize(a, PREC) for a in nc)\n",
    "        return res\n",
    "\n",
    "\n",
    "    # Primitive numbers\n",
    "    def _print_Zero(self, expr):\n",
    "        return '0'\n",
    "\n",
    "    def _print_One(self, expr):\n",
    "        return '1'\n",
    "\n",
    "    def _print_NegativeOne(self, expr):\n",
    "        return '-1'\n",
    "\n",
    "    def _print_half(self, expr):\n",
    "        return '1/2'\n",
    "\n",
    "    def _print_ImaginaryUnit(self, expr):\n",
    "        return 'I'\n",
    "\n",
    "\n",
    "    # Infinity and invalid numbers\n",
    "    def _print_Infinity(self, expr):\n",
    "        return 'Infinity'\n",
    "\n",
    "    def _print_NegativeInfinity(self, expr):\n",
    "        return '-Infinity'\n",
    "\n",
    "    def _print_ComplexInfinity(self, expr):\n",
    "        return 'ComplexInfinity'\n",
    "\n",
    "    def _print_NaN(self, expr):\n",
    "        return 'Indeterminate'\n",
    "\n",
    "\n",
    "    # Mathematical constants\n",
    "    def _print_Exp1(self, expr):\n",
    "        return 'E'\n",
    "\n",
    "    def _print_Pi(self, expr):\n",
    "        return 'Pi'\n",
    "\n",
    "    def _print_GoldenRatio(self, expr):\n",
    "        return 'GoldenRatio'\n",
    "\n",
    "    def _print_TribonacciConstant(self, expr):\n",
    "        return self.doprint(expr._eval_expand_func())\n",
    "\n",
    "    def _print_EulerGamma(self, expr):\n",
    "        return 'EulerGamma'\n",
    "\n",
    "    def _print_Catalan(self, expr):\n",
    "        return 'Catalan'\n",
    "\n",
    "\n",
    "    def _print_list(self, expr):\n",
    "        return '{' + ', '.join(self.doprint(a) for a in expr) + '}'\n",
    "    _print_tuple = _print_list\n",
    "    _print_Tuple = _print_list\n",
    "\n",
    "    def _print_ImmutableDenseMatrix(self, expr):\n",
    "        return self.doprint(expr.tolist())\n",
    "\n",
    "    def _print_ImmutableSparseMatrix(self, expr):\n",
    "        from sympy.core.compatibility import default_sort_key\n",
    "\n",
    "        def print_rule(pos, val):\n",
    "            return '{} -> {}'.format(\n",
    "            self.doprint((pos[0]+1, pos[1]+1)), self.doprint(val))\n",
    "\n",
    "        def print_data():\n",
    "            items = sorted(expr._smat.items(), key=default_sort_key)\n",
    "            return '{' + \\\n",
    "                ', '.join(print_rule(k, v) for k, v in items) + \\\n",
    "                '}'\n",
    "\n",
    "        def print_dims():\n",
    "            return self.doprint(expr.shape)\n",
    "\n",
    "        return 'SparseArray[{}, {}]'.format(print_data(), print_dims())\n",
    "\n",
    "    def _print_ImmutableDenseNDimArray(self, expr):\n",
    "        return self.doprint(expr.tolist())\n",
    "\n",
    "    def _print_ImmutableSparseNDimArray(self, expr):\n",
    "        def print_string_list(string_list):\n",
    "            return '{' + ', '.join(a for a in string_list) + '}'\n",
    "\n",
    "        def to_mathematica_index(*args):\n",
    "            \"\"\"Helper function to change Python style indexing to\n",
    "            Pathematica indexing.\n",
    "\n",
    "            Python indexing (0, 1 ... n-1)\n",
    "            -> Mathematica indexing (1, 2 ... n)\n",
    "            \"\"\"\n",
    "            return tuple(i + 1 for i in args)\n",
    "\n",
    "        def print_rule(pos, val):\n",
    "            \"\"\"Helper function to print a rule of Mathematica\"\"\"\n",
    "            return '{} -> {}'.format(self.doprint(pos), self.doprint(val))\n",
    "\n",
    "        def print_data():\n",
    "            \"\"\"Helper function to print data part of Mathematica\n",
    "            sparse array.\n",
    "\n",
    "            It uses the fourth notation ``SparseArray[data,{d1,d2,...}]``\n",
    "            from\n",
    "            https://reference.wolfram.com/language/ref/SparseArray.html\n",
    "\n",
    "            ``data`` must be formatted with rule.\n",
    "            \"\"\"\n",
    "            return print_string_list(\n",
    "                [print_rule(\n",
    "                    to_mathematica_index(*(expr._get_tuple_index(key))),\n",
    "                    value)\n",
    "                for key, value in sorted(expr._sparse_array.items())]\n",
    "            )\n",
    "\n",
    "        def print_dims():\n",
    "            \"\"\"Helper function to print dimensions part of Mathematica\n",
    "            sparse array.\n",
    "\n",
    "            It uses the fourth notation ``SparseArray[data,{d1,d2,...}]``\n",
    "            from\n",
    "            https://reference.wolfram.com/language/ref/SparseArray.html\n",
    "            \"\"\"\n",
    "            return self.doprint(expr.shape)\n",
    "\n",
    "        return 'SparseArray[{}, {}]'.format(print_data(), print_dims())\n",
    "\n",
    "    def _print_Function(self, expr):\n",
    "        if expr.func.__name__ in self.known_functions:\n",
    "            cond_mfunc = self.known_functions[expr.func.__name__]\n",
    "            for cond, mfunc in cond_mfunc:\n",
    "                if cond(*expr.args):\n",
    "                    return \"%s[%s]\" % (mfunc, self.stringify(expr.args, \", \"))\n",
    "        return expr.func.__name__ + \"[%s]\" % self.stringify(expr.args, \", \")\n",
    "\n",
    "    _print_MinMaxBase = _print_Function\n",
    "\n",
    "    def _print_Integral(self, expr):\n",
    "        if len(expr.variables) == 1 and not expr.limits[0][1:]:\n",
    "            args = [expr.args[0], expr.variables[0]]\n",
    "        else:\n",
    "            args = expr.args\n",
    "        return \"Hold[Integrate[\" + ', '.join(self.doprint(a) for a in args) + \"]]\"\n",
    "\n",
    "    def _print_Sum(self, expr):\n",
    "        return \"Hold[Sum[\" + ', '.join(self.doprint(a) for a in expr.args) + \"]]\"\n",
    "\n",
    "    def _print_Derivative(self, expr):\n",
    "        dexpr = expr.expr\n",
    "        dvars = [i[0] if i[1] == 1 else i for i in expr.variable_count]\n",
    "        return \"Hold[D[\" + ', '.join(self.doprint(a) for a in [dexpr] + dvars) + \"]]\"\n",
    "\n",
    "\n",
    "    def _get_comment(self, text):\n",
    "        return \"(* {} *)\".format(text)\n",
    "\n"
   ]
  },
  {
   "cell_type": "code",
   "execution_count": 12,
   "metadata": {},
   "outputs": [],
   "source": [
    "def mathematica_code(expr, **settings):\n",
    "    r\"\"\"Converts an expr to a string of the Wolfram Mathematica code\n",
    "\n",
    "    Examples\n",
    "    ========\n",
    "\n",
    "    >>> from sympy import mathematica_code as mcode, symbols, sin\n",
    "    >>> x = symbols('x')\n",
    "    >>> mcode(sin(x).series(x).removeO())\n",
    "    '(1/120)*x^5 - 1/6*x^3 + x'\n",
    "    \"\"\"\n",
    "    return MCodePrinter(settings).doprint(expr)"
   ]
  },
  {
   "cell_type": "code",
   "execution_count": 13,
   "metadata": {},
   "outputs": [
    {
     "data": {
      "text/plain": [
       "'a2L3*(a1L12*n0 + a1L13*n1 + a1L14*n2 + a1L15*epsilon0*n3)*(a1L16*n0 + a1L17*n1 + a1L18*n2 + a1L19*epsilon0*n3) + a2L4*(a1L20*n0 + a1L21*n1 + a1L22*n2 + a1L23*epsilon0*n3)*(a1L24*n0 + a1L25*n1 + a1L26*n2 + a1L27*epsilon0*n3) + a2L5*(a1L28*n0 + a1L29*n1 + a1L30*n2 + a1L31*epsilon0*n3)/(a1L32*n0 + a1L33*n1 + a1L34*n2 + a1L35*epsilon0*n3 + 1) + (a2L18*(a1L0*n0 + a1L1*n1 + a1L2*n2 + a1L3*epsilon0*n3) + a2L19*(Exp[a1L4*n0 + a1L5*n1 + a1L6*n2 + a1L7*epsilon0*n3] - 1) + a2L20*Log[a1L10*n2 + a1L11*epsilon0*n3 + a1L8*n0 + a1L9*n1 + 1] + a2L21*(a1L12*n0 + a1L13*n1 + a1L14*n2 + a1L15*epsilon0*n3)*(a1L16*n0 + a1L17*n1 + a1L18*n2 + a1L19*epsilon0*n3) + a2L22*(a1L20*n0 + a1L21*n1 + a1L22*n2 + a1L23*epsilon0*n3)*(a1L24*n0 + a1L25*n1 + a1L26*n2 + a1L27*epsilon0*n3) + a2L23*(a1L28*n0 + a1L29*n1 + a1L30*n2 + a1L31*epsilon0*n3)/(a1L32*n0 + a1L33*n1 + a1L34*n2 + a1L35*epsilon0*n3 + 1))*(a2L24*(a1L0*n0 + a1L1*n1 + a1L2*n2 + a1L3*epsilon0*n3) + a2L25*(Exp[a1L4*n0 + a1L5*n1 + a1L6*n2 + a1L7*epsilon0*n3] - 1) + a2L26*Log[a1L10*n2 + a1L11*epsilon0*n3 + a1L8*n0 + a1L9*n1 + 1] + a2L27*(a1L12*n0 + a1L13*n1 + a1L14*n2 + a1L15*epsilon0*n3)*(a1L16*n0 + a1L17*n1 + a1L18*n2 + a1L19*epsilon0*n3) + a2L28*(a1L20*n0 + a1L21*n1 + a1L22*n2 + a1L23*epsilon0*n3)*(a1L24*n0 + a1L25*n1 + a1L26*n2 + a1L27*epsilon0*n3) + a2L29*(a1L28*n0 + a1L29*n1 + a1L30*n2 + a1L31*epsilon0*n3)/(a1L32*n0 + a1L33*n1 + a1L34*n2 + a1L35*epsilon0*n3 + 1)) + (a2L30*(a1L0*n0 + a1L1*n1 + a1L2*n2 + a1L3*epsilon0*n3) + a2L31*(Exp[a1L4*n0 + a1L5*n1 + a1L6*n2 + a1L7*epsilon0*n3] - 1) + a2L32*Log[a1L10*n2 + a1L11*epsilon0*n3 + a1L8*n0 + a1L9*n1 + 1] + a2L33*(a1L12*n0 + a1L13*n1 + a1L14*n2 + a1L15*epsilon0*n3)*(a1L16*n0 + a1L17*n1 + a1L18*n2 + a1L19*epsilon0*n3) + a2L34*(a1L20*n0 + a1L21*n1 + a1L22*n2 + a1L23*epsilon0*n3)*(a1L24*n0 + a1L25*n1 + a1L26*n2 + a1L27*epsilon0*n3) + a2L35*(a1L28*n0 + a1L29*n1 + a1L30*n2 + a1L31*epsilon0*n3)/(a1L32*n0 + a1L33*n1 + a1L34*n2 + a1L35*epsilon0*n3 + 1))*(a2L36*(a1L0*n0 + a1L1*n1 + a1L2*n2 + a1L3*epsilon0*n3) + a2L37*(Exp[a1L4*n0 + a1L5*n1 + a1L6*n2 + a1L7*epsilon0*n3] - 1) + a2L38*Log[a1L10*n2 + a1L11*epsilon0*n3 + a1L8*n0 + a1L9*n1 + 1] + a2L39*(a1L12*n0 + a1L13*n1 + a1L14*n2 + a1L15*epsilon0*n3)*(a1L16*n0 + a1L17*n1 + a1L18*n2 + a1L19*epsilon0*n3) + a2L40*(a1L20*n0 + a1L21*n1 + a1L22*n2 + a1L23*epsilon0*n3)*(a1L24*n0 + a1L25*n1 + a1L26*n2 + a1L27*epsilon0*n3) + a2L41*(a1L28*n0 + a1L29*n1 + a1L30*n2 + a1L31*epsilon0*n3)/(a1L32*n0 + a1L33*n1 + a1L34*n2 + a1L35*epsilon0*n3 + 1)) + (a2L42*(a1L0*n0 + a1L1*n1 + a1L2*n2 + a1L3*epsilon0*n3) + a2L43*(Exp[a1L4*n0 + a1L5*n1 + a1L6*n2 + a1L7*epsilon0*n3] - 1) + a2L44*Log[a1L10*n2 + a1L11*epsilon0*n3 + a1L8*n0 + a1L9*n1 + 1] + a2L45*(a1L12*n0 + a1L13*n1 + a1L14*n2 + a1L15*epsilon0*n3)*(a1L16*n0 + a1L17*n1 + a1L18*n2 + a1L19*epsilon0*n3) + a2L46*(a1L20*n0 + a1L21*n1 + a1L22*n2 + a1L23*epsilon0*n3)*(a1L24*n0 + a1L25*n1 + a1L26*n2 + a1L27*epsilon0*n3) + a2L47*(a1L28*n0 + a1L29*n1 + a1L30*n2 + a1L31*epsilon0*n3)/(a1L32*n0 + a1L33*n1 + a1L34*n2 + a1L35*epsilon0*n3 + 1))/(a2L48*(a1L0*n0 + a1L1*n1 + a1L2*n2 + a1L3*epsilon0*n3) + a2L49*(Exp[a1L4*n0 + a1L5*n1 + a1L6*n2 + a1L7*epsilon0*n3] - 1) + a2L50*Log[a1L10*n2 + a1L11*epsilon0*n3 + a1L8*n0 + a1L9*n1 + 1] + a2L51*(a1L12*n0 + a1L13*n1 + a1L14*n2 + a1L15*epsilon0*n3)*(a1L16*n0 + a1L17*n1 + a1L18*n2 + a1L19*epsilon0*n3) + a2L52*(a1L20*n0 + a1L21*n1 + a1L22*n2 + a1L23*epsilon0*n3)*(a1L24*n0 + a1L25*n1 + a1L26*n2 + a1L27*epsilon0*n3) + a2L53*(a1L28*n0 + a1L29*n1 + a1L30*n2 + a1L31*epsilon0*n3)/(a1L32*n0 + a1L33*n1 + a1L34*n2 + a1L35*epsilon0*n3 + 1) + 1) + Exp[a2L10*(a1L20*n0 + a1L21*n1 + a1L22*n2 + a1L23*epsilon0*n3)*(a1L24*n0 + a1L25*n1 + a1L26*n2 + a1L27*epsilon0*n3) + a2L11*(a1L28*n0 + a1L29*n1 + a1L30*n2 + a1L31*epsilon0*n3)/(a1L32*n0 + a1L33*n1 + a1L34*n2 + a1L35*epsilon0*n3 + 1) + a2L9*(a1L12*n0 + a1L13*n1 + a1L14*n2 + a1L15*epsilon0*n3)*(a1L16*n0 + a1L17*n1 + a1L18*n2 + a1L19*epsilon0*n3)] + Log[a2L15*(a1L12*n0 + a1L13*n1 + a1L14*n2 + a1L15*epsilon0*n3)*(a1L16*n0 + a1L17*n1 + a1L18*n2 + a1L19*epsilon0*n3) + a2L16*(a1L20*n0 + a1L21*n1 + a1L22*n2 + a1L23*epsilon0*n3)*(a1L24*n0 + a1L25*n1 + a1L26*n2 + a1L27*epsilon0*n3) + a2L17*(a1L28*n0 + a1L29*n1 + a1L30*n2 + a1L31*epsilon0*n3)/(a1L32*n0 + a1L33*n1 + a1L34*n2 + a1L35*epsilon0*n3 + 1) + 1] - 1'"
      ]
     },
     "execution_count": 13,
     "metadata": {},
     "output_type": "execute_result"
    }
   ],
   "source": [
    "mathematica_code(fed_eqn())"
   ]
  },
  {
   "cell_type": "code",
   "execution_count": 14,
   "metadata": {},
   "outputs": [],
   "source": [
    "\n",
    "name = \"all_parameter.dat\"\n",
    "tmp = open(name, \"r\")\n",
    "tmp=tmp.read()\n",
    "#print(tmp)\n",
    "tmp=tmp.replace(\"/varible:0\",\":\")\n",
    "tmp=tmp.replace(\"/const_1:0\",\":\")\n",
    "\n",
    "for i in range(100):\n",
    "    tmp=tmp.replace(\"_\"+str(i),\"\")\n",
    "tmp=tmp.replace(\"[[\",\"\")\n",
    "tmp=tmp.replace(\"]]\",\"\")\n",
    "tmp=tmp.replace(\"\\n\",\",\")\n",
    "tmp=tmp.replace(\":\",\"\\\":\")\n",
    "tmp=tmp.replace(\",\",\",\\\"\")\n",
    "tmp=\"{\\\"\"+tmp+\"}\"\n",
    "tmp=tmp.replace(\",\\\"}\",\"}\")\n",
    "#print(tmp)\n",
    "dict_all=ast.literal_eval(tmp)"
   ]
  },
  {
   "cell_type": "code",
   "execution_count": 15,
   "metadata": {},
   "outputs": [],
   "source": [
    "for i in list(dict_all.keys()):\n",
    "    if(np.abs(dict_all[i])<kill):\n",
    "        dict_all[i]=0\n",
    "    #dict_all[i]=np.round(dict_all[i],3)"
   ]
  },
  {
   "cell_type": "code",
   "execution_count": 16,
   "metadata": {},
   "outputs": [
    {
     "data": {
      "text/plain": [
       "-0.5505477*(0.15196347*n0 - 0.39830536*n1 + 0.11997815*n2)*(0.4507714*epsilon0*n3 - 0.27385*n0 - 0.38018966*n1 + 0.3314684*n2)*(-0.48827153890566*epsilon0*n3 - 0.102425521623679*n0 - 0.0960028092023862*n1 - 0.525453200074944*n2 + 0.24892256*(0.15196347*n0 - 0.39830536*n1 + 0.11997815*n2)*(0.4507714*epsilon0*n3 - 0.27385*n0 - 0.38018966*n1 + 0.3314684*n2) - 0.2448266*(0.0632784*epsilon0*n3 + 0.15260038*n0 - 0.29205367*n1 - 0.39168647*n2)*(0.12526949*epsilon0*n3 + 0.2187326*n0 + 0.15640846*n1 - 0.26057413*n2) - 0.38916522*(-0.97701424*epsilon0*n3 - 0.5044318*n0 - 0.08790455*n1 - 1.0639597*n2)/(-0.3635221*epsilon0*n3 - 1.1627965*n1 + 1)) - 0.09906254*(0.15196347*n0 - 0.39830536*n1 + 0.11997815*n2)*(0.4507714*epsilon0*n3 - 0.27385*n0 - 0.38018966*n1 + 0.3314684*n2) - 0.20664054*(0.0632784*epsilon0*n3 + 0.15260038*n0 - 0.29205367*n1 - 0.39168647*n2)*(0.12526949*epsilon0*n3 + 0.2187326*n0 + 0.15640846*n1 - 0.26057413*n2) - 0.050811*(0.0632784*epsilon0*n3 + 0.15260038*n0 - 0.29205367*n1 - 0.39168647*n2)*(0.12526949*epsilon0*n3 + 0.2187326*n0 + 0.15640846*n1 - 0.26057413*n2)/(0.19803599620497*epsilon0*n3 + 0.04154233576059*n0 + 0.038937374890785*n1 + 0.2131163494992*n2 - 0.7482393*(0.15196347*n0 - 0.39830536*n1 + 0.11997815*n2)*(0.4507714*epsilon0*n3 - 0.27385*n0 - 0.38018966*n1 + 0.3314684*n2) + 0.60074455*(0.0632784*epsilon0*n3 + 0.15260038*n0 - 0.29205367*n1 - 0.39168647*n2)*(0.12526949*epsilon0*n3 + 0.2187326*n0 + 0.15640846*n1 - 0.26057413*n2) - 0.37683868*log(-0.31787732*epsilon0*n3 + 0.09582391*n2 + 1) + 1 - 0.14144817*(-0.97701424*epsilon0*n3 - 0.5044318*n0 - 0.08790455*n1 - 1.0639597*n2)/(-0.3635221*epsilon0*n3 - 1.1627965*n1 + 1)) + (0.252551453270318*epsilon0*n3 + 0.0529781326104048*n0 + 0.0496560766913352*n1 + 0.271783134445824*n2 - 0.46068865*(0.15196347*n0 - 0.39830536*n1 + 0.11997815*n2)*(0.4507714*epsilon0*n3 - 0.27385*n0 - 0.38018966*n1 + 0.3314684*n2) + 0.92346215*(0.0632784*epsilon0*n3 + 0.15260038*n0 - 0.29205367*n1 - 0.39168647*n2)*(0.12526949*epsilon0*n3 + 0.2187326*n0 + 0.15640846*n1 - 0.26057413*n2) + 0.10039082*log(-0.31787732*epsilon0*n3 + 0.09582391*n2 + 1) + 0.14548723*(-0.97701424*epsilon0*n3 - 0.5044318*n0 - 0.08790455*n1 - 1.0639597*n2)/(-0.3635221*epsilon0*n3 - 1.1627965*n1 + 1))*(-0.332100592210024*epsilon0*n3 - 0.069665285969528*n0 - 0.065296842534372*n1 - 0.35738990504064*n2 + 0.33147037*(0.15196347*n0 - 0.39830536*n1 + 0.11997815*n2)*(0.4507714*epsilon0*n3 - 0.27385*n0 - 0.38018966*n1 + 0.3314684*n2) - 0.2522629*(0.0632784*epsilon0*n3 + 0.15260038*n0 - 0.29205367*n1 - 0.39168647*n2)*(0.12526949*epsilon0*n3 + 0.2187326*n0 + 0.15640846*n1 - 0.26057413*n2) + 0.23668459*exp(-0.2018587*epsilon0*n3 + 0.44950384*n0) - 0.23668459 - 0.9429856*(-0.97701424*epsilon0*n3 - 0.5044318*n0 - 0.08790455*n1 - 1.0639597*n2)/(-0.3635221*epsilon0*n3 - 1.1627965*n1 + 1)) + exp(-0.35030738*(0.15196347*n0 - 0.39830536*n1 + 0.11997815*n2)*(0.4507714*epsilon0*n3 - 0.27385*n0 - 0.38018966*n1 + 0.3314684*n2) - 0.18994287*(0.0632784*epsilon0*n3 + 0.15260038*n0 - 0.29205367*n1 - 0.39168647*n2)*(0.12526949*epsilon0*n3 + 0.2187326*n0 + 0.15640846*n1 - 0.26057413*n2)) + log(-0.22600088*(0.0632784*epsilon0*n3 + 0.15260038*n0 - 0.29205367*n1 - 0.39168647*n2)*(0.12526949*epsilon0*n3 + 0.2187326*n0 + 0.15640846*n1 - 0.26057413*n2) + 1) - 1"
      ]
     },
     "execution_count": 16,
     "metadata": {},
     "output_type": "execute_result"
    }
   ],
   "source": [
    "fed_eqn().subs(dict_all)"
   ]
  },
  {
   "cell_type": "code",
   "execution_count": 17,
   "metadata": {},
   "outputs": [],
   "source": [
    "name = \"fed_latex_number.dat\"\n",
    "tmp = open(name, \"w\")\n",
    "tmp_string = str(latex(fed_eqn().subs(dict_all))).replace(\"epsilon_{0}\",\"epsilon\")\n",
    "tmp.write(tmp_string)\n",
    "tmp.close()"
   ]
  },
  {
   "cell_type": "code",
   "execution_count": 18,
   "metadata": {},
   "outputs": [],
   "source": [
    "eqn = fed_eqn().subs(dict_all)\n",
    "eqn2=eqn\n",
    "for a in preorder_traversal(eqn):\n",
    "    if isinstance(a, Float):\n",
    "        eqn2 = eqn2.subs(a, round(a, 1))\n",
    "name = \"fed_latex_number.dat\"\n",
    "tmp = open(name, \"w\")\n",
    "tmp_string = str(latex(nsimplify(eqn2/seps0))).replace(\"epsilon_{0}\",\"epsilon\")\n",
    "tmp.write(tmp_string)\n",
    "tmp.close()"
   ]
  },
  {
   "cell_type": "code",
   "execution_count": 19,
   "metadata": {},
   "outputs": [
    {
     "data": {
      "text/plain": [
       "'-3/5*((1/5)*n0 - 2/5*n1 + (1/10)*n2)*((1/2)*epsilon*n3 - 3/10*n0 - 2/5*n1 + (3/10)*n2)*(-1/2*epsilon*n3 - 1/10*n0 - 1/10*n1 - 1/2*n2 + (1/5)*((1/5)*n0 - 2/5*n1 + (1/10)*n2)*((1/2)*epsilon*n3 - 3/10*n0 - 2/5*n1 + (3/10)*n2) - 1/5*((1/10)*epsilon*n3 + (1/5)*n0 - 3/10*n1 - 2/5*n2)*((1/10)*epsilon*n3 + (1/5)*n0 + (1/5)*n1 - 3/10*n2) - 2/5*(-epsilon*n3 - 1/2*n0 - 1/10*n1 - 11/10*n2)/(-2/5*epsilon*n3 - 6/5*n1 + 1)) - 1/10*((1/5)*n0 - 2/5*n1 + (1/10)*n2)*((1/2)*epsilon*n3 - 3/10*n0 - 2/5*n1 + (3/10)*n2) - 1/5*((1/10)*epsilon*n3 + (1/5)*n0 - 3/10*n1 - 2/5*n2)*((1/10)*epsilon*n3 + (1/5)*n0 + (1/5)*n1 - 3/10*n2) - 1/10*((1/10)*epsilon*n3 + (1/5)*n0 - 3/10*n1 - 2/5*n2)*((1/10)*epsilon*n3 + (1/5)*n0 + (1/5)*n1 - 3/10*n2)/((1/5)*epsilon*n3 + (1/5)*n2 - 7/10*((1/5)*n0 - 2/5*n1 + (1/10)*n2)*((1/2)*epsilon*n3 - 3/10*n0 - 2/5*n1 + (3/10)*n2) + (3/5)*((1/10)*epsilon*n3 + (1/5)*n0 - 3/10*n1 - 2/5*n2)*((1/10)*epsilon*n3 + (1/5)*n0 + (1/5)*n1 - 3/10*n2) - 2/5*Log[-3/10*epsilon*n3 + (1/10)*n2 + 1] + 1 - 1/10*(-epsilon*n3 - 1/2*n0 - 1/10*n1 - 11/10*n2)/(-2/5*epsilon*n3 - 6/5*n1 + 1)) + ((3/10)*epsilon*n3 + (1/10)*n0 + (3/10)*n2 - 1/2*((1/5)*n0 - 2/5*n1 + (1/10)*n2)*((1/2)*epsilon*n3 - 3/10*n0 - 2/5*n1 + (3/10)*n2) + (9/10)*((1/10)*epsilon*n3 + (1/5)*n0 - 3/10*n1 - 2/5*n2)*((1/10)*epsilon*n3 + (1/5)*n0 + (1/5)*n1 - 3/10*n2) + (1/10)*Log[-3/10*epsilon*n3 + (1/10)*n2 + 1] + (1/10)*(-epsilon*n3 - 1/2*n0 - 1/10*n1 - 11/10*n2)/(-2/5*epsilon*n3 - 6/5*n1 + 1))*(-3/10*epsilon*n3 - 1/10*n0 - 1/10*n1 - 2/5*n2 + (3/10)*((1/5)*n0 - 2/5*n1 + (1/10)*n2)*((1/2)*epsilon*n3 - 3/10*n0 - 2/5*n1 + (3/10)*n2) - 3/10*((1/10)*epsilon*n3 + (1/5)*n0 - 3/10*n1 - 2/5*n2)*((1/10)*epsilon*n3 + (1/5)*n0 + (1/5)*n1 - 3/10*n2) + (1/5)*Exp[-1/5*epsilon*n3 + (2/5)*n0] - 1/5 - 9/10*(-epsilon*n3 - 1/2*n0 - 1/10*n1 - 11/10*n2)/(-2/5*epsilon*n3 - 6/5*n1 + 1)) + Exp[-2/5*((1/5)*n0 - 2/5*n1 + (1/10)*n2)*((1/2)*epsilon*n3 - 3/10*n0 - 2/5*n1 + (3/10)*n2) - 1/5*((1/10)*epsilon*n3 + (1/5)*n0 - 3/10*n1 - 2/5*n2)*((1/10)*epsilon*n3 + (1/5)*n0 + (1/5)*n1 - 3/10*n2)] + Log[-1/5*((1/10)*epsilon*n3 + (1/5)*n0 - 3/10*n1 - 2/5*n2)*((1/10)*epsilon*n3 + (1/5)*n0 + (1/5)*n1 - 3/10*n2) + 1] - 1'"
      ]
     },
     "execution_count": 19,
     "metadata": {},
     "output_type": "execute_result"
    }
   ],
   "source": [
    "mathematica_code(nsimplify(eqn2).subs(\"epsilon0\",\"epsilon\"))"
   ]
  },
  {
   "cell_type": "code",
   "execution_count": 20,
   "metadata": {},
   "outputs": [
    {
     "data": {
      "text/plain": [
       "-3*(n0/5 - 2*n1/5 + n2/10)*(epsilon0*n3/2 - 3*n0/10 - 2*n1/5 + 3*n2/10)*(-epsilon0*n3/2 - n0/10 - n1/10 - n2/2 + (n0/5 - 2*n1/5 + n2/10)*(epsilon0*n3/2 - 3*n0/10 - 2*n1/5 + 3*n2/10)/5 - (epsilon0*n3/10 + n0/5 - 3*n1/10 - 2*n2/5)*(epsilon0*n3/10 + n0/5 + n1/5 - 3*n2/10)/5 - 2*(-epsilon0*n3 - n0/2 - n1/10 - 11*n2/10)/(5*(-2*epsilon0*n3/5 - 6*n1/5 + 1)))/5 - (n0/5 - 2*n1/5 + n2/10)*(epsilon0*n3/2 - 3*n0/10 - 2*n1/5 + 3*n2/10)/10 - (epsilon0*n3/10 + n0/5 - 3*n1/10 - 2*n2/5)*(epsilon0*n3/10 + n0/5 + n1/5 - 3*n2/10)/5 - (epsilon0*n3/10 + n0/5 - 3*n1/10 - 2*n2/5)*(epsilon0*n3/10 + n0/5 + n1/5 - 3*n2/10)/(10*(epsilon0*n3/5 + n2/5 - 7*(n0/5 - 2*n1/5 + n2/10)*(epsilon0*n3/2 - 3*n0/10 - 2*n1/5 + 3*n2/10)/10 + 3*(epsilon0*n3/10 + n0/5 - 3*n1/10 - 2*n2/5)*(epsilon0*n3/10 + n0/5 + n1/5 - 3*n2/10)/5 - 2*log(-3*epsilon0*n3/10 + n2/10 + 1)/5 + 1 - (-epsilon0*n3 - n0/2 - n1/10 - 11*n2/10)/(10*(-2*epsilon0*n3/5 - 6*n1/5 + 1)))) + (3*epsilon0*n3/10 + n0/10 + 3*n2/10 - (n0/5 - 2*n1/5 + n2/10)*(epsilon0*n3/2 - 3*n0/10 - 2*n1/5 + 3*n2/10)/2 + 9*(epsilon0*n3/10 + n0/5 - 3*n1/10 - 2*n2/5)*(epsilon0*n3/10 + n0/5 + n1/5 - 3*n2/10)/10 + log(-3*epsilon0*n3/10 + n2/10 + 1)/10 + (-epsilon0*n3 - n0/2 - n1/10 - 11*n2/10)/(10*(-2*epsilon0*n3/5 - 6*n1/5 + 1)))*(-3*epsilon0*n3/10 - n0/10 - n1/10 - 2*n2/5 + 3*(n0/5 - 2*n1/5 + n2/10)*(epsilon0*n3/2 - 3*n0/10 - 2*n1/5 + 3*n2/10)/10 - 3*(epsilon0*n3/10 + n0/5 - 3*n1/10 - 2*n2/5)*(epsilon0*n3/10 + n0/5 + n1/5 - 3*n2/10)/10 + exp(-epsilon0*n3/5 + 2*n0/5)/5 - 1/5 - 9*(-epsilon0*n3 - n0/2 - n1/10 - 11*n2/10)/(10*(-2*epsilon0*n3/5 - 6*n1/5 + 1))) + exp(-2*(n0/5 - 2*n1/5 + n2/10)*(epsilon0*n3/2 - 3*n0/10 - 2*n1/5 + 3*n2/10)/5 - (epsilon0*n3/10 + n0/5 - 3*n1/10 - 2*n2/5)*(epsilon0*n3/10 + n0/5 + n1/5 - 3*n2/10)/5) + log(-(epsilon0*n3/10 + n0/5 - 3*n1/10 - 2*n2/5)*(epsilon0*n3/10 + n0/5 + n1/5 - 3*n2/10)/5 + 1) - 1"
      ]
     },
     "execution_count": 20,
     "metadata": {},
     "output_type": "execute_result"
    }
   ],
   "source": [
    "nsimplify(eqn2)"
   ]
  },
  {
   "cell_type": "code",
   "execution_count": 21,
   "metadata": {},
   "outputs": [
    {
     "name": "stdout",
     "output_type": "stream",
     "text": [
      "[3.200e+01 3.125e-02 1.024e+03]\n",
      "1024 32.0 0.03125\n"
     ]
    }
   ],
   "source": [
    "data_file = '../LJ_data_all_correct/'\n",
    "f=np.loadtxt(data_file+\"MC_parameter.dat\")\n",
    "print(f)\n",
    "L = float(f[0])\n",
    "dx = float(f[1])\n",
    "N = int(f[2])\n",
    "print(N,L,dx)\n",
    "w_array=np.loadtxt(\"w_array.dat\")"
   ]
  },
  {
   "cell_type": "code",
   "execution_count": 22,
   "metadata": {},
   "outputs": [
    {
     "data": {
      "text/plain": [
       "'epsilon0*(-0.607810119177794*rho*(0.283362780249361*epsilon0*rho + 1.37977293015416*rho)*(-0.306936022961843*epsilon0*rho + 0.274812974170343*rho*(0.283362780249361*epsilon0*rho + 1.37977293015416*rho) - 0.219312391521309*rho - 0.38916522*(-0.614168226710072*epsilon0*rho - 0.635146195651119*rho)/(-0.228516345398324*epsilon0*rho + 3.01855237805172*rho + 1) - 0.2448266*(0.0397779081674906*epsilon0*rho + 0.34310713174039*rho)*(0.0787465907704427*epsilon0*rho - 0.715825638170982*rho)) - 0.109366026310627*rho*(0.283362780249361*epsilon0*rho + 1.37977293015416*rho) - 0.20664054*(0.0397779081674906*epsilon0*rho + 0.34310713174039*rho)*(0.0787465907704427*epsilon0*rho - 0.715825638170982*rho) - 0.050811*(0.0397779081674906*epsilon0*rho + 0.34310713174039*rho)*(0.0787465907704427*epsilon0*rho - 0.715825638170982*rho)/(0.124488888323643*epsilon0*rho - 0.826063605581331*rho*(0.283362780249361*epsilon0*rho + 1.37977293015416*rho) + 0.0889499888368638*rho - 0.14144817*(-0.614168226710072*epsilon0*rho - 0.635146195651119*rho)/(-0.228516345398324*epsilon0*rho + 3.01855237805172*rho + 1) + 0.60074455*(0.0397779081674906*epsilon0*rho + 0.34310713174039*rho)*(0.0787465907704427*epsilon0*rho - 0.715825638170982*rho) - 0.37683868*Log[-0.199823238948646*epsilon0*rho + 0.0908108140990033*rho + 1] + 1) + (0.158758257410949*epsilon0*rho - 0.508604837074711*rho*(0.283362780249361*epsilon0*rho + 1.37977293015416*rho) + 0.113436190286727*rho + 0.14548723*(-0.614168226710072*epsilon0*rho - 0.635146195651119*rho)/(-0.228516345398324*epsilon0*rho + 3.01855237805172*rho + 1) + 0.92346215*(0.0397779081674906*epsilon0*rho + 0.34310713174039*rho)*(0.0787465907704427*epsilon0*rho - 0.715825638170982*rho) + 0.10039082*Log[-0.199823238948646*epsilon0*rho + 0.0908108140990033*rho + 1])*(-0.208764236442444*epsilon0*rho + 0.3659465748265*rho*(0.283362780249361*epsilon0*rho + 1.37977293015416*rho) - 0.149166538083424*rho - 0.9429856*(-0.614168226710072*epsilon0*rho - 0.635146195651119*rho)/(-0.228516345398324*epsilon0*rho + 3.01855237805172*rho + 1) - 0.2522629*(0.0397779081674906*epsilon0*rho + 0.34310713174039*rho)*(0.0787465907704427*epsilon0*rho - 0.715825638170982*rho) + 0.23668459*Exp[-0.126891906739251*epsilon0*rho - 0.129172144603661*rho] - 0.23668459) + Exp[-0.386742820625099*rho*(0.283362780249361*epsilon0*rho + 1.37977293015416*rho) - 0.18994287*(0.0397779081674906*epsilon0*rho + 0.34310713174039*rho)*(0.0787465907704427*epsilon0*rho - 0.715825638170982*rho)] + Log[-0.22600088*(0.0397779081674906*epsilon0*rho + 0.34310713174039*rho)*(0.0787465907704427*epsilon0*rho - 0.715825638170982*rho) + 1] - 1) - rho*Log[-rho + 1]'"
      ]
     },
     "execution_count": 22,
     "metadata": {},
     "output_type": "execute_result"
    }
   ],
   "source": [
    "srho=symbols('rho') \n",
    "f=fed_eqn()\n",
    "f=f.subs({sn0:np.sum(w_array[0])*dx*srho})\n",
    "f=f.subs({sn1:np.sum(w_array[1])*dx*srho})\n",
    "f=f.subs({sn2:np.sum(w_array[2])*dx*srho})\n",
    "f=f.subs({sn3:np.sum(w_array[3])*dx*srho})\n",
    "#f=f.subs({sn4:np.sum(w_array[4])*dx*srho})\n",
    "#f=f.subs({sn5:np.sum(w_array[5])*dx*srho})\n",
    "\n",
    "f=f.subs(dict_all)*seps0\n",
    "f+=-srho*log(1-srho)\n",
    "#f2=f\n",
    "#for a in preorder_traversal(f):\n",
    "#    if isinstance(a, Float):\n",
    "#        f2 = f2.subs(a, round(a, 1))\n",
    "mathematica_code(f)"
   ]
  },
  {
   "cell_type": "code",
   "execution_count": 23,
   "metadata": {},
   "outputs": [
    {
     "data": {
      "text/plain": [
       "rho**2*(0.0146851808419303*epsilon0**3 - 0.108653142241235*epsilon0**2 - 0.506490899135693*epsilon0 + 1) + O(rho**3)"
      ]
     },
     "execution_count": 23,
     "metadata": {},
     "output_type": "execute_result"
    }
   ],
   "source": [
    "P=series(-f+diff(f,srho)*srho,srho,n=3)\n",
    "P"
   ]
  },
  {
   "cell_type": "code",
   "execution_count": 24,
   "metadata": {},
   "outputs": [
    {
     "data": {
      "text/plain": [
       "rho**2*(0.01*epsilon0**3 - 0.11*epsilon0**2 - 0.51*epsilon0 + 1) + rho**3*(-0.06*epsilon0**3 - 0.47*epsilon0**2 - 0.67*epsilon0 + 1) + O(rho**4)"
      ]
     },
     "execution_count": 24,
     "metadata": {},
     "output_type": "execute_result"
    }
   ],
   "source": [
    "P=series(-f+diff(f,srho)*srho,srho,n=4)\n",
    "P2=P\n",
    "for a in preorder_traversal(P):\n",
    "    if isinstance(a, Float):\n",
    "        P2 = P2.subs(a, round(a, 2))\n",
    "P2"
   ]
  },
  {
   "cell_type": "code",
   "execution_count": 25,
   "metadata": {},
   "outputs": [
    {
     "data": {
      "text/plain": [
       "'\\\\rho^{2} \\\\left(0.01 \\\\epsilon_{0}^{3} - 0.11 \\\\epsilon_{0}^{2} - 0.51 \\\\epsilon_{0} + 1\\\\right) + \\\\rho^{3} \\\\left(- 0.06 \\\\epsilon_{0}^{3} - 0.47 \\\\epsilon_{0}^{2} - 0.67 \\\\epsilon_{0} + 1\\\\right) + \\\\mathcal{O}\\\\left(\\\\rho^{4}\\\\right)'"
      ]
     },
     "execution_count": 25,
     "metadata": {},
     "output_type": "execute_result"
    }
   ],
   "source": [
    "latex(P2)"
   ]
  },
  {
   "cell_type": "code",
   "execution_count": 26,
   "metadata": {},
   "outputs": [
    {
     "data": {
      "text/plain": [
       "'-epsilon0*(-0.607810119177794*rho*(0.283362780249361*epsilon0*rho + 1.37977293015416*rho)*(-0.306936022961843*epsilon0*rho + 0.274812974170343*rho*(0.283362780249361*epsilon0*rho + 1.37977293015416*rho) - 0.219312391521309*rho - 0.38916522*(-0.614168226710072*epsilon0*rho - 0.635146195651119*rho)/(-0.228516345398324*epsilon0*rho + 3.01855237805172*rho + 1) - 0.2448266*(0.0397779081674906*epsilon0*rho + 0.34310713174039*rho)*(0.0787465907704427*epsilon0*rho - 0.715825638170982*rho)) - 0.109366026310627*rho*(0.283362780249361*epsilon0*rho + 1.37977293015416*rho) - 0.20664054*(0.0397779081674906*epsilon0*rho + 0.34310713174039*rho)*(0.0787465907704427*epsilon0*rho - 0.715825638170982*rho) - 0.050811*(0.0397779081674906*epsilon0*rho + 0.34310713174039*rho)*(0.0787465907704427*epsilon0*rho - 0.715825638170982*rho)/(0.124488888323643*epsilon0*rho - 0.826063605581331*rho*(0.283362780249361*epsilon0*rho + 1.37977293015416*rho) + 0.0889499888368638*rho - 0.14144817*(-0.614168226710072*epsilon0*rho - 0.635146195651119*rho)/(-0.228516345398324*epsilon0*rho + 3.01855237805172*rho + 1) + 0.60074455*(0.0397779081674906*epsilon0*rho + 0.34310713174039*rho)*(0.0787465907704427*epsilon0*rho - 0.715825638170982*rho) - 0.37683868*Log[-0.199823238948646*epsilon0*rho + 0.0908108140990033*rho + 1] + 1) + (0.158758257410949*epsilon0*rho - 0.508604837074711*rho*(0.283362780249361*epsilon0*rho + 1.37977293015416*rho) + 0.113436190286727*rho + 0.14548723*(-0.614168226710072*epsilon0*rho - 0.635146195651119*rho)/(-0.228516345398324*epsilon0*rho + 3.01855237805172*rho + 1) + 0.92346215*(0.0397779081674906*epsilon0*rho + 0.34310713174039*rho)*(0.0787465907704427*epsilon0*rho - 0.715825638170982*rho) + 0.10039082*Log[-0.199823238948646*epsilon0*rho + 0.0908108140990033*rho + 1])*(-0.208764236442444*epsilon0*rho + 0.3659465748265*rho*(0.283362780249361*epsilon0*rho + 1.37977293015416*rho) - 0.149166538083424*rho - 0.9429856*(-0.614168226710072*epsilon0*rho - 0.635146195651119*rho)/(-0.228516345398324*epsilon0*rho + 3.01855237805172*rho + 1) - 0.2522629*(0.0397779081674906*epsilon0*rho + 0.34310713174039*rho)*(0.0787465907704427*epsilon0*rho - 0.715825638170982*rho) + 0.23668459*Exp[-0.126891906739251*epsilon0*rho - 0.129172144603661*rho] - 0.23668459) + Exp[-0.386742820625099*rho*(0.283362780249361*epsilon0*rho + 1.37977293015416*rho) - 0.18994287*(0.0397779081674906*epsilon0*rho + 0.34310713174039*rho)*(0.0787465907704427*epsilon0*rho - 0.715825638170982*rho)] + Log[-0.22600088*(0.0397779081674906*epsilon0*rho + 0.34310713174039*rho)*(0.0787465907704427*epsilon0*rho - 0.715825638170982*rho) + 1] - 1) + rho*(epsilon0*(-0.0309902612802039*epsilon0*rho - 0.607810119177794*rho*(0.283362780249361*epsilon0 + 1.37977293015416)*(-0.306936022961843*epsilon0*rho + 0.274812974170343*rho*(0.283362780249361*epsilon0*rho + 1.37977293015416*rho) - 0.219312391521309*rho - 0.38916522*(-0.614168226710072*epsilon0*rho - 0.635146195651119*rho)/(-0.228516345398324*epsilon0*rho + 3.01855237805172*rho + 1) - 0.2448266*(0.0397779081674906*epsilon0*rho + 0.34310713174039*rho)*(0.0787465907704427*epsilon0*rho - 0.715825638170982*rho)) - 0.109366026310627*rho*(0.283362780249361*epsilon0 + 1.37977293015416) - 0.607810119177794*rho*(0.283362780249361*epsilon0*rho + 1.37977293015416*rho)*(0.0778717684095041*epsilon0*rho - 0.306936022961843*epsilon0 + 0.274812974170343*rho*(0.283362780249361*epsilon0 + 1.37977293015416) + 0.379179502615394*rho - 0.38916522*(-0.614168226710072*epsilon0 - 0.635146195651119)/(-0.228516345398324*epsilon0*rho + 3.01855237805172*rho + 1) - 0.2448266*(0.0397779081674906*epsilon0 + 0.34310713174039)*(0.0787465907704427*epsilon0*rho - 0.715825638170982*rho) - 0.2448266*(0.0787465907704427*epsilon0 - 0.715825638170982)*(0.0397779081674906*epsilon0*rho + 0.34310713174039*rho) - 0.38916522*(0.228516345398324*epsilon0 - 3.01855237805172)*(-0.614168226710072*epsilon0*rho - 0.635146195651119*rho)/(-0.228516345398324*epsilon0*rho + 3.01855237805172*rho + 1)^2 - 0.219312391521309) - 0.150900282581931*rho - 0.20664054*(0.0397779081674906*epsilon0 + 0.34310713174039)*(0.0787465907704427*epsilon0*rho - 0.715825638170982*rho) - 0.050811*(0.0397779081674906*epsilon0 + 0.34310713174039)*(0.0787465907704427*epsilon0*rho - 0.715825638170982*rho)/(0.124488888323643*epsilon0*rho - 0.826063605581331*rho*(0.283362780249361*epsilon0*rho + 1.37977293015416*rho) + 0.0889499888368638*rho - 0.14144817*(-0.614168226710072*epsilon0*rho - 0.635146195651119*rho)/(-0.228516345398324*epsilon0*rho + 3.01855237805172*rho + 1) + 0.60074455*(0.0397779081674906*epsilon0*rho + 0.34310713174039*rho)*(0.0787465907704427*epsilon0*rho - 0.715825638170982*rho) - 0.37683868*Log[-0.199823238948646*epsilon0*rho + 0.0908108140990033*rho + 1] + 1) - 0.20664054*(0.0787465907704427*epsilon0 - 0.715825638170982)*(0.0397779081674906*epsilon0*rho + 0.34310713174039*rho) - 0.050811*(0.0787465907704427*epsilon0 - 0.715825638170982)*(0.0397779081674906*epsilon0*rho + 0.34310713174039*rho)/(0.124488888323643*epsilon0*rho - 0.826063605581331*rho*(0.283362780249361*epsilon0*rho + 1.37977293015416*rho) + 0.0889499888368638*rho - 0.14144817*(-0.614168226710072*epsilon0*rho - 0.635146195651119*rho)/(-0.228516345398324*epsilon0*rho + 3.01855237805172*rho + 1) + 0.60074455*(0.0397779081674906*epsilon0*rho + 0.34310713174039*rho)*(0.0787465907704427*epsilon0*rho - 0.715825638170982*rho) - 0.37683868*Log[-0.199823238948646*epsilon0*rho + 0.0908108140990033*rho + 1] + 1) - 0.050811*(0.0397779081674906*epsilon0*rho + 0.34310713174039*rho)*(0.0787465907704427*epsilon0*rho - 0.715825638170982*rho)*(0.234075679940338*epsilon0*rho - 0.124488888323643*epsilon0 + 0.826063605581331*rho*(0.283362780249361*epsilon0 + 1.37977293015416) + 1.13978020156667*rho + 0.14144817*(-0.614168226710072*epsilon0 - 0.635146195651119)/(-0.228516345398324*epsilon0*rho + 3.01855237805172*rho + 1) + 0.37683868*(-0.199823238948646*epsilon0 + 0.0908108140990033)/(-0.199823238948646*epsilon0*rho + 0.0908108140990033*rho + 1) - 0.60074455*(0.0397779081674906*epsilon0 + 0.34310713174039)*(0.0787465907704427*epsilon0*rho - 0.715825638170982*rho) - 0.60074455*(0.0787465907704427*epsilon0 - 0.715825638170982)*(0.0397779081674906*epsilon0*rho + 0.34310713174039*rho) + 0.14144817*(0.228516345398324*epsilon0 - 3.01855237805172)*(-0.614168226710072*epsilon0*rho - 0.635146195651119*rho)/(-0.228516345398324*epsilon0*rho + 3.01855237805172*rho + 1)^2 - 0.0889499888368638)/(0.124488888323643*epsilon0*rho - 0.826063605581331*rho*(0.283362780249361*epsilon0*rho + 1.37977293015416*rho) + 0.0889499888368638*rho - 0.14144817*(-0.614168226710072*epsilon0*rho - 0.635146195651119*rho)/(-0.228516345398324*epsilon0*rho + 3.01855237805172*rho + 1) + 0.60074455*(0.0397779081674906*epsilon0*rho + 0.34310713174039*rho)*(0.0787465907704427*epsilon0*rho - 0.715825638170982*rho) - 0.37683868*Log[-0.199823238948646*epsilon0*rho + 0.0908108140990033*rho + 1] + 1)^2 - 0.607810119177794*(0.283362780249361*epsilon0*rho + 1.37977293015416*rho)*(-0.306936022961843*epsilon0*rho + 0.274812974170343*rho*(0.283362780249361*epsilon0*rho + 1.37977293015416*rho) - 0.219312391521309*rho - 0.38916522*(-0.614168226710072*epsilon0*rho - 0.635146195651119*rho)/(-0.228516345398324*epsilon0*rho + 3.01855237805172*rho + 1) - 0.2448266*(0.0397779081674906*epsilon0*rho + 0.34310713174039*rho)*(0.0787465907704427*epsilon0*rho - 0.715825638170982*rho)) + (-0.22600088*(0.0397779081674906*epsilon0 + 0.34310713174039)*(0.0787465907704427*epsilon0*rho - 0.715825638170982*rho) - 0.22600088*(0.0787465907704427*epsilon0 - 0.715825638170982)*(0.0397779081674906*epsilon0*rho + 0.34310713174039*rho))/(-0.22600088*(0.0397779081674906*epsilon0*rho + 0.34310713174039*rho)*(0.0787465907704427*epsilon0*rho - 0.715825638170982*rho) + 1) + (-0.109588520893808*epsilon0*rho - 0.386742820625099*rho*(0.283362780249361*epsilon0 + 1.37977293015416) - 0.533617274829978*rho - 0.18994287*(0.0397779081674906*epsilon0 + 0.34310713174039)*(0.0787465907704427*epsilon0*rho - 0.715825638170982*rho) - 0.18994287*(0.0787465907704427*epsilon0 - 0.715825638170982)*(0.0397779081674906*epsilon0*rho + 0.34310713174039*rho))*Exp[-0.386742820625099*rho*(0.283362780249361*epsilon0*rho + 1.37977293015416*rho) - 0.18994287*(0.0397779081674906*epsilon0*rho + 0.34310713174039*rho)*(0.0787465907704427*epsilon0*rho - 0.715825638170982*rho)] + (0.158758257410949*epsilon0*rho - 0.508604837074711*rho*(0.283362780249361*epsilon0*rho + 1.37977293015416*rho) + 0.113436190286727*rho + 0.14548723*(-0.614168226710072*epsilon0*rho - 0.635146195651119*rho)/(-0.228516345398324*epsilon0*rho + 3.01855237805172*rho + 1) + 0.92346215*(0.0397779081674906*epsilon0*rho + 0.34310713174039*rho)*(0.0787465907704427*epsilon0*rho - 0.715825638170982*rho) + 0.10039082*Log[-0.199823238948646*epsilon0*rho + 0.0908108140990033*rho + 1])*(0.103695638865568*epsilon0*rho - 0.208764236442444*epsilon0 + 0.3659465748265*rho*(0.283362780249361*epsilon0 + 1.37977293015416) + 0.504923177828239*rho - 0.9429856*(-0.614168226710072*epsilon0 - 0.635146195651119)/(-0.228516345398324*epsilon0*rho + 3.01855237805172*rho + 1) + 0.23668459*(-0.126891906739251*epsilon0 - 0.129172144603661)*Exp[-0.126891906739251*epsilon0*rho - 0.129172144603661*rho] - 0.2522629*(0.0397779081674906*epsilon0 + 0.34310713174039)*(0.0787465907704427*epsilon0*rho - 0.715825638170982*rho) - 0.2522629*(0.0787465907704427*epsilon0 - 0.715825638170982)*(0.0397779081674906*epsilon0*rho + 0.34310713174039*rho) - 0.9429856*(0.228516345398324*epsilon0 - 3.01855237805172)*(-0.614168226710072*epsilon0*rho - 0.635146195651119*rho)/(-0.228516345398324*epsilon0*rho + 3.01855237805172*rho + 1)^2 - 0.149166538083424) + (-0.208764236442444*epsilon0*rho + 0.3659465748265*rho*(0.283362780249361*epsilon0*rho + 1.37977293015416*rho) - 0.149166538083424*rho - 0.9429856*(-0.614168226710072*epsilon0*rho - 0.635146195651119*rho)/(-0.228516345398324*epsilon0*rho + 3.01855237805172*rho + 1) - 0.2522629*(0.0397779081674906*epsilon0*rho + 0.34310713174039*rho)*(0.0787465907704427*epsilon0*rho - 0.715825638170982*rho) + 0.23668459*Exp[-0.126891906739251*epsilon0*rho - 0.129172144603661*rho] - 0.23668459)*(-0.144119680681763*epsilon0*rho + 0.158758257410949*epsilon0 - 0.508604837074711*rho*(0.283362780249361*epsilon0 + 1.37977293015416) - 0.701759186341155*rho + 0.14548723*(-0.614168226710072*epsilon0 - 0.635146195651119)/(-0.228516345398324*epsilon0*rho + 3.01855237805172*rho + 1) + 0.10039082*(-0.199823238948646*epsilon0 + 0.0908108140990033)/(-0.199823238948646*epsilon0*rho + 0.0908108140990033*rho + 1) + 0.92346215*(0.0397779081674906*epsilon0 + 0.34310713174039)*(0.0787465907704427*epsilon0*rho - 0.715825638170982*rho) + 0.92346215*(0.0787465907704427*epsilon0 - 0.715825638170982)*(0.0397779081674906*epsilon0*rho + 0.34310713174039*rho) + 0.14548723*(0.228516345398324*epsilon0 - 3.01855237805172)*(-0.614168226710072*epsilon0*rho - 0.635146195651119*rho)/(-0.228516345398324*epsilon0*rho + 3.01855237805172*rho + 1)^2 + 0.113436190286727)) + rho/(-rho + 1) - Log[-rho + 1]) + rho*Log[-rho + 1]'"
      ]
     },
     "execution_count": 26,
     "metadata": {},
     "output_type": "execute_result"
    }
   ],
   "source": [
    "mathematica_code((-f+diff(f,srho)*srho))"
   ]
  },
  {
   "cell_type": "code",
   "execution_count": 27,
   "metadata": {},
   "outputs": [
    {
     "data": {
      "text/plain": [
       "1.22281018741470"
      ]
     },
     "execution_count": 27,
     "metadata": {},
     "output_type": "execute_result"
    }
   ],
   "source": [
    "P=(-f+diff(f,srho)*srho)+srho\n",
    "diifP = diff(P,srho)\n",
    "diifP.subs({\"epsilon0\":0.1,\"rho\":0.1})"
   ]
  },
  {
   "cell_type": "code",
   "execution_count": 28,
   "metadata": {},
   "outputs": [],
   "source": [
    "rho_array=np.linspace(0,0.9,100)\n",
    "diffP_array = np.zeros(len(rho_array))\n",
    "\n",
    "for i in range (len(rho_array)):\n",
    "    diffP_array[i]=diifP.subs({\"epsilon0\":5,\"rho\":rho_array[i]})"
   ]
  },
  {
   "cell_type": "code",
   "execution_count": 29,
   "metadata": {},
   "outputs": [
    {
     "data": {
      "text/plain": [
       "[<matplotlib.lines.Line2D at 0x7f04c995f550>]"
      ]
     },
     "execution_count": 29,
     "metadata": {},
     "output_type": "execute_result"
    },
    {
     "data": {
      "image/png": "[encoded data removed]",
      "text/plain": [
       "<Figure size 432x288 with 1 Axes>"
      ]
     },
     "metadata": {},
     "output_type": "display_data"
    }
   ],
   "source": [
    "plt.plot(rho_array,diffP_array)"
   ]
  },
  {
   "cell_type": "code",
   "execution_count": 30,
   "metadata": {},
   "outputs": [
    {
     "data": {
      "text/plain": [
       "array([ 1.00000000e+00,  9.50996674e-01,  8.92873323e-01,  8.27265243e-01,\n",
       "        7.55709099e-01,  6.79637643e-01,  6.00377168e-01,  5.19147048e-01,\n",
       "        4.37060813e-01,  3.55128370e-01,  2.74259044e-01,  1.95265177e-01,\n",
       "        1.18866107e-01,  4.56923747e-02, -2.37099693e-02, -8.88750217e-02,\n",
       "       -1.49412730e-01, -2.05004682e-01, -2.55400013e-01, -3.00411462e-01,\n",
       "       -3.39911580e-01, -3.73829109e-01, -4.02145531e-01, -4.24891783e-01,\n",
       "       -4.42145142e-01, -4.54026268e-01, -4.60696403e-01, -4.62354710e-01,\n",
       "       -4.59235757e-01, -4.51607117e-01, -4.39767091e-01, -4.24042531e-01,\n",
       "       -4.04786768e-01, -3.82377609e-01, -3.57215422e-01, -3.29721272e-01,\n",
       "       -3.00335116e-01, -2.69514034e-01, -2.37730488e-01, -2.05470599e-01,\n",
       "       -1.73232427e-01, -1.41524241e-01, -1.10862768e-01, -8.17714039e-02,\n",
       "       -5.47783709e-02, -3.04148068e-02, -9.21276337e-03,  8.29690237e-03,\n",
       "        2.15867697e-02,  3.01352527e-02,  3.34291852e-02,  3.09666241e-02,\n",
       "        2.22599091e-02,  6.83902124e-03, -1.57447106e-02, -4.59144987e-02,\n",
       "       -8.40635136e-02, -1.30549754e-01, -1.85690275e-01, -2.49754676e-01,\n",
       "       -3.22957715e-01, -4.05450902e-01, -4.97312899e-01, -5.98538513e-01,\n",
       "       -7.09026028e-01, -8.28562574e-01, -9.56807166e-01, -1.09327097e+00,\n",
       "       -1.23729424e+00, -1.38801931e+00, -1.54435873e+00, -1.70495769e+00,\n",
       "       -1.86814931e+00, -2.03190138e+00, -2.19375256e+00, -2.35073547e+00,\n",
       "       -2.49928374e+00, -2.63511882e+00, -2.75311147e+00, -2.84711126e+00,\n",
       "       -2.90973528e+00, -2.93210455e+00, -2.90351270e+00, -2.81100640e+00,\n",
       "       -2.63884947e+00, -2.36783228e+00, -1.97437320e+00, -1.42933731e+00,\n",
       "       -6.96465758e-01,  2.69737992e-01,  1.52689078e+00,  3.14871794e+00,\n",
       "        5.23065880e+00,  7.89788302e+00,  1.13169758e+01,  1.57133369e+01,\n",
       "        2.13977068e+01,  2.88077031e+01,  3.85748554e+01,  5.16366162e+01])"
      ]
     },
     "execution_count": 30,
     "metadata": {},
     "output_type": "execute_result"
    }
   ],
   "source": [
    "diffP_array"
   ]
  },
  {
   "cell_type": "code",
   "execution_count": 31,
   "metadata": {},
   "outputs": [
    {
     "name": "stdout",
     "output_type": "stream",
     "text": [
      "epsilon\t=\t 1.0\n",
      "epsilon\t=\t 1.1\n",
      "epsilon\t=\t 1.2\n",
      "epsilon\t=\t 1.3\n",
      "epsilon\t=\t 1.4\n",
      "epsilon\t=\t 1.5\n",
      "epsilon\t=\t 1.6\n",
      "epsilon\t=\t 1.7\n",
      "epsilon\t=\t 1.8\n",
      "epsilon\t=\t 1.9\n",
      "epsilon\t=\t 2.0\n",
      "epsilon\t=\t 2.1\n",
      "epsilon\t=\t 2.2\n",
      "epsilon\t=\t 2.3\n",
      "epsilon\t=\t 2.4\n",
      "epsilon\t=\t 2.5\n",
      "epsilon\t=\t 2.6\n",
      "epsilon\t=\t 2.7\n",
      "epsilon\t=\t 2.8\n",
      "epsilon\t=\t 2.9\n",
      "epsilon\t=\t 3.0\n",
      "epsilon\t=\t 3.1\n",
      "epsilon\t=\t 3.2\n",
      "epsilon\t=\t 3.3\n",
      "epsilon\t=\t 3.4\n",
      "epsilon\t=\t 3.5\n",
      "epsilon\t=\t 3.6\n",
      "epsilon\t=\t 3.7\n",
      "epsilon\t=\t 3.8\n",
      "epsilon\t=\t 3.9\n",
      "epsilon\t=\t 4.0\n",
      "epsilon\t=\t 4.1\n",
      "epsilon\t=\t 4.2\n",
      "L-V at epsilon>=\t 4.2\n"
     ]
    }
   ],
   "source": [
    "rho_array=np.linspace(0,0.9,100)\n",
    "diffP_array = np.zeros(len(rho_array))\n",
    "\n",
    "for i in range (100000):\n",
    "    eps=1+i/10\n",
    "    tmp=0\n",
    "    print(\"epsilon\\t=\\t\",eps)\n",
    "    for j in range (len(rho_array)):\n",
    "        tmp=diifP.subs({\"epsilon0\":eps,\"rho\":rho_array[j]})\n",
    "        if(tmp<0):\n",
    "            print(\"L-V at epsilon>=\\t\",eps)\n",
    "            break\n",
    "    if(tmp<0):\n",
    "        break"
   ]
  },
  {
   "cell_type": "code",
   "execution_count": 33,
   "metadata": {},
   "outputs": [
    {
     "name": "stdout",
     "output_type": "stream",
     "text": [
      "epsilon\t=\t 4.1\n",
      "epsilon\t=\t 4.109999999999999\n",
      "epsilon\t=\t 4.119999999999999\n",
      "epsilon\t=\t 4.13\n",
      "epsilon\t=\t 4.14\n",
      "epsilon\t=\t 4.1499999999999995\n",
      "epsilon\t=\t 4.159999999999999\n",
      "epsilon\t=\t 4.17\n",
      "epsilon\t=\t 4.18\n",
      "epsilon\t=\t 4.1899999999999995\n",
      "epsilon\t=\t 4.199999999999999\n",
      "L-V at epsilon>=\t 4.199999999999999\n",
      "L-V at rho=\t 0.22545090180360722\n"
     ]
    }
   ],
   "source": [
    "rho_array=np.linspace(0,0.9,500)\n",
    "diffP_array = np.zeros(len(rho_array))\n",
    "\n",
    "for i in range (100000):\n",
    "    eps=4.1+i/100\n",
    "    tmp=0\n",
    "    print(\"epsilon\\t=\\t\",eps)\n",
    "    for j in range (len(rho_array)):\n",
    "        tmp=diifP.subs({\"epsilon0\":eps,\"rho\":rho_array[j]})\n",
    "        if(tmp<0):\n",
    "            print(\"L-V at epsilon>=\\t\",eps)\n",
    "            print(\"L-V at rho=\\t\",rho_array[j])\n",
    "            break\n",
    "    if(tmp<0):\n",
    "        break"
   ]
  },
  {
   "cell_type": "code",
   "execution_count": null,
   "metadata": {},
   "outputs": [],
   "source": []
  }
 ],
 "metadata": {
  "kernelspec": {
   "display_name": "Python 3",
   "language": "python",
   "name": "python3"
  },
  "language_info": {
   "codemirror_mode": {
    "name": "ipython",
    "version": 3
   },
   "file_extension": ".py",
   "mimetype": "text/x-python",
   "name": "python",
   "nbconvert_exporter": "python",
   "pygments_lexer": "ipython3",
   "version": "3.6.9"
  }
 },
 "nbformat": 4,
 "nbformat_minor": 2
}
