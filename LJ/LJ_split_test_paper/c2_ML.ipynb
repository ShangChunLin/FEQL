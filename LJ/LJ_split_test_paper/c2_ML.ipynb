{
 "cells": [
  {
   "cell_type": "code",
   "execution_count": 1,
   "metadata": {},
   "outputs": [],
   "source": [
    "from __future__ import print_function, division\n",
    "from sympy import *\n",
    "import ast\n",
    "import numpy as np\n",
    "import matplotlib.pyplot as plt\n",
    "#from brokenaxes import brokenaxes\n",
    "#from numba import jit"
   ]
  },
  {
   "cell_type": "code",
   "execution_count": 2,
   "metadata": {},
   "outputs": [],
   "source": [
    "from matplotlib import rc\n",
    "rc('font',**{'family':'sans-serif','sans-serif':['Helvetica']})\n",
    "rc('text', usetex=True)"
   ]
  },
  {
   "cell_type": "code",
   "execution_count": 3,
   "metadata": {},
   "outputs": [],
   "source": [
    "name = \"free_energy_def.dat\"\n",
    "tmp = open(name, \"r\")\n",
    "tmp=tmp.read()\n",
    "exec(tmp)"
   ]
  },
  {
   "cell_type": "code",
   "execution_count": 4,
   "metadata": {},
   "outputs": [
    {
     "data": {
      "text/plain": [
       "'def fed_eqn():\\n     return sa2L3*(sa1L12*sn0 + sa1L13*sn1 + sa1L14*sn2 + sa1L15*seps0*sn3)*(sa1L16*sn0 + sa1L17*sn1 + sa1L18*sn2 + sa1L19*seps0*sn3) + sa2L4*(sa1L20*sn0 + sa1L21*sn1 + sa1L22*sn2 + sa1L23*seps0*sn3)*(sa1L24*sn0 + sa1L25*sn1 + sa1L26*sn2 + sa1L27*seps0*sn3) + sa2L5*(sa1L28*sn0 + sa1L29*sn1 + sa1L30*sn2 + sa1L31*seps0*sn3)/(sa1L32*sn0 + sa1L33*sn1 + sa1L34*sn2 + sa1L35*seps0*sn3 + 1) + (sa2L18*(sa1L0*sn0 + sa1L1*sn1 + sa1L2*sn2 + sa1L3*seps0*sn3) + sa2L19*(exp(sa1L4*sn0 + sa1L5*sn1 + sa1L6*sn2 + sa1L7*seps0*sn3) - 1) + sa2L20*log(sa1L10*sn2 + sa1L11*seps0*sn3 + sa1L8*sn0 + sa1L9*sn1 + 1) + sa2L21*(sa1L12*sn0 + sa1L13*sn1 + sa1L14*sn2 + sa1L15*seps0*sn3)*(sa1L16*sn0 + sa1L17*sn1 + sa1L18*sn2 + sa1L19*seps0*sn3) + sa2L22*(sa1L20*sn0 + sa1L21*sn1 + sa1L22*sn2 + sa1L23*seps0*sn3)*(sa1L24*sn0 + sa1L25*sn1 + sa1L26*sn2 + sa1L27*seps0*sn3) + sa2L23*(sa1L28*sn0 + sa1L29*sn1 + sa1L30*sn2 + sa1L31*seps0*sn3)/(sa1L32*sn0 + sa1L33*sn1 + sa1L34*sn2 + sa1L35*seps0*sn3 + 1))*(sa2L24*(sa1L0*sn0 + sa1L1*sn1 + sa1L2*sn2 + sa1L3*seps0*sn3) + sa2L25*(exp(sa1L4*sn0 + sa1L5*sn1 + sa1L6*sn2 + sa1L7*seps0*sn3) - 1) + sa2L26*log(sa1L10*sn2 + sa1L11*seps0*sn3 + sa1L8*sn0 + sa1L9*sn1 + 1) + sa2L27*(sa1L12*sn0 + sa1L13*sn1 + sa1L14*sn2 + sa1L15*seps0*sn3)*(sa1L16*sn0 + sa1L17*sn1 + sa1L18*sn2 + sa1L19*seps0*sn3) + sa2L28*(sa1L20*sn0 + sa1L21*sn1 + sa1L22*sn2 + sa1L23*seps0*sn3)*(sa1L24*sn0 + sa1L25*sn1 + sa1L26*sn2 + sa1L27*seps0*sn3) + sa2L29*(sa1L28*sn0 + sa1L29*sn1 + sa1L30*sn2 + sa1L31*seps0*sn3)/(sa1L32*sn0 + sa1L33*sn1 + sa1L34*sn2 + sa1L35*seps0*sn3 + 1)) + (sa2L30*(sa1L0*sn0 + sa1L1*sn1 + sa1L2*sn2 + sa1L3*seps0*sn3) + sa2L31*(exp(sa1L4*sn0 + sa1L5*sn1 + sa1L6*sn2 + sa1L7*seps0*sn3) - 1) + sa2L32*log(sa1L10*sn2 + sa1L11*seps0*sn3 + sa1L8*sn0 + sa1L9*sn1 + 1) + sa2L33*(sa1L12*sn0 + sa1L13*sn1 + sa1L14*sn2 + sa1L15*seps0*sn3)*(sa1L16*sn0 + sa1L17*sn1 + sa1L18*sn2 + sa1L19*seps0*sn3) + sa2L34*(sa1L20*sn0 + sa1L21*sn1 + sa1L22*sn2 + sa1L23*seps0*sn3)*(sa1L24*sn0 + sa1L25*sn1 + sa1L26*sn2 + sa1L27*seps0*sn3) + sa2L35*(sa1L28*sn0 + sa1L29*sn1 + sa1L30*sn2 + sa1L31*seps0*sn3)/(sa1L32*sn0 + sa1L33*sn1 + sa1L34*sn2 + sa1L35*seps0*sn3 + 1))*(sa2L36*(sa1L0*sn0 + sa1L1*sn1 + sa1L2*sn2 + sa1L3*seps0*sn3) + sa2L37*(exp(sa1L4*sn0 + sa1L5*sn1 + sa1L6*sn2 + sa1L7*seps0*sn3) - 1) + sa2L38*log(sa1L10*sn2 + sa1L11*seps0*sn3 + sa1L8*sn0 + sa1L9*sn1 + 1) + sa2L39*(sa1L12*sn0 + sa1L13*sn1 + sa1L14*sn2 + sa1L15*seps0*sn3)*(sa1L16*sn0 + sa1L17*sn1 + sa1L18*sn2 + sa1L19*seps0*sn3) + sa2L40*(sa1L20*sn0 + sa1L21*sn1 + sa1L22*sn2 + sa1L23*seps0*sn3)*(sa1L24*sn0 + sa1L25*sn1 + sa1L26*sn2 + sa1L27*seps0*sn3) + sa2L41*(sa1L28*sn0 + sa1L29*sn1 + sa1L30*sn2 + sa1L31*seps0*sn3)/(sa1L32*sn0 + sa1L33*sn1 + sa1L34*sn2 + sa1L35*seps0*sn3 + 1)) + (sa2L42*(sa1L0*sn0 + sa1L1*sn1 + sa1L2*sn2 + sa1L3*seps0*sn3) + sa2L43*(exp(sa1L4*sn0 + sa1L5*sn1 + sa1L6*sn2 + sa1L7*seps0*sn3) - 1) + sa2L44*log(sa1L10*sn2 + sa1L11*seps0*sn3 + sa1L8*sn0 + sa1L9*sn1 + 1) + sa2L45*(sa1L12*sn0 + sa1L13*sn1 + sa1L14*sn2 + sa1L15*seps0*sn3)*(sa1L16*sn0 + sa1L17*sn1 + sa1L18*sn2 + sa1L19*seps0*sn3) + sa2L46*(sa1L20*sn0 + sa1L21*sn1 + sa1L22*sn2 + sa1L23*seps0*sn3)*(sa1L24*sn0 + sa1L25*sn1 + sa1L26*sn2 + sa1L27*seps0*sn3) + sa2L47*(sa1L28*sn0 + sa1L29*sn1 + sa1L30*sn2 + sa1L31*seps0*sn3)/(sa1L32*sn0 + sa1L33*sn1 + sa1L34*sn2 + sa1L35*seps0*sn3 + 1))/(sa2L48*(sa1L0*sn0 + sa1L1*sn1 + sa1L2*sn2 + sa1L3*seps0*sn3) + sa2L49*(exp(sa1L4*sn0 + sa1L5*sn1 + sa1L6*sn2 + sa1L7*seps0*sn3) - 1) + sa2L50*log(sa1L10*sn2 + sa1L11*seps0*sn3 + sa1L8*sn0 + sa1L9*sn1 + 1) + sa2L51*(sa1L12*sn0 + sa1L13*sn1 + sa1L14*sn2 + sa1L15*seps0*sn3)*(sa1L16*sn0 + sa1L17*sn1 + sa1L18*sn2 + sa1L19*seps0*sn3) + sa2L52*(sa1L20*sn0 + sa1L21*sn1 + sa1L22*sn2 + sa1L23*seps0*sn3)*(sa1L24*sn0 + sa1L25*sn1 + sa1L26*sn2 + sa1L27*seps0*sn3) + sa2L53*(sa1L28*sn0 + sa1L29*sn1 + sa1L30*sn2 + sa1L31*seps0*sn3)/(sa1L32*sn0 + sa1L33*sn1 + sa1L34*sn2 + sa1L35*seps0*sn3 + 1) + 1) + exp(sa2L10*(sa1L20*sn0 + sa1L21*sn1 + sa1L22*sn2 + sa1L23*seps0*sn3)*(sa1L24*sn0 + sa1L25*sn1 + sa1L26*sn2 + sa1L27*seps0*sn3) + sa2L11*(sa1L28*sn0 + sa1L29*sn1 + sa1L30*sn2 + sa1L31*seps0*sn3)/(sa1L32*sn0 + sa1L33*sn1 + sa1L34*sn2 + sa1L35*seps0*sn3 + 1) + sa2L9*(sa1L12*sn0 + sa1L13*sn1 + sa1L14*sn2 + sa1L15*seps0*sn3)*(sa1L16*sn0 + sa1L17*sn1 + sa1L18*sn2 + sa1L19*seps0*sn3)) + log(sa2L15*(sa1L12*sn0 + sa1L13*sn1 + sa1L14*sn2 + sa1L15*seps0*sn3)*(sa1L16*sn0 + sa1L17*sn1 + sa1L18*sn2 + sa1L19*seps0*sn3) + sa2L16*(sa1L20*sn0 + sa1L21*sn1 + sa1L22*sn2 + sa1L23*seps0*sn3)*(sa1L24*sn0 + sa1L25*sn1 + sa1L26*sn2 + sa1L27*seps0*sn3) + sa2L17*(sa1L28*sn0 + sa1L29*sn1 + sa1L30*sn2 + sa1L31*seps0*sn3)/(sa1L32*sn0 + sa1L33*sn1 + sa1L34*sn2 + sa1L35*seps0*sn3 + 1) + 1) - 1'"
      ]
     },
     "execution_count": 4,
     "metadata": {},
     "output_type": "execute_result"
    }
   ],
   "source": [
    "tmp"
   ]
  },
  {
   "cell_type": "code",
   "execution_count": 5,
   "metadata": {},
   "outputs": [],
   "source": [
    "name = \"assign_symbols_final.dat\"\n",
    "tmp = open(name, \"r\")\n",
    "tmp=tmp.read()\n",
    "exec(tmp)"
   ]
  },
  {
   "cell_type": "code",
   "execution_count": 6,
   "metadata": {},
   "outputs": [],
   "source": [
    "w_array = np.loadtxt(\"w_array.dat\")"
   ]
  },
  {
   "cell_type": "code",
   "execution_count": 7,
   "metadata": {},
   "outputs": [
    {
     "data": {
      "text/plain": [
       "513"
      ]
     },
     "execution_count": 7,
     "metadata": {},
     "output_type": "execute_result"
    }
   ],
   "source": [
    "len(w_array[0])"
   ]
  },
  {
   "cell_type": "code",
   "execution_count": 8,
   "metadata": {},
   "outputs": [
    {
     "name": "stdout",
     "output_type": "stream",
     "text": [
      "1 513 4 0.05\n"
     ]
    }
   ],
   "source": [
    "name = \"ML_parameter.dat\" #load n_conv, con_dim,kill (killsmall)\n",
    "tmp = open(name, \"r\")\n",
    "tmp=tmp.read()\n",
    "exec(tmp)\n",
    "kill=float(kill)\n",
    "print(n_parameter,conv_dim,n_conv,kill)"
   ]
  },
  {
   "cell_type": "code",
   "execution_count": 9,
   "metadata": {},
   "outputs": [
    {
     "name": "stdout",
     "output_type": "stream",
     "text": [
      "1024 32.0 0.03125\n"
     ]
    }
   ],
   "source": [
    "data_file = '../LJ_data_wall/data_all/'\n",
    "f=np.loadtxt(data_file+\"MC_parameter.dat\")\n",
    "L = float(f[0])\n",
    "dx = float(f[1])\n",
    "N = int(L/dx)\n",
    "print(N,L,dx)"
   ]
  },
  {
   "cell_type": "code",
   "execution_count": 10,
   "metadata": {},
   "outputs": [],
   "source": [
    "#for i in range (len(w_array)):\n",
    "#    w_array[i][0:int(2//dx)]=0\n",
    "#    w_array[i][conv_dim-int(2//dx):conv_dim]=0\n",
    "    "
   ]
  },
  {
   "cell_type": "code",
   "execution_count": 11,
   "metadata": {},
   "outputs": [
    {
     "name": "stderr",
     "output_type": "stream",
     "text": [
      "/home/sam/anaconda3/lib/python3.6/site-packages/matplotlib/font_manager.py:1241: UserWarning: findfont: Font family ['sans-serif'] not found. Falling back to DejaVu Sans.\n",
      "  (prop.get_family(), self.defaultFamily[fontext]))\n"
     ]
    },
    {
     "data": {
      "image/png": "[encoded data removed]",
      "text/plain": [
       "<Figure size 432x288 with 1 Axes>"
      ]
     },
     "metadata": {},
     "output_type": "display_data"
    }
   ],
   "source": [
    "x=np.linspace(-conv_dim*dx/2,conv_dim*dx/2,conv_dim)\n",
    "for i in range (n_conv):\n",
    "    plt.plot(x,w_array[i],linewidth=3,label=r\"$\\omega_{\"+str(i)+\"}$\")\n",
    "plt.legend(fontsize=15)\n",
    "plt.xlabel(r\"$x(\\sigma)$\",fontsize=20)\n",
    "plt.ylabel(r\"$\\omega$\",fontsize=20)\n",
    "plt.xticks(fontsize=15)\n",
    "plt.yticks(fontsize=15)\n",
    "#plt.xlim([-4,4])\n",
    "#plt.ylim([np.min(w_array)-0.05,0.8])\n",
    "\n",
    "plt.savefig(\"whr.eps\",format=\"eps\",bbox_inches='tight')"
   ]
  },
  {
   "cell_type": "code",
   "execution_count": 12,
   "metadata": {},
   "outputs": [
    {
     "data": {
      "text/plain": [
       "<function __main__.fed_eqn>"
      ]
     },
     "execution_count": 12,
     "metadata": {},
     "output_type": "execute_result"
    }
   ],
   "source": [
    "fed_eqn"
   ]
  },
  {
   "cell_type": "code",
   "execution_count": 13,
   "metadata": {},
   "outputs": [
    {
     "data": {
      "text/plain": [
       "a2L3*(a1L12*n0 + a1L13*n1 + a1L14*n2 + a1L15*eps0*n3)*(a1L16*n0 + a1L17*n1 + a1L18*n2 + a1L19*eps0*n3) + a2L4*(a1L20*n0 + a1L21*n1 + a1L22*n2 + a1L23*eps0*n3)*(a1L24*n0 + a1L25*n1 + a1L26*n2 + a1L27*eps0*n3) + a2L5*(a1L28*n0 + a1L29*n1 + a1L30*n2 + a1L31*eps0*n3)/(a1L32*n0 + a1L33*n1 + a1L34*n2 + a1L35*eps0*n3 + 1) + (a2L18*(a1L0*n0 + a1L1*n1 + a1L2*n2 + a1L3*eps0*n3) + a2L19*(exp(a1L4*n0 + a1L5*n1 + a1L6*n2 + a1L7*eps0*n3) - 1) + a2L20*log(a1L10*n2 + a1L11*eps0*n3 + a1L8*n0 + a1L9*n1 + 1) + a2L21*(a1L12*n0 + a1L13*n1 + a1L14*n2 + a1L15*eps0*n3)*(a1L16*n0 + a1L17*n1 + a1L18*n2 + a1L19*eps0*n3) + a2L22*(a1L20*n0 + a1L21*n1 + a1L22*n2 + a1L23*eps0*n3)*(a1L24*n0 + a1L25*n1 + a1L26*n2 + a1L27*eps0*n3) + a2L23*(a1L28*n0 + a1L29*n1 + a1L30*n2 + a1L31*eps0*n3)/(a1L32*n0 + a1L33*n1 + a1L34*n2 + a1L35*eps0*n3 + 1))*(a2L24*(a1L0*n0 + a1L1*n1 + a1L2*n2 + a1L3*eps0*n3) + a2L25*(exp(a1L4*n0 + a1L5*n1 + a1L6*n2 + a1L7*eps0*n3) - 1) + a2L26*log(a1L10*n2 + a1L11*eps0*n3 + a1L8*n0 + a1L9*n1 + 1) + a2L27*(a1L12*n0 + a1L13*n1 + a1L14*n2 + a1L15*eps0*n3)*(a1L16*n0 + a1L17*n1 + a1L18*n2 + a1L19*eps0*n3) + a2L28*(a1L20*n0 + a1L21*n1 + a1L22*n2 + a1L23*eps0*n3)*(a1L24*n0 + a1L25*n1 + a1L26*n2 + a1L27*eps0*n3) + a2L29*(a1L28*n0 + a1L29*n1 + a1L30*n2 + a1L31*eps0*n3)/(a1L32*n0 + a1L33*n1 + a1L34*n2 + a1L35*eps0*n3 + 1)) + (a2L30*(a1L0*n0 + a1L1*n1 + a1L2*n2 + a1L3*eps0*n3) + a2L31*(exp(a1L4*n0 + a1L5*n1 + a1L6*n2 + a1L7*eps0*n3) - 1) + a2L32*log(a1L10*n2 + a1L11*eps0*n3 + a1L8*n0 + a1L9*n1 + 1) + a2L33*(a1L12*n0 + a1L13*n1 + a1L14*n2 + a1L15*eps0*n3)*(a1L16*n0 + a1L17*n1 + a1L18*n2 + a1L19*eps0*n3) + a2L34*(a1L20*n0 + a1L21*n1 + a1L22*n2 + a1L23*eps0*n3)*(a1L24*n0 + a1L25*n1 + a1L26*n2 + a1L27*eps0*n3) + a2L35*(a1L28*n0 + a1L29*n1 + a1L30*n2 + a1L31*eps0*n3)/(a1L32*n0 + a1L33*n1 + a1L34*n2 + a1L35*eps0*n3 + 1))*(a2L36*(a1L0*n0 + a1L1*n1 + a1L2*n2 + a1L3*eps0*n3) + a2L37*(exp(a1L4*n0 + a1L5*n1 + a1L6*n2 + a1L7*eps0*n3) - 1) + a2L38*log(a1L10*n2 + a1L11*eps0*n3 + a1L8*n0 + a1L9*n1 + 1) + a2L39*(a1L12*n0 + a1L13*n1 + a1L14*n2 + a1L15*eps0*n3)*(a1L16*n0 + a1L17*n1 + a1L18*n2 + a1L19*eps0*n3) + a2L40*(a1L20*n0 + a1L21*n1 + a1L22*n2 + a1L23*eps0*n3)*(a1L24*n0 + a1L25*n1 + a1L26*n2 + a1L27*eps0*n3) + a2L41*(a1L28*n0 + a1L29*n1 + a1L30*n2 + a1L31*eps0*n3)/(a1L32*n0 + a1L33*n1 + a1L34*n2 + a1L35*eps0*n3 + 1)) + (a2L42*(a1L0*n0 + a1L1*n1 + a1L2*n2 + a1L3*eps0*n3) + a2L43*(exp(a1L4*n0 + a1L5*n1 + a1L6*n2 + a1L7*eps0*n3) - 1) + a2L44*log(a1L10*n2 + a1L11*eps0*n3 + a1L8*n0 + a1L9*n1 + 1) + a2L45*(a1L12*n0 + a1L13*n1 + a1L14*n2 + a1L15*eps0*n3)*(a1L16*n0 + a1L17*n1 + a1L18*n2 + a1L19*eps0*n3) + a2L46*(a1L20*n0 + a1L21*n1 + a1L22*n2 + a1L23*eps0*n3)*(a1L24*n0 + a1L25*n1 + a1L26*n2 + a1L27*eps0*n3) + a2L47*(a1L28*n0 + a1L29*n1 + a1L30*n2 + a1L31*eps0*n3)/(a1L32*n0 + a1L33*n1 + a1L34*n2 + a1L35*eps0*n3 + 1))/(a2L48*(a1L0*n0 + a1L1*n1 + a1L2*n2 + a1L3*eps0*n3) + a2L49*(exp(a1L4*n0 + a1L5*n1 + a1L6*n2 + a1L7*eps0*n3) - 1) + a2L50*log(a1L10*n2 + a1L11*eps0*n3 + a1L8*n0 + a1L9*n1 + 1) + a2L51*(a1L12*n0 + a1L13*n1 + a1L14*n2 + a1L15*eps0*n3)*(a1L16*n0 + a1L17*n1 + a1L18*n2 + a1L19*eps0*n3) + a2L52*(a1L20*n0 + a1L21*n1 + a1L22*n2 + a1L23*eps0*n3)*(a1L24*n0 + a1L25*n1 + a1L26*n2 + a1L27*eps0*n3) + a2L53*(a1L28*n0 + a1L29*n1 + a1L30*n2 + a1L31*eps0*n3)/(a1L32*n0 + a1L33*n1 + a1L34*n2 + a1L35*eps0*n3 + 1) + 1) + exp(a2L10*(a1L20*n0 + a1L21*n1 + a1L22*n2 + a1L23*eps0*n3)*(a1L24*n0 + a1L25*n1 + a1L26*n2 + a1L27*eps0*n3) + a2L11*(a1L28*n0 + a1L29*n1 + a1L30*n2 + a1L31*eps0*n3)/(a1L32*n0 + a1L33*n1 + a1L34*n2 + a1L35*eps0*n3 + 1) + a2L9*(a1L12*n0 + a1L13*n1 + a1L14*n2 + a1L15*eps0*n3)*(a1L16*n0 + a1L17*n1 + a1L18*n2 + a1L19*eps0*n3)) + log(a2L15*(a1L12*n0 + a1L13*n1 + a1L14*n2 + a1L15*eps0*n3)*(a1L16*n0 + a1L17*n1 + a1L18*n2 + a1L19*eps0*n3) + a2L16*(a1L20*n0 + a1L21*n1 + a1L22*n2 + a1L23*eps0*n3)*(a1L24*n0 + a1L25*n1 + a1L26*n2 + a1L27*eps0*n3) + a2L17*(a1L28*n0 + a1L29*n1 + a1L30*n2 + a1L31*eps0*n3)/(a1L32*n0 + a1L33*n1 + a1L34*n2 + a1L35*eps0*n3 + 1) + 1) - 1"
      ]
     },
     "execution_count": 13,
     "metadata": {},
     "output_type": "execute_result"
    }
   ],
   "source": [
    "fed_eqn()"
   ]
  },
  {
   "cell_type": "code",
   "execution_count": 14,
   "metadata": {},
   "outputs": [],
   "source": [
    "name = \"all_parameter.dat\"\n",
    "tmp = open(name, \"r\")\n",
    "tmp=tmp.read()\n",
    "#print(tmp)\n",
    "tmp=tmp.replace(\"/varible:0\",\":\")\n",
    "tmp=tmp.replace(\"/const_1:0\",\":\")\n",
    "\n",
    "for i in range(100):\n",
    "    tmp=tmp.replace(\"_\"+str(i),\"\")\n",
    "tmp=tmp.replace(\"[[\",\"\")\n",
    "tmp=tmp.replace(\"]]\",\"\")\n",
    "tmp=tmp.replace(\"\\n\",\",\")\n",
    "tmp=tmp.replace(\":\",\"\\\":\")\n",
    "tmp=tmp.replace(\",\",\",\\\"\")\n",
    "tmp=\"{\\\"\"+tmp+\"}\"\n",
    "tmp=tmp.replace(\",\\\"}\",\"}\")\n",
    "#print(tmp)\n",
    "dict_all=ast.literal_eval(tmp)"
   ]
  },
  {
   "cell_type": "code",
   "execution_count": 15,
   "metadata": {},
   "outputs": [
    {
     "data": {
      "text/plain": [
       "{'a1L0': 0.19529162,\n",
       " 'a1L1': 0.18304563,\n",
       " 'a1L10': 0.09582391,\n",
       " 'a1L11': -0.31787732,\n",
       " 'a1L12': 0.15260038,\n",
       " 'a1L13': -0.29205367,\n",
       " 'a1L14': -0.39168647,\n",
       " 'a1L15': 0.0632784,\n",
       " 'a1L16': 0.2187326,\n",
       " 'a1L17': 0.15640846,\n",
       " 'a1L18': -0.26057413,\n",
       " 'a1L19': 0.12526949,\n",
       " 'a1L2': 1.0018656,\n",
       " 'a1L20': 0.15196347,\n",
       " 'a1L21': -0.39830536,\n",
       " 'a1L22': 0.11997815,\n",
       " 'a1L23': -0.03030449,\n",
       " 'a1L24': -0.27385,\n",
       " 'a1L25': -0.38018966,\n",
       " 'a1L26': 0.3314684,\n",
       " 'a1L27': 0.4507714,\n",
       " 'a1L28': -0.5044318,\n",
       " 'a1L29': -0.08790455,\n",
       " 'a1L3': 0.93097246,\n",
       " 'a1L30': -1.0639597,\n",
       " 'a1L31': -0.97701424,\n",
       " 'a1L32': -0.00234923,\n",
       " 'a1L33': -1.1627965,\n",
       " 'a1L34': 0.04196057,\n",
       " 'a1L35': -0.3635221,\n",
       " 'a1L4': 0.44950384,\n",
       " 'a1L5': -1.1509488e-05,\n",
       " 'a1L6': 0.00031649,\n",
       " 'a1L7': -0.2018587,\n",
       " 'a1L8': 0.01228818,\n",
       " 'a1L9': -0.00022734,\n",
       " 'a2L10': -0.35030738,\n",
       " 'a2L11': 0.0,\n",
       " 'a2L15': -0.22600088,\n",
       " 'a2L16': -0.02515141,\n",
       " 'a2L17': 0.0,\n",
       " 'a2L18': -0.3567244,\n",
       " 'a2L19': 0.23668459,\n",
       " 'a2L20': 0.00063893,\n",
       " 'a2L21': -0.2522629,\n",
       " 'a2L22': 0.33147037,\n",
       " 'a2L23': -0.9429856,\n",
       " 'a2L24': 0.27127704,\n",
       " 'a2L25': 0.00637047,\n",
       " 'a2L26': 0.10039082,\n",
       " 'a2L27': 0.92346215,\n",
       " 'a2L28': -0.46068865,\n",
       " 'a2L29': 0.14548723,\n",
       " 'a2L3': -0.20664054,\n",
       " 'a2L30': -0.01781666,\n",
       " 'a2L31': -0.04820137,\n",
       " 'a2L32': 0.00068909,\n",
       " 'a2L33': -0.00031338,\n",
       " 'a2L34': -0.5505477,\n",
       " 'a2L35': 0.00053333,\n",
       " 'a2L36': -0.52447474,\n",
       " 'a2L37': 0.00014677,\n",
       " 'a2L38': 0.02122729,\n",
       " 'a2L39': -0.2448266,\n",
       " 'a2L4': -0.09906254,\n",
       " 'a2L40': 0.24892256,\n",
       " 'a2L41': -0.38916522,\n",
       " 'a2L42': 0.0,\n",
       " 'a2L43': 0.0,\n",
       " 'a2L44': 0.0,\n",
       " 'a2L45': -0.050811,\n",
       " 'a2L46': -0.04217633,\n",
       " 'a2L47': 0.0,\n",
       " 'a2L48': 0.2127195,\n",
       " 'a2L49': -0.04613002,\n",
       " 'a2L5': 0.0,\n",
       " 'a2L50': -0.37683868,\n",
       " 'a2L51': 0.60074455,\n",
       " 'a2L52': -0.7482393,\n",
       " 'a2L53': -0.14144817,\n",
       " 'a2L9': -0.18994287}"
      ]
     },
     "execution_count": 15,
     "metadata": {},
     "output_type": "execute_result"
    }
   ],
   "source": [
    "dict_all"
   ]
  },
  {
   "cell_type": "code",
   "execution_count": 16,
   "metadata": {},
   "outputs": [
    {
     "name": "stdout",
     "output_type": "stream",
     "text": [
      "81 26\n"
     ]
    }
   ],
   "source": [
    "kill_small=0\n",
    "for i in list(dict_all.keys()):\n",
    "    if(np.abs(dict_all[i])<kill and i[0]==\"a\"):\n",
    "        dict_all[i]=0\n",
    "        kill_small+=1\n",
    "print(len(dict_all.keys()),kill_small)"
   ]
  },
  {
   "cell_type": "code",
   "execution_count": 17,
   "metadata": {},
   "outputs": [],
   "source": [
    "input_symbols = fed_eqn().subs(dict_all).free_symbols"
   ]
  },
  {
   "cell_type": "code",
   "execution_count": 18,
   "metadata": {},
   "outputs": [
    {
     "data": {
      "text/plain": [
       "-0.5505477*(0.15196347*n0 - 0.39830536*n1 + 0.11997815*n2)*(0.4507714*eps0*n3 - 0.27385*n0 - 0.38018966*n1 + 0.3314684*n2)*(-0.48827153890566*eps0*n3 - 0.102425521623679*n0 - 0.0960028092023862*n1 - 0.525453200074944*n2 + 0.24892256*(0.15196347*n0 - 0.39830536*n1 + 0.11997815*n2)*(0.4507714*eps0*n3 - 0.27385*n0 - 0.38018966*n1 + 0.3314684*n2) - 0.2448266*(0.0632784*eps0*n3 + 0.15260038*n0 - 0.29205367*n1 - 0.39168647*n2)*(0.12526949*eps0*n3 + 0.2187326*n0 + 0.15640846*n1 - 0.26057413*n2) - 0.38916522*(-0.97701424*eps0*n3 - 0.5044318*n0 - 0.08790455*n1 - 1.0639597*n2)/(-0.3635221*eps0*n3 - 1.1627965*n1 + 1)) - 0.09906254*(0.15196347*n0 - 0.39830536*n1 + 0.11997815*n2)*(0.4507714*eps0*n3 - 0.27385*n0 - 0.38018966*n1 + 0.3314684*n2) - 0.20664054*(0.0632784*eps0*n3 + 0.15260038*n0 - 0.29205367*n1 - 0.39168647*n2)*(0.12526949*eps0*n3 + 0.2187326*n0 + 0.15640846*n1 - 0.26057413*n2) - 0.050811*(0.0632784*eps0*n3 + 0.15260038*n0 - 0.29205367*n1 - 0.39168647*n2)*(0.12526949*eps0*n3 + 0.2187326*n0 + 0.15640846*n1 - 0.26057413*n2)/(0.19803599620497*eps0*n3 + 0.04154233576059*n0 + 0.038937374890785*n1 + 0.2131163494992*n2 - 0.7482393*(0.15196347*n0 - 0.39830536*n1 + 0.11997815*n2)*(0.4507714*eps0*n3 - 0.27385*n0 - 0.38018966*n1 + 0.3314684*n2) + 0.60074455*(0.0632784*eps0*n3 + 0.15260038*n0 - 0.29205367*n1 - 0.39168647*n2)*(0.12526949*eps0*n3 + 0.2187326*n0 + 0.15640846*n1 - 0.26057413*n2) - 0.37683868*log(-0.31787732*eps0*n3 + 0.09582391*n2 + 1) + 1 - 0.14144817*(-0.97701424*eps0*n3 - 0.5044318*n0 - 0.08790455*n1 - 1.0639597*n2)/(-0.3635221*eps0*n3 - 1.1627965*n1 + 1)) + (0.252551453270318*eps0*n3 + 0.0529781326104048*n0 + 0.0496560766913352*n1 + 0.271783134445824*n2 - 0.46068865*(0.15196347*n0 - 0.39830536*n1 + 0.11997815*n2)*(0.4507714*eps0*n3 - 0.27385*n0 - 0.38018966*n1 + 0.3314684*n2) + 0.92346215*(0.0632784*eps0*n3 + 0.15260038*n0 - 0.29205367*n1 - 0.39168647*n2)*(0.12526949*eps0*n3 + 0.2187326*n0 + 0.15640846*n1 - 0.26057413*n2) + 0.10039082*log(-0.31787732*eps0*n3 + 0.09582391*n2 + 1) + 0.14548723*(-0.97701424*eps0*n3 - 0.5044318*n0 - 0.08790455*n1 - 1.0639597*n2)/(-0.3635221*eps0*n3 - 1.1627965*n1 + 1))*(-0.332100592210024*eps0*n3 - 0.069665285969528*n0 - 0.065296842534372*n1 - 0.35738990504064*n2 + 0.33147037*(0.15196347*n0 - 0.39830536*n1 + 0.11997815*n2)*(0.4507714*eps0*n3 - 0.27385*n0 - 0.38018966*n1 + 0.3314684*n2) - 0.2522629*(0.0632784*eps0*n3 + 0.15260038*n0 - 0.29205367*n1 - 0.39168647*n2)*(0.12526949*eps0*n3 + 0.2187326*n0 + 0.15640846*n1 - 0.26057413*n2) + 0.23668459*exp(-0.2018587*eps0*n3 + 0.44950384*n0) - 0.23668459 - 0.9429856*(-0.97701424*eps0*n3 - 0.5044318*n0 - 0.08790455*n1 - 1.0639597*n2)/(-0.3635221*eps0*n3 - 1.1627965*n1 + 1)) + exp(-0.35030738*(0.15196347*n0 - 0.39830536*n1 + 0.11997815*n2)*(0.4507714*eps0*n3 - 0.27385*n0 - 0.38018966*n1 + 0.3314684*n2) - 0.18994287*(0.0632784*eps0*n3 + 0.15260038*n0 - 0.29205367*n1 - 0.39168647*n2)*(0.12526949*eps0*n3 + 0.2187326*n0 + 0.15640846*n1 - 0.26057413*n2)) + log(-0.22600088*(0.0632784*eps0*n3 + 0.15260038*n0 - 0.29205367*n1 - 0.39168647*n2)*(0.12526949*eps0*n3 + 0.2187326*n0 + 0.15640846*n1 - 0.26057413*n2) + 1) - 1"
      ]
     },
     "execution_count": 18,
     "metadata": {},
     "output_type": "execute_result"
    }
   ],
   "source": [
    " fed_eqn().subs(dict_all)"
   ]
  },
  {
   "cell_type": "code",
   "execution_count": 19,
   "metadata": {},
   "outputs": [],
   "source": [
    "input_str = \"[\"\n",
    "for i in range(n_parameter):\n",
    "    input_str+=\"seps\"+str(i)+\",\"\n",
    "for i in range(n_conv):\n",
    "    input_str+=\"sn\"+str(i)+\",\"\n",
    "input_str += \"]\"\n",
    "tmp = \"input_str=\"+input_str\n",
    "exec(tmp)"
   ]
  },
  {
   "cell_type": "code",
   "execution_count": 20,
   "metadata": {},
   "outputs": [
    {
     "data": {
      "text/plain": [
       "[[eps0, n0, n1, n2, n3]]"
      ]
     },
     "execution_count": 20,
     "metadata": {},
     "output_type": "execute_result"
    }
   ],
   "source": [
    "[input_str]"
   ]
  },
  {
   "cell_type": "code",
   "execution_count": 21,
   "metadata": {},
   "outputs": [],
   "source": [
    "fd = lambdify(input_str,fed_eqn().subs(dict_all))"
   ]
  },
  {
   "cell_type": "code",
   "execution_count": 22,
   "metadata": {},
   "outputs": [
    {
     "data": {
      "text/plain": [
       "<function numpy.<lambda>>"
      ]
     },
     "execution_count": 22,
     "metadata": {},
     "output_type": "execute_result"
    }
   ],
   "source": [
    "fd"
   ]
  },
  {
   "cell_type": "code",
   "execution_count": 23,
   "metadata": {},
   "outputs": [],
   "source": [
    "#simplify(diff(fed_eqn().subs(dict_all),sn0)-diff(fed_eqn(),sn0).subs(dict_all))"
   ]
  },
  {
   "cell_type": "code",
   "execution_count": 24,
   "metadata": {},
   "outputs": [
    {
     "name": "stdout",
     "output_type": "stream",
     "text": [
      "fd_n0 =lambdify(input_str,diff(fed_eqn(),sn0).subs(dict_all))\n",
      "fd_n1 =lambdify(input_str,diff(fed_eqn(),sn1).subs(dict_all))\n",
      "fd_n2 =lambdify(input_str,diff(fed_eqn(),sn2).subs(dict_all))\n",
      "fd_n3 =lambdify(input_str,diff(fed_eqn(),sn3).subs(dict_all))\n"
     ]
    }
   ],
   "source": [
    "for i in range(n_conv):\n",
    "    eqn_str = \"fd_n\"+str(i)+\" =lambdify(input_str,diff(fed_eqn(),sn\"+str(i)+\").subs(dict_all))\"\n",
    "    print(eqn_str)\n",
    "    exec(eqn_str)"
   ]
  },
  {
   "cell_type": "code",
   "execution_count": 25,
   "metadata": {},
   "outputs": [
    {
     "data": {
      "text/plain": [
       "<function numpy.<lambda>>"
      ]
     },
     "execution_count": 25,
     "metadata": {},
     "output_type": "execute_result"
    }
   ],
   "source": [
    "fd"
   ]
  },
  {
   "cell_type": "code",
   "execution_count": 26,
   "metadata": {},
   "outputs": [
    {
     "data": {
      "text/plain": [
       "<function numpy.<lambda>>"
      ]
     },
     "execution_count": 26,
     "metadata": {},
     "output_type": "execute_result"
    }
   ],
   "source": [
    "fd_n2"
   ]
  },
  {
   "cell_type": "code",
   "execution_count": 27,
   "metadata": {},
   "outputs": [],
   "source": [
    "n_array = np.zeros([n_conv,N])"
   ]
  },
  {
   "cell_type": "code",
   "execution_count": 28,
   "metadata": {},
   "outputs": [],
   "source": [
    "#@jit\n",
    "def conv (rho,w):\n",
    "    LLw = int((conv_dim-1)/2)\n",
    "    #print(LLw)\n",
    "    rho_pad=np.copy(rho)\n",
    "    rho_tile=np.tile(rho_pad,3)\n",
    "    rho_pad=rho_tile[N-LLw:2*N+LLw]\n",
    "    n = np.correlate(rho_pad,w)\n",
    "    return n*dx"
   ]
  },
  {
   "cell_type": "markdown",
   "metadata": {},
   "source": [
    "# $C_2$"
   ]
  },
  {
   "cell_type": "code",
   "execution_count": 29,
   "metadata": {},
   "outputs": [],
   "source": [
    "def cal_c2_FMT(x,rho0):\n",
    "    c2 = np.zeros(x.shape[0])\n",
    "    for i in range(Lw):\n",
    "        r=np.abs(x[i])\n",
    "        eta = rho0\n",
    "        if(r<1):\n",
    "            c2[i]=-1/(1-eta)-eta/((1-eta)**2)*(1-r)\n",
    "        else:\n",
    "            c2[i]=0\n",
    "    return c2\n",
    "    "
   ]
  },
  {
   "cell_type": "code",
   "execution_count": 30,
   "metadata": {},
   "outputs": [],
   "source": [
    "def wconvw (rho,w):\n",
    "    Lw=conv_dim\n",
    "    LLw = int((conv_dim-1)/2)\n",
    "    rho_pad=np.copy(rho)\n",
    "    rho_pad=np.pad(rho_pad,(LLw,LLw),mode='constant',constant_values=0)\n",
    "    n = np.correlate(rho_pad,w)\n",
    "    return n*dx"
   ]
  },
  {
   "cell_type": "code",
   "execution_count": 31,
   "metadata": {},
   "outputs": [
    {
     "data": {
      "text/plain": [
       "<function numpy.<lambda>>"
      ]
     },
     "execution_count": 31,
     "metadata": {},
     "output_type": "execute_result"
    }
   ],
   "source": [
    "fd"
   ]
  },
  {
   "cell_type": "code",
   "execution_count": 32,
   "metadata": {},
   "outputs": [],
   "source": [
    "c2_sim=np.loadtxt(\"../c2_LJ/c2_z_1.5_eps_1.5_rho_avg_0.61\")"
   ]
  },
  {
   "cell_type": "code",
   "execution_count": null,
   "metadata": {},
   "outputs": [],
   "source": []
  },
  {
   "cell_type": "code",
   "execution_count": 33,
   "metadata": {},
   "outputs": [],
   "source": [
    "def cal_c2_ML(rho0,eps):\n",
    "    srho0=symbols('rho') \n",
    "    \n",
    "    sub_str = \"({\"\n",
    "    for i in range (n_conv):\n",
    "        sub_str+=\"\\\"n\"+str(i)+\"\\\":np.sum(w_array[\"+str(i)+\"])*dx*srho0,\"\n",
    "    sub_str += \"seps0:\"+str(eps)\n",
    "    sub_str += \"})\"\n",
    "    fd=fed_eqn().subs(dict_all)\n",
    "    c2 = np.zeros(conv_dim)\n",
    "    for i in range (n_conv):\n",
    "        for j in range (n_conv):\n",
    "            print(i,j,n_conv)\n",
    "            temp=wconvw(w_array[i],w_array[j])\n",
    "            str_temp= \"diff(diff(fd,sn\"+str(i)+\"),sn\"+str(j)+\").subs\"+sub_str\n",
    "            tmp=eval(str_temp)\n",
    "            tmp=float(tmp.subs({\"rho\":rho0}))\n",
    "            #tmp=float(tmp.subs({\"eps\":eps}))\n",
    "            \n",
    "            #print(type(tmp),tmp)\n",
    "            #print(type(tmp),tmp)\n",
    "            \n",
    "            #print(tmp.subs({\"rho\":rho0}))\n",
    "            #print(tmp,type(Float(tmp)),type(temp))\n",
    "            c2-=eps*tmp*temp\n",
    "    return c2"
   ]
  },
  {
   "cell_type": "code",
   "execution_count": 34,
   "metadata": {},
   "outputs": [
    {
     "name": "stdout",
     "output_type": "stream",
     "text": [
      "0 0 4\n",
      "0 1 4\n",
      "0 2 4\n",
      "0 3 4\n",
      "1 0 4\n",
      "1 1 4\n",
      "1 2 4\n",
      "1 3 4\n",
      "2 0 4\n",
      "2 1 4\n",
      "2 2 4\n",
      "2 3 4\n",
      "3 0 4\n",
      "3 1 4\n",
      "3 2 4\n",
      "3 3 4\n"
     ]
    }
   ],
   "source": [
    "c2=cal_c2_ML(0.5,0.5)"
   ]
  },
  {
   "cell_type": "code",
   "execution_count": 35,
   "metadata": {},
   "outputs": [
    {
     "name": "stdout",
     "output_type": "stream",
     "text": [
      "0 0 4\n",
      "0 1 4\n",
      "0 2 4\n",
      "0 3 4\n",
      "1 0 4\n",
      "1 1 4\n",
      "1 2 4\n",
      "1 3 4\n",
      "2 0 4\n",
      "2 1 4\n",
      "2 2 4\n",
      "2 3 4\n",
      "3 0 4\n",
      "3 1 4\n",
      "3 2 4\n",
      "3 3 4\n"
     ]
    },
    {
     "data": {
      "text/plain": [
       "Text(0.5, 1.0, '$\\\\rho=0.5$')"
      ]
     },
     "execution_count": 35,
     "metadata": {},
     "output_type": "execute_result"
    },
    {
     "name": "stderr",
     "output_type": "stream",
     "text": [
      "/home/sam/anaconda3/lib/python3.6/site-packages/matplotlib/font_manager.py:1241: UserWarning: findfont: Font family ['sans-serif'] not found. Falling back to DejaVu Sans.\n",
      "  (prop.get_family(), self.defaultFamily[fontext]))\n"
     ]
    },
    {
     "data": {
      "image/png": "[encoded data removed]",
      "text/plain": [
       "<Figure size 432x288 with 1 Axes>"
      ]
     },
     "metadata": {},
     "output_type": "display_data"
    }
   ],
   "source": [
    "Lw=conv_dim\n",
    "LLw = int((conv_dim-1)/2)\n",
    "rho0=0.5\n",
    "x = np.linspace(-LLw,LLw,Lw)*dx\n",
    "plt.plot(x,cal_c2_ML(rho0,0.5),\"k--\",label=\"ML\")\n",
    "plt.legend(fontsize=20)\n",
    "\n",
    "plt.ylabel(r\"$C_2(x)$\",fontsize=25)\n",
    "plt.xlabel(r\"$x(\\sigma)$\",fontsize=25)\n",
    "plt.title(r\"$\\rho=\"+str(rho0)+\"$\",fontsize=25)"
   ]
  },
  {
   "cell_type": "code",
   "execution_count": 36,
   "metadata": {},
   "outputs": [
    {
     "name": "stdout",
     "output_type": "stream",
     "text": [
      "0 0 4\n",
      "0 1 4\n",
      "0 2 4\n",
      "0 3 4\n",
      "1 0 4\n",
      "1 1 4\n",
      "1 2 4\n",
      "1 3 4\n",
      "2 0 4\n",
      "2 1 4\n",
      "2 2 4\n",
      "2 3 4\n",
      "3 0 4\n",
      "3 1 4\n",
      "3 2 4\n",
      "3 3 4\n"
     ]
    },
    {
     "name": "stderr",
     "output_type": "stream",
     "text": [
      "/home/sam/anaconda3/lib/python3.6/site-packages/matplotlib/font_manager.py:1241: UserWarning: findfont: Font family ['sans-serif'] not found. Falling back to DejaVu Sans.\n",
      "  (prop.get_family(), self.defaultFamily[fontext]))\n"
     ]
    },
    {
     "data": {
      "image/png": "[encoded data removed]",
      "text/plain": [
       "<Figure size 432x288 with 1 Axes>"
      ]
     },
     "metadata": {},
     "output_type": "display_data"
    }
   ],
   "source": [
    "Lw=conv_dim\n",
    "LLw = int((conv_dim-1)/2)\n",
    "\n",
    "x = np.linspace(-LLw,LLw,Lw)*dx\n",
    "\n",
    "\n",
    "c2_sim=np.loadtxt(\"../c2_LJ/c2_z_1.85_eps_1.85_rho_avg_0.70\")\n",
    "eps=1.85\n",
    "rho0=0.703\n",
    "plt.plot(c2_sim[0],c2_sim[1],\"k-\",lw=3,label=r\"MC,\\,$\\rho_0=$\"+str(rho0)+ r\"$\\,,\\epsilon$=\"+str(eps))\n",
    "plt.plot(x,cal_c2_ML(rho0,eps)+cal_c2_FMT(x,rho0),\"k--\",lw=3,label=\"ML\")\n",
    "plt.legend(fontsize=12,loc=\"best\")\n",
    "\n",
    "plt.ylabel(r\"$C_2(x)$\",fontsize=25)\n",
    "plt.xlabel(r\"$x(\\sigma)$\",fontsize=25)\n",
    "plt.xticks(fontsize=15)\n",
    "plt.yticks(fontsize=15)\n",
    "#plt.title(r\"$\\rho=\"+str(rho0)+\"$\",fontsize=25)\n",
    "plt.xlim(0,3)\n",
    "\n",
    "\n",
    "\n",
    "plt.savefig(\"c2_LJ.eps\",format=\"eps\",bbox_inches='tight')"
   ]
  },
  {
   "cell_type": "code",
   "execution_count": 37,
   "metadata": {},
   "outputs": [
    {
     "name": "stdout",
     "output_type": "stream",
     "text": [
      "0 0 4\n",
      "0 1 4\n",
      "0 2 4\n",
      "0 3 4\n",
      "1 0 4\n",
      "1 1 4\n",
      "1 2 4\n",
      "1 3 4\n",
      "2 0 4\n",
      "2 1 4\n",
      "2 2 4\n",
      "2 3 4\n",
      "3 0 4\n",
      "3 1 4\n",
      "3 2 4\n",
      "3 3 4\n"
     ]
    },
    {
     "data": {
      "text/plain": [
       "Text(0.5, 1.0, '$\\\\rho=0.1$')"
      ]
     },
     "execution_count": 37,
     "metadata": {},
     "output_type": "execute_result"
    },
    {
     "data": {
      "image/png": "[encoded data removed]",
      "text/plain": [
       "<Figure size 432x288 with 1 Axes>"
      ]
     },
     "metadata": {},
     "output_type": "display_data"
    }
   ],
   "source": [
    "Lw=conv_dim\n",
    "LLw = int((conv_dim-1)/2)\n",
    "rho0=0.1\n",
    "x = np.linspace(-LLw,LLw,Lw)*dx\n",
    "plt.plot(x,cal_c2_ML(rho0,0.1)+cal_c2_FMT(x,rho0),\"k--\",label=\"ML\")\n",
    "plt.legend(fontsize=20)\n",
    "\n",
    "plt.ylabel(r\"$C_2(x)$\",fontsize=25)\n",
    "plt.xlabel(r\"$x(\\sigma)$\",fontsize=25)\n",
    "plt.title(r\"$\\rho=\"+str(rho0)+\"$\",fontsize=25)"
   ]
  },
  {
   "cell_type": "code",
   "execution_count": 38,
   "metadata": {},
   "outputs": [
    {
     "name": "stdout",
     "output_type": "stream",
     "text": [
      "0 0 4\n",
      "0 1 4\n",
      "0 2 4\n",
      "0 3 4\n",
      "1 0 4\n",
      "1 1 4\n",
      "1 2 4\n",
      "1 3 4\n",
      "2 0 4\n",
      "2 1 4\n",
      "2 2 4\n",
      "2 3 4\n",
      "3 0 4\n",
      "3 1 4\n",
      "3 2 4\n",
      "3 3 4\n"
     ]
    },
    {
     "data": {
      "image/png": "[encoded data removed]",
      "text/plain": [
       "<Figure size 432x288 with 1 Axes>"
      ]
     },
     "metadata": {},
     "output_type": "display_data"
    }
   ],
   "source": [
    "\n",
    "x = np.linspace(-LLw,LLw,Lw)*dx\n",
    "\n",
    "c2_sim=np.loadtxt(\"../c2_LJ/c2_z_1.85_eps_1.85_rho_avg_0.70\")\n",
    "c2_ML_nosplitting=np.loadtxt(\n",
    "    \"../LJ_no_split/ML_no_splitting_c2_eps_1.85_rho0_0.703.dat\")\n",
    "\n",
    "eps=1.85\n",
    "rho0=0.7\n",
    "\n",
    "\n",
    "plt.plot(c2_sim[0],c2_sim[1],\"k-\",lw=3,label=r\"LJ, MC\")\n",
    "plt.plot(c2_ML_nosplitting[0][::2],c2_ML_nosplitting[1][::2],\"grey\",linestyle='dotted',lw=3,label=\"LJ, ML-no splitting\")\n",
    "plt.plot(x,cal_c2_ML(rho0,eps)+cal_c2_FMT(x,rho0),\"red\",linestyle='dashed',lw=3,label=\"LJ, ML-splitting\")\n",
    "\n",
    "c2_ML_HR=np.loadtxt(\n",
    "    \"../../HR/functional_test/ML_HR_rho0_0.70.dat\")\n",
    "#plt.plot(x,cal_c2_FMT(x,0.7),\"b-\",lw=2,label=r\"HR, FMT,\\,$\\rho_0=$\"+str(rho0))\n",
    "plt.plot(x,cal_c2_FMT(x,0.7),\"b-\",lw=3,label=r\"HR, Percus\")\n",
    "plt.plot(c2_ML_HR[0],c2_ML_HR[1],\"g--\",lw=3,label=r\"HR, ML\")\n",
    "\n",
    "\n",
    "\n",
    "\n",
    "plt.legend(fontsize=12,loc=\"best\")\n",
    "plt.ylabel(r\"$C^{(2)}(x)$\",fontsize=25)\n",
    "plt.xlabel(r\"$x/\\sigma$\",fontsize=25)\n",
    "plt.xticks(fontsize=20)\n",
    "plt.yticks(np.linspace(-20,8,8),fontsize=20)\n",
    "#plt.title(r\"$\\rho=\"+str(rho0)+\"$\",fontsize=25)\n",
    "plt.xlim(0,2.7)\n",
    "#plt.xlim(-4,4)\n",
    "\n",
    "plt.ylim(-12,4.5)\n",
    "\n",
    "plt.savefig(\"c2_all.eps\",format=\"eps\",bbox_inches='tight')"
   ]
  }
 ],
 "metadata": {
  "kernelspec": {
   "display_name": "Python 3",
   "language": "python",
   "name": "python3"
  },
  "language_info": {
   "codemirror_mode": {
    "name": "ipython",
    "version": 3
   },
   "file_extension": ".py",
   "mimetype": "text/x-python",
   "name": "python",
   "nbconvert_exporter": "python",
   "pygments_lexer": "ipython3",
   "version": "3.6.9"
  }
 },
 "nbformat": 4,
 "nbformat_minor": 2
}
