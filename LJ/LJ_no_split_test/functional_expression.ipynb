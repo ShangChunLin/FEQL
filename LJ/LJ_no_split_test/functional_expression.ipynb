{
 "cells": [
  {
   "cell_type": "code",
   "execution_count": null,
   "metadata": {},
   "outputs": [],
   "source": [
    "from __future__ import print_function, division\n",
    "from sympy import init_printing\n",
    "from sympy.printing.codeprinter import CodePrinter\n",
    "from sympy.printing.precedence import precedence\n",
    "from sympy.printing.str import StrPrinter\n",
    "from sympy import *\n",
    "import ast\n",
    "import numpy as np\n",
    "import matplotlib.pyplot as plt"
   ]
  },
  {
   "cell_type": "code",
   "execution_count": null,
   "metadata": {},
   "outputs": [],
   "source": [
    "#init_session()"
   ]
  },
  {
   "cell_type": "code",
   "execution_count": null,
   "metadata": {},
   "outputs": [],
   "source": [
    "name = \"free_energy_def.dat\"\n",
    "tmp = open(name, \"r\")\n",
    "tmp=tmp.read()\n",
    "exec(tmp)"
   ]
  },
  {
   "cell_type": "code",
   "execution_count": null,
   "metadata": {},
   "outputs": [],
   "source": [
    "name = \"ML_parameter.dat\" #load n_conv, con_dim,kill (killsmall)\n",
    "tmp = open(name, \"r\")\n",
    "tmp=tmp.read()\n",
    "exec(tmp)\n",
    "kill=float(kill)\n",
    "print(n_parameter,conv_dim,n_conv,kill)"
   ]
  },
  {
   "cell_type": "code",
   "execution_count": null,
   "metadata": {},
   "outputs": [],
   "source": [
    "name = \"assign_symbols_final.dat\"\n",
    "tmp = open(name, \"r\")\n",
    "tmp=tmp.read()\n",
    "tmp=tmp.replace(\"eps0\",\"epsilon0\")\n",
    "tmp=tmp.replace(\"sepsilon0\",\"seps0\")\n",
    "\n",
    "exec(tmp)"
   ]
  },
  {
   "cell_type": "code",
   "execution_count": null,
   "metadata": {},
   "outputs": [],
   "source": [
    "tmp"
   ]
  },
  {
   "cell_type": "code",
   "execution_count": null,
   "metadata": {},
   "outputs": [],
   "source": [
    "fed_eqn"
   ]
  },
  {
   "cell_type": "code",
   "execution_count": null,
   "metadata": {},
   "outputs": [],
   "source": [
    "name = \"fed_latex.dat\"\n",
    "tmp = open(name, \"w\")\n",
    "tmp_string = str(latex(fed_eqn())).replace(\"epsilon_{0}\",\"epsilon\")\n",
    "tmp.write(tmp_string)\n",
    "tmp.close()\n",
    "#tmp.write(str(latex(fed_eqn(syms))).replace(\"epsilon_{0}\",\"epsilon\"))"
   ]
  },
  {
   "cell_type": "code",
   "execution_count": null,
   "metadata": {},
   "outputs": [],
   "source": [
    "#latex(fed_eqn(syms))"
   ]
  },
  {
   "cell_type": "code",
   "execution_count": null,
   "metadata": {},
   "outputs": [],
   "source": [
    "\n",
    "name = \"all_parameter.dat\"\n",
    "tmp = open(name, \"r\")\n",
    "tmp=tmp.read()\n",
    "#print(tmp)\n",
    "tmp=tmp.replace(\"/varible:0\",\":\")\n",
    "tmp=tmp.replace(\"/const_1:0\",\":\")\n",
    "\n",
    "for i in range(100):\n",
    "    tmp=tmp.replace(\"_\"+str(i),\"\")\n",
    "tmp=tmp.replace(\"[[\",\"\")\n",
    "tmp=tmp.replace(\"]]\",\"\")\n",
    "tmp=tmp.replace(\"\\n\",\",\")\n",
    "tmp=tmp.replace(\":\",\"\\\":\")\n",
    "tmp=tmp.replace(\",\",\",\\\"\")\n",
    "tmp=\"{\\\"\"+tmp+\"}\"\n",
    "tmp=tmp.replace(\",\\\"}\",\"}\")\n",
    "#print(tmp)\n",
    "dict_all=ast.literal_eval(tmp)"
   ]
  },
  {
   "cell_type": "code",
   "execution_count": null,
   "metadata": {},
   "outputs": [],
   "source": [
    "for i in list(dict_all.keys()):\n",
    "    if(np.abs(dict_all[i])<kill):\n",
    "        dict_all[i]=0\n",
    "    #dict_all[i]=np.round(dict_all[i],3)"
   ]
  },
  {
   "cell_type": "code",
   "execution_count": null,
   "metadata": {},
   "outputs": [],
   "source": [
    "fed_eqn().subs(dict_all)"
   ]
  },
  {
   "cell_type": "code",
   "execution_count": null,
   "metadata": {},
   "outputs": [],
   "source": [
    "name = \"fed_latex_number.dat\"\n",
    "tmp = open(name, \"w\")\n",
    "tmp_string = str(latex(fed_eqn().subs(dict_all))).replace(\"epsilon_{0}\",\"epsilon\")\n",
    "tmp.write(tmp_string)\n",
    "tmp.close()\n",
    "eqn = fed_eqn().subs(dict_all)\n",
    "eqn2=eqn\n",
    "for a in preorder_traversal(eqn):\n",
    "    if isinstance(a, Float):\n",
    "        eqn2 = eqn2.subs(a, round(a, 1))\n",
    "name = \"fed_latex_number.dat\"\n",
    "tmp = open(name, \"w\")\n",
    "tmp_string = str(latex(nsimplify(eqn2))).replace(\"epsilon_{0}\",\"epsilon\")\n",
    "tmp.write(tmp_string)\n",
    "tmp.close()"
   ]
  },
  {
   "cell_type": "code",
   "execution_count": null,
   "metadata": {},
   "outputs": [],
   "source": [
    "nsimplify(eqn2)"
   ]
  },
  {
   "cell_type": "code",
   "execution_count": null,
   "metadata": {},
   "outputs": [],
   "source": [
    "data_file = '../LJ_data_all_correct/'\n",
    "f=np.loadtxt(data_file+\"MC_parameter.dat\")\n",
    "print(f)\n",
    "L = float(f[0])\n",
    "dx = float(f[1])\n",
    "N = int(f[2])\n",
    "print(N,L,dx)\n",
    "w_array=np.loadtxt(\"w_array.dat\")"
   ]
  },
  {
   "cell_type": "code",
   "execution_count": null,
   "metadata": {},
   "outputs": [],
   "source": [
    "srho=symbols('rho') \n",
    "f=fed_eqn()\n",
    "f=f.subs({sn0:np.sum(w_array[0])*dx*srho})\n",
    "f=f.subs({sn1:np.sum(w_array[1])*dx*srho})\n",
    "f=f.subs({sn2:np.sum(w_array[2])*dx*srho})\n",
    "f=f.subs({sn3:np.sum(w_array[3])*dx*srho})\n",
    "f=f.subs({sn4:np.sum(w_array[4])*dx*srho})\n",
    "f=f.subs({sn5:np.sum(w_array[5])*dx*srho})\n",
    "f=f.subs(dict_all)\n",
    "#f2=f\n",
    "#for a in preorder_traversal(f):\n",
    "#    if isinstance(a, Float):\n",
    "#        f2 = f2.subs(a, round(a, 1))\n",
    "mathematica_code(f)"
   ]
  },
  {
   "cell_type": "code",
   "execution_count": null,
   "metadata": {},
   "outputs": [],
   "source": [
    "P=series(-f+diff(f,srho)*srho,srho,n=10)\n",
    "P2=P\n",
    "for a in preorder_traversal(P):\n",
    "    if isinstance(a, Float):\n",
    "        P2 = P2.subs(a, round(a, 2))\n",
    "P2"
   ]
  },
  {
   "cell_type": "code",
   "execution_count": null,
   "metadata": {},
   "outputs": [],
   "source": [
    "P2"
   ]
  },
  {
   "cell_type": "code",
   "execution_count": null,
   "metadata": {},
   "outputs": [],
   "source": [
    "P=(-f+diff(f,srho)*srho)+srho\n",
    "diifP = diff(P,srho)\n",
    "diifP.subs({\"epsilon0\":0.1,\"rho\":0.1})\n",
    "rho_array=np.linspace(0,0.99,100)\n",
    "diffP_array = np.zeros(len(rho_array))\n",
    "\n",
    "for i in range (len(rho_array)):\n",
    "    diffP_array[i]=diifP.subs({\"epsilon0\":1,\"rho\":rho_array[i]})"
   ]
  },
  {
   "cell_type": "code",
   "execution_count": null,
   "metadata": {},
   "outputs": [],
   "source": [
    "rho_array=np.linspace(0,0.99,100)\n",
    "diffP_array = np.zeros(len(rho_array))\n",
    "\n",
    "for i in range (100000):\n",
    "    eps=1+i/10\n",
    "    tmp=0\n",
    "    print(\"epsilon\\t=\\t\",eps)\n",
    "    for j in range (len(rho_array)):\n",
    "        tmp=diifP.subs({\"epsilon0\":eps,\"rho\":rho_array[j]})\n",
    "        if(tmp<0):\n",
    "            print(\"L-V at epsilon>=\\t\",eps)\n",
    "            print(\"L-V at rho>=\\t\",rho_array[j])\n",
    "            break\n",
    "    if(tmp<0):\n",
    "        break"
   ]
  },
  {
   "cell_type": "code",
   "execution_count": null,
   "metadata": {},
   "outputs": [],
   "source": [
    "rho_array=np.linspace(0,0.99,100)\n",
    "diffP_array = np.zeros(len(rho_array))\n",
    "\n",
    "for i in range (100000):\n",
    "    eps=3.6+i/100\n",
    "    tmp=0\n",
    "    print(\"epsilon\\t=\\t\",eps)\n",
    "    for j in range (len(rho_array)):\n",
    "        tmp=diifP.subs({\"epsilon0\":eps,\"rho\":rho_array[j]})\n",
    "        if(tmp<0):\n",
    "            print(\"L-V at epsilon>=\\t\",eps)\n",
    "            print(\"L-V at rho>=\\t\",rho_array[j])\n",
    "            break\n",
    "    if(tmp<0):\n",
    "        break"
   ]
  },
  {
   "cell_type": "code",
   "execution_count": null,
   "metadata": {},
   "outputs": [],
   "source": [
    "P=(-f+diff(f,srho)*srho)+srho\n",
    "diifP = diff(P,srho)\n",
    "rho_array=np.linspace(0,0.99,100)\n",
    "P_array = np.zeros(len(rho_array))\n",
    "diffP_array = np.zeros(len(rho_array))\n",
    "eps=4.5\n",
    "for i in range (len(rho_array)):\n",
    "    diffP_array[i]=diifP.subs({\"epsilon0\":eps,\"rho\":rho_array[i]})\n",
    "    P_array[i]=P.subs({\"epsilon0\":eps,\"rho\":rho_array[i]})"
   ]
  },
  {
   "cell_type": "code",
   "execution_count": null,
   "metadata": {},
   "outputs": [],
   "source": [
    "plt.plot(rho_array,diffP_array)\n",
    "np.min(diffP_array)"
   ]
  },
  {
   "cell_type": "code",
   "execution_count": null,
   "metadata": {},
   "outputs": [],
   "source": [
    "plt.plot(rho_array,P_array)\n",
    "plt.ylim([np.min(P_array)-0.1,2])"
   ]
  },
  {
   "cell_type": "code",
   "execution_count": null,
   "metadata": {},
   "outputs": [],
   "source": []
  }
 ],
 "metadata": {
  "kernelspec": {
   "display_name": "Python 3",
   "language": "python",
   "name": "python3"
  },
  "language_info": {
   "codemirror_mode": {
    "name": "ipython",
    "version": 3
   },
   "file_extension": ".py",
   "mimetype": "text/x-python",
   "name": "python",
   "nbconvert_exporter": "python",
   "pygments_lexer": "ipython3",
   "version": "3.6.9"
  }
 },
 "nbformat": 4,
 "nbformat_minor": 2
}
