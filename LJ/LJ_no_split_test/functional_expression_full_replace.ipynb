{
 "cells": [
  {
   "cell_type": "code",
   "execution_count": null,
   "metadata": {},
   "outputs": [],
   "source": [
    "from __future__ import print_function, division\n",
    "from sympy import init_printing\n",
    "from sympy.printing.codeprinter import CodePrinter\n",
    "from sympy.printing.precedence import precedence\n",
    "from sympy.printing.str import StrPrinter\n",
    "from sympy import *\n",
    "import ast\n",
    "import numpy as np "
   ]
  },
  {
   "cell_type": "code",
   "execution_count": null,
   "metadata": {},
   "outputs": [],
   "source": [
    "#init_session()"
   ]
  },
  {
   "cell_type": "code",
   "execution_count": null,
   "metadata": {},
   "outputs": [],
   "source": [
    "name = \"free_energy_def.dat\"\n",
    "tmp = open(name, \"r\")\n",
    "tmp=tmp.read()\n",
    "exec(tmp)"
   ]
  },
  {
   "cell_type": "code",
   "execution_count": null,
   "metadata": {},
   "outputs": [],
   "source": [
    "name = \"ML_parameter.dat\" #load n_conv, con_dim,kill (killsmall)\n",
    "tmp = open(name, \"r\")\n",
    "tmp=tmp.read()\n",
    "exec(tmp)\n",
    "kill=float(kill)\n",
    "print(n_parameter,conv_dim,n_conv,kill)"
   ]
  },
  {
   "cell_type": "code",
   "execution_count": null,
   "metadata": {},
   "outputs": [],
   "source": [
    "name = \"assign_symbols_final.dat\"\n",
    "tmp = open(name, \"r\")\n",
    "tmp=tmp.read()\n",
    "tmp=tmp.replace(\"eps0\",\"epsilon0\")\n",
    "tmp=tmp.replace(\"sepsilon0\",\"seps0\")\n",
    "\n",
    "exec(tmp)"
   ]
  },
  {
   "cell_type": "code",
   "execution_count": null,
   "metadata": {},
   "outputs": [],
   "source": [
    "tmp"
   ]
  },
  {
   "cell_type": "code",
   "execution_count": null,
   "metadata": {},
   "outputs": [],
   "source": [
    "fed_eqn"
   ]
  },
  {
   "cell_type": "code",
   "execution_count": null,
   "metadata": {},
   "outputs": [],
   "source": [
    "\n",
    "name = \"all_parameter.dat\"\n",
    "tmp = open(name, \"r\")\n",
    "tmp=tmp.read()\n",
    "#print(tmp)\n",
    "tmp=tmp.replace(\"/varible:0\",\":\")\n",
    "tmp=tmp.replace(\"/const_1:0\",\":\")\n",
    "\n",
    "for i in range(100):\n",
    "    tmp=tmp.replace(\"_\"+str(i),\"\")\n",
    "tmp=tmp.replace(\"[[\",\"\")\n",
    "tmp=tmp.replace(\"]]\",\"\")\n",
    "tmp=tmp.replace(\"\\n\",\",\")\n",
    "tmp=tmp.replace(\":\",\"\\\":\")\n",
    "tmp=tmp.replace(\",\",\",\\\"\")\n",
    "tmp=\"{\\\"\"+tmp+\"}\"\n",
    "tmp=tmp.replace(\",\\\"}\",\"}\")\n",
    "#print(tmp)\n",
    "dict_all=ast.literal_eval(tmp)"
   ]
  },
  {
   "cell_type": "code",
   "execution_count": null,
   "metadata": {},
   "outputs": [],
   "source": [
    "for i in list(dict_all.keys()):\n",
    "    if(np.abs(dict_all[i])<kill):\n",
    "        dict_all[i]=0\n",
    "    #dict_all[i]=np.round(dict_all[i],1)"
   ]
  },
  {
   "cell_type": "code",
   "execution_count": null,
   "metadata": {},
   "outputs": [],
   "source": [
    "tmp = \"{\"\n",
    "for i in list(dict_all.keys()):\n",
    "    if(dict_all[i]==0):\n",
    "        tmp+=str(i)+\"->\"+\"0,\"\n",
    "tmp+=\"}\"\n",
    "#tmp[-2]=\"\"\n",
    "print(tmp)"
   ]
  },
  {
   "cell_type": "code",
   "execution_count": null,
   "metadata": {},
   "outputs": [],
   "source": [
    "fed_eqn().subs(dict_all)"
   ]
  },
  {
   "cell_type": "code",
   "execution_count": null,
   "metadata": {},
   "outputs": [],
   "source": [
    "data_file = '../LJ_data_all_correct/'\n",
    "f=np.loadtxt(data_file+\"MC_parameter.dat\")\n",
    "L = float(f[0])\n",
    "N = int(f[2])\n",
    "dx = (L/N)\n",
    "print(N,L,dx)\n",
    "w_array=np.loadtxt(\"w_array.dat\")"
   ]
  },
  {
   "cell_type": "code",
   "execution_count": null,
   "metadata": {},
   "outputs": [],
   "source": [
    "srho=symbols('rho') \n",
    "f=fed_eqn()\n",
    "#f=f.subs({sn0:np.sum(w_array[0])*dx*srho})\n",
    "#f=f.subs({sn1:np.sum(w_array[1])*dx*srho})\n",
    "#f=f.subs({sn2:np.sum(w_array[2])*dx*srho})\n",
    "#f=f.subs({sn3:np.sum(w_array[3])*dx*srho})\n",
    "f=f.subs(dict_all)"
   ]
  },
  {
   "cell_type": "code",
   "execution_count": null,
   "metadata": {},
   "outputs": [],
   "source": [
    "def non_zeros(a):\n",
    "    a=float(a)\n",
    "    power=np.floor(np.log10(np.abs(a)))\n",
    "    coeff = np.round(np.abs(a)/10**power)\n",
    "    sign = np.round(a/np.abs(a))\n",
    "    return sign*coeff*10**(power)"
   ]
  },
  {
   "cell_type": "code",
   "execution_count": null,
   "metadata": {},
   "outputs": [],
   "source": [
    "f2=f\n",
    "for a in preorder_traversal(f):\n",
    "    if isinstance(a, Float):\n",
    "        f2 = f2.subs(a, non_zeros(a))\n",
    "nsimplify(f2, tolerance=1e-4)"
   ]
  },
  {
   "cell_type": "code",
   "execution_count": null,
   "metadata": {},
   "outputs": [],
   "source": [
    "f2=f\n",
    "for a in preorder_traversal(f):\n",
    "    if isinstance(a, Float):\n",
    "        f2 = f2.subs(a, round(a, 1))"
   ]
  },
  {
   "cell_type": "code",
   "execution_count": null,
   "metadata": {},
   "outputs": [],
   "source": [
    "nsimplify(f2, tolerance=1e-4)"
   ]
  },
  {
   "cell_type": "code",
   "execution_count": null,
   "metadata": {},
   "outputs": [],
   "source": [
    "name = \"fed_latex_simple.dat\"\n",
    "tmp_file = open(name, \"w\")\n",
    "tmp_eqn=str(latex(nsimplify(f2, tolerance=1e-4)))\n",
    "count=0\n",
    "for _ in range (100):\n",
    "    for i in range (len(tmp_eqn)):\n",
    "        if(tmp_eqn[i:i+6]==\"\\left(\"):\n",
    "            for j in range (i+5,len(tmp_eqn)):\n",
    "                if(tmp_eqn[j:j+6]==\"\\left(\" or tmp_eqn[j]==\"y\"):\n",
    "                    break;\n",
    "                if(tmp_eqn[j:j+6]==\"right)\"):\n",
    "                    replace_str=tmp_eqn[i:j+6]\n",
    "                    print(\"y_\"+str(count)+\"=\"+replace_str)\n",
    "                    tmp_eqn=tmp_eqn.replace(tmp_eqn[i:j+6],\n",
    "                                            \"y_{\"+str(count)+\"}\")\n",
    "                    count+=1\n",
    "                    break\n",
    "        if(tmp_eqn[i:i+3]==\"e^{\"):\n",
    "            left_par=1\n",
    "            for j in range (i+3,len(tmp_eqn)):\n",
    "                if(tmp_eqn[j]==\"}\"):\n",
    "                    left_par-=1\n",
    "                if(tmp_eqn[j]==\"{\"):\n",
    "                    left_par+=1\n",
    "                if(left_par==0):\n",
    "                    replace_str=tmp_eqn[i+3:j]\n",
    "                    print(\"y_\"+str(count)+\"=\"+replace_str)\n",
    "                    tmp_eqn=tmp_eqn.replace(tmp_eqn[i+3:j],\n",
    "                                            \"y_{\"+str(count)+\"}\")\n",
    "                    count+=1\n",
    "                    break\n",
    "                if(tmp_eqn[j]==\"y\"):\n",
    "                    break;\n",
    "                            \n",
    "print(tmp_eqn)\n",
    "tmp_eqn=tmp_eqn.replace(\"log\",\"ln\")\n",
    "tmp_file.write(\"&\\\\FML = \\\\,\\\\int dx \\\\, \")\n",
    "tmp_file.write(tmp_eqn)\n",
    "tmp_file.write(\"\\\\\\\\\")\n",
    "tmp_file.write(\"\\n\")\n",
    "tmp_eqn=str(latex(nsimplify(f2, tolerance=1e-4)))\n",
    "Count=0\n",
    "for _ in range (100):\n",
    "    for i in range (len(tmp_eqn)):\n",
    "        if(tmp_eqn[i:i+6]==\"\\left(\"):\n",
    "            for j in range (i+5,len(tmp_eqn)):\n",
    "                if(tmp_eqn[j:j+6]==\"\\left(\"or tmp_eqn[j]==\"y\"):\n",
    "                    break;\n",
    "                \n",
    "                if(tmp_eqn[j:j+6]==\"right)\"):\n",
    "                    replace_str=tmp_eqn[i:j+6]\n",
    "                    if(Count!=count-1):\n",
    "                        tmp_file.write(\"y_\"+str(Count)+\"=\"+replace_str[6:-7]+\",\\\\,\")\n",
    "                    elif(Count==count-1):\n",
    "                        tmp_file.write(\"y_\"+str(Count)+\"=\"+replace_str[6:-7])\n",
    "                    \n",
    "                    tmp_eqn=tmp_eqn.replace(tmp_eqn[i:j+6],\n",
    "                                            \"y_{\"+str(count)+\"}\")\n",
    "                    Count+=1\n",
    "                    break\n",
    "        if(tmp_eqn[i:i+3]==\"e^{\"):\n",
    "            left_par=1\n",
    "            for j in range (i+3,len(tmp_eqn)):\n",
    "                if(tmp_eqn[j]==\"}\"):\n",
    "                    left_par-=1\n",
    "                if(tmp_eqn[j]==\"{\"):\n",
    "                    left_par+=1\n",
    "                if(left_par==0):\n",
    "                    replace_str=tmp_eqn[i+3:j]\n",
    "                    if(Count!=count-1):\n",
    "                        tmp_file.write(\"y_\"+str(Count)+\"=\"+replace_str+\",\\\\,\")\n",
    "                    elif(Count==count-1):\n",
    "                        tmp_file.write(\"y_\"+str(Count)+\"=\"+replace_str)\n",
    "                    \n",
    "                    tmp_eqn=tmp_eqn.replace(tmp_eqn[i+3:j],\n",
    "                                            \"y_{\"+str(count)+\"}\")\n",
    "                    Count+=1\n",
    "                    break\n",
    "                if(tmp_eqn[j]==\"y\"):\n",
    "                    break;\n",
    "\n",
    "tmp_file.close()\n"
   ]
  }
 ],
 "metadata": {
  "kernelspec": {
   "display_name": "Python 3",
   "language": "python",
   "name": "python3"
  },
  "language_info": {
   "codemirror_mode": {
    "name": "ipython",
    "version": 3
   },
   "file_extension": ".py",
   "mimetype": "text/x-python",
   "name": "python",
   "nbconvert_exporter": "python",
   "pygments_lexer": "ipython3",
   "version": "3.6.9"
  }
 },
 "nbformat": 4,
 "nbformat_minor": 2
}
